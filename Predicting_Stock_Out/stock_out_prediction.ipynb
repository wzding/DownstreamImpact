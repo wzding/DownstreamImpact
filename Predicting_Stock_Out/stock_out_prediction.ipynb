{
 "cells": [
  {
   "cell_type": "raw",
   "metadata": {},
   "source": [
    "<script>\n",
    "  jQuery(document).ready(function($) {  \n",
    "  \n",
    "  $(window).on('load', function(){\n",
    "    $('#preloader').fadeOut('slow',function(){$(this).remove();});\n",
    "  });\n",
    "  \n",
    "  });\n",
    "</script>\n",
    "\n",
    "<style type=\"text/css\">\n",
    "  div#preloader { position: fixed; \n",
    "      left: 0; \n",
    "      top: 0; \n",
    "      z-index: 999; \n",
    "      width: 100%; \n",
    "      height: 100%; \n",
    "      overflow: visible; \n",
    "      background: #fff url('http://preloaders.net/preloaders/720/Moving%20line.gif') no-repeat center center; \n",
    "  }\n",
    "\n",
    "</style>\n",
    "\n",
    "<div id=\"preloader\">\n",
    "\n",
    "</div>"
   ]
  },
  {
   "cell_type": "raw",
   "metadata": {},
   "source": [
    "<script>\n",
    "  function code_toggle() {\n",
    "    if (code_shown){\n",
    "      $('div.input').hide('500');\n",
    "      $('#toggleButton').val('Show Code')\n",
    "    } else {\n",
    "      $('div.input').show('500');\n",
    "      $('#toggleButton').val('Hide Code')\n",
    "    }\n",
    "    code_shown = !code_shown\n",
    "  } \n",
    "  \n",
    "  $( document ).ready(function(){\n",
    "    code_shown=false; \n",
    "    $('div.input').hide()\n",
    "  });\n",
    "</script>\n",
    "<form action=\"javascript:code_toggle()\"><input type=\"submit\" id=\"toggleButton\" value=\"Show Code\"></form>"
   ]
  },
  {
   "cell_type": "markdown",
   "metadata": {},
   "source": [
    "In this project, we use a few maching learning algorithms to predict stock out for a companies *ABC*. We will explore the data first and then create new features based on existing data. Our end goal is to develop three models to predict stock out for current week, this month, and next month. We'll compare the performances of our models in the end."
   ]
  },
  {
   "cell_type": "markdown",
   "metadata": {},
   "source": [
    "## Table of contents\n",
    "- [Data Source](#ds)\n",
    "- [Data Exploration](#de)\n",
    "- [Developing a Model](#dam)\n",
    "   - [Feature Engineering](#fe) \n",
    "- [Model 1 : Predicting stock out for the current week](#model1)\n",
    "   - [Confusion Matrix](#cm)\n",
    "   - [Feature Importance](#Importance)\n",
    "- [Model 2 : Predicting stock out for the next 1 - 4 weeks](#model2)\n",
    "- [Model 3 : Predicting stock out for the next 5 - 8 weeks](#model3)\n",
    "- [Comparision of Model Performances](#Comparision)\n",
    "- [Conclusion](#Conclusion)"
   ]
  },
  {
   "cell_type": "code",
   "execution_count": 1,
   "metadata": {
    "collapsed": true
   },
   "outputs": [],
   "source": [
    "import pandas as pd\n",
    "import numpy as np\n",
    "import datetime\n",
    "import time\n",
    "import warnings\n",
    "warnings.filterwarnings('ignore')\n",
    "\n",
    "import matplotlib.pyplot as plt\n",
    "%matplotlib inline "
   ]
  },
  {
   "cell_type": "markdown",
   "metadata": {},
   "source": [
    "----\n",
    "<a id='ds'></a>\n",
    "## Data Source\n",
    "[[ go back to the top ]](#Table-of-contents)"
   ]
  },
  {
   "cell_type": "code",
   "execution_count": 8,
   "metadata": {},
   "outputs": [
    {
     "name": "stdout",
     "output_type": "stream",
     "text": [
      "number of data points 2091\n"
     ]
    }
   ],
   "source": [
    "data = pd.read_excel('data_ml_project.xlsx')\n",
    "print(\"number of data points\",len(data))"
   ]
  },
  {
   "cell_type": "code",
   "execution_count": 9,
   "metadata": {
    "collapsed": true
   },
   "outputs": [],
   "source": [
    "data.columns = list(data.iloc[0])"
   ]
  },
  {
   "cell_type": "code",
   "execution_count": 10,
   "metadata": {
    "collapsed": true
   },
   "outputs": [],
   "source": [
    "data.columns = ['POS', 'Channel Inventory', 'Channel Receipts', 'SO Requested',\n",
    "       'SO Shipped', 'Forecast', 'PO Placed', 'PO Received', 'DC Inventory',\n",
    "       'CurrentWeek', 'Week1-4', 'Week5-8']"
   ]
  },
  {
   "cell_type": "code",
   "execution_count": 11,
   "metadata": {},
   "outputs": [
    {
     "name": "stdout",
     "output_type": "stream",
     "text": [
      "data columns are shown below: \n"
     ]
    },
    {
     "data": {
      "text/plain": [
       "Index(['POS', 'Channel Inventory', 'Channel Receipts', 'SO Requested',\n",
       "       'SO Shipped', 'Forecast', 'PO Placed', 'PO Received', 'DC Inventory',\n",
       "       'CurrentWeek', 'Week1-4', 'Week5-8'],\n",
       "      dtype='object')"
      ]
     },
     "execution_count": 11,
     "metadata": {},
     "output_type": "execute_result"
    }
   ],
   "source": [
    "print(\"data columns are shown below: \")\n",
    "data.columns"
   ]
  },
  {
   "cell_type": "markdown",
   "metadata": {},
   "source": [
    "1.\tPOS: Point of sale data. This represents the sales of TV stands in **retail stores** like Walmart, Target, etc,.\n",
    "2.\tChannel Inventory: This represents the ending inventory of TV stands at the **retail stores**.\n",
    "3.\tChannel Receipts: This is how many TV stands the **retailers** are receiving in any specific time period from ABC.\n",
    "4.\tSO Requested: This is number of TV stands ordered by retailers to **ABC**\n",
    "5.\tSO Shipped: This is the number of TV stands shipped by **ABC** to retailers. Note that this will match to \"Channel Receipts\" offset by a week. Week is the in transit time between ABC distribution center and retailer receiving locations. Also note that in some time periods, shipments are less than sales orders (when there is not enough inventory at ABC distribution center) and in some time periods, shipments are more than sales orders (when ABC is shipping back order goods).\n",
    "6.\tForecast: This is the average forecast of demand for the next several weeks as of that specific time period at **ABC**.\n",
    "7.\tPO placed: Purchase order created by **ABC** to its supplier in China for buying TV stands.\n",
    "8.\tPO Received: Purchase orders delivered at **ABC** distribution center from its Chinese supplier.\n",
    "9.\tDC Inventory: Historical inventory snapshot at the end of each week at **ABC**.\n",
    "10.\tCurrentWeek: If true, it means that a shortage has occurred at **ABC** for that week.\n",
    "11. Week_1_4: If true, it means that a shortage has occurred at **ABC** for the next 1 to 4 weeks.\n",
    "12. Week_5_8: If true, it means that a shortage has occurred at **ABC** for the next 5 to 8 week.\n",
    "\n",
    "![illustration](https://raw.githubusercontent.com/wzding/Machine_Learning_Nanodegree/master/Predicting_Stock_Out/stock_out_alert.jpg)"
   ]
  },
  {
   "cell_type": "markdown",
   "metadata": {},
   "source": [
    "----\n",
    "<a id='de'></a>\n",
    "## Data Exploration\n",
    "[[ go back to the top ]](#Table-of-contents)"
   ]
  },
  {
   "cell_type": "markdown",
   "metadata": {},
   "source": [
    "Note that this data is duplicated for a 4-year cycle, so we'll only look at the 1st 4 years data."
   ]
  },
  {
   "cell_type": "code",
   "execution_count": 13,
   "metadata": {
    "collapsed": true
   },
   "outputs": [],
   "source": [
    "data = data.iloc[1:209]  # select 1971 - 1974\n",
    "df = data.reset_index()\n",
    "df.columns = [\"Date\"] + list(data.columns)"
   ]
  },
  {
   "cell_type": "code",
   "execution_count": 9,
   "metadata": {
    "collapsed": true
   },
   "outputs": [],
   "source": [
    "def lineplot(df, cols, m=\"o\", title=\"?\", xlabel=\"?\", ylabel=\"?\", xticks=None):\n",
    "    '''\n",
    "    line plot\n",
    "    '''\n",
    "    pplt = df[cols].plot(marker=m, figsize=(14, 7))\n",
    "    pplt.set_title(title)\n",
    "    # pplt.set_title(\"%s and %s of %s\" % (column1, column2, ylabel))\n",
    "    pplt.set_xlabel(xlabel)\n",
    "    if xticks:\n",
    "        pplt.set_xticks(range(len(df[xticks])))\n",
    "        pplt.set_xticklabels(df[xticks])\n",
    "    pplt.set_ylabel(ylabel)\n",
    "    for tick in pplt.get_xticklabels():\n",
    "        tick.set_rotation(45)\n",
    "    return"
   ]
  },
  {
   "cell_type": "code",
   "execution_count": 10,
   "metadata": {},
   "outputs": [
    {
     "data": {
      "image/png": "[encoded data removed]",
      "text/plain": [
       "<matplotlib.figure.Figure at 0x7f73facf8710>"
      ]
     },
     "metadata": {},
     "output_type": "display_data"
    }
   ],
   "source": [
    "temp = df.set_index(\"Date\")\n",
    "lineplot(temp, [\"SO Requested\",\"SO Shipped\"], title=\"SO Requested vs. SO Shipped\", xlabel=\"Time\", ylabel=\"Count\")"
   ]
  },
  {
   "cell_type": "markdown",
   "metadata": {},
   "source": [
    "** When SO Requested > SO Shipped, a stock out happens. **"
   ]
  },
  {
   "cell_type": "code",
   "execution_count": 11,
   "metadata": {},
   "outputs": [
    {
     "data": {
      "image/png": "[encoded data removed]",
      "text/plain": [
       "<matplotlib.figure.Figure at 0x7f73fabb8550>"
      ]
     },
     "metadata": {},
     "output_type": "display_data"
    }
   ],
   "source": [
    "temp = df.set_index(\"Date\")\n",
    "lineplot(temp, ['POS', 'PO Received', 'DC Inventory'],\n",
    "         title=\"POS vs. Inventory\", xlabel=\"Time\", ylabel=\"Count\")"
   ]
  },
  {
   "cell_type": "markdown",
   "metadata": {},
   "source": [
    "Note that the magnitude of DC Inventory is much larger than PO Received and POS."
   ]
  },
  {
   "cell_type": "markdown",
   "metadata": {},
   "source": [
    "----\n",
    "<a id='dam'></a>\n",
    "## Developing Models\n",
    "[[ go back to the top ]](#Table-of-contents)"
   ]
  },
  {
   "cell_type": "markdown",
   "metadata": {},
   "source": [
    "<a id='fe'></a>\n",
    "### Feature Engineering\n",
    "[[ go back to the top ]](#Table-of-contents)"
   ]
  },
  {
   "cell_type": "markdown",
   "metadata": {},
   "source": [
    "The raw data consists of the following fields."
   ]
  },
  {
   "cell_type": "code",
   "execution_count": 12,
   "metadata": {},
   "outputs": [
    {
     "data": {
      "text/plain": [
       "Index(['POS', 'Channel Inventory', 'Channel Receipts', 'SO Requested',\n",
       "       'SO Shipped', 'Forecast', 'PO Placed', 'PO Received', 'DC Inventory',\n",
       "       'CurrentWeek', 'Week1-4', 'Week5-8'],\n",
       "      dtype='object')"
      ]
     },
     "execution_count": 12,
     "metadata": {},
     "output_type": "execute_result"
    }
   ],
   "source": [
    "data.columns"
   ]
  },
  {
   "cell_type": "markdown",
   "metadata": {},
   "source": [
    "First few rows of the raw data:"
   ]
  },
  {
   "cell_type": "code",
   "execution_count": 13,
   "metadata": {},
   "outputs": [
    {
     "data": {
      "text/html": [
       "<div>\n",
       "<style scoped>\n",
       "    .dataframe tbody tr th:only-of-type {\n",
       "        vertical-align: middle;\n",
       "    }\n",
       "\n",
       "    .dataframe tbody tr th {\n",
       "        vertical-align: top;\n",
       "    }\n",
       "\n",
       "    .dataframe thead th {\n",
       "        text-align: right;\n",
       "    }\n",
       "</style>\n",
       "<table border=\"1\" class=\"dataframe\">\n",
       "  <thead>\n",
       "    <tr style=\"text-align: right;\">\n",
       "      <th></th>\n",
       "      <th>POS</th>\n",
       "      <th>Channel Inventory</th>\n",
       "      <th>Channel Receipts</th>\n",
       "      <th>SO Requested</th>\n",
       "      <th>SO Shipped</th>\n",
       "      <th>Forecast</th>\n",
       "      <th>PO Placed</th>\n",
       "      <th>PO Received</th>\n",
       "      <th>DC Inventory</th>\n",
       "      <th>CurrentWeek</th>\n",
       "      <th>Week1-4</th>\n",
       "      <th>Week5-8</th>\n",
       "    </tr>\n",
       "  </thead>\n",
       "  <tbody>\n",
       "    <tr>\n",
       "      <th>1971-01-08</th>\n",
       "      <td>49</td>\n",
       "      <td>226</td>\n",
       "      <td>25</td>\n",
       "      <td>78</td>\n",
       "      <td>75</td>\n",
       "      <td>50</td>\n",
       "      <td>50</td>\n",
       "      <td>50</td>\n",
       "      <td>150</td>\n",
       "      <td>True</td>\n",
       "      <td>True</td>\n",
       "      <td>True</td>\n",
       "    </tr>\n",
       "    <tr>\n",
       "      <th>1971-01-15</th>\n",
       "      <td>99</td>\n",
       "      <td>202</td>\n",
       "      <td>75</td>\n",
       "      <td>24</td>\n",
       "      <td>25</td>\n",
       "      <td>50</td>\n",
       "      <td>50</td>\n",
       "      <td>50</td>\n",
       "      <td>175</td>\n",
       "      <td>False</td>\n",
       "      <td>True</td>\n",
       "      <td>False</td>\n",
       "    </tr>\n",
       "    <tr>\n",
       "      <th>1971-01-22</th>\n",
       "      <td>108</td>\n",
       "      <td>119</td>\n",
       "      <td>25</td>\n",
       "      <td>48</td>\n",
       "      <td>75</td>\n",
       "      <td>50</td>\n",
       "      <td>50</td>\n",
       "      <td>50</td>\n",
       "      <td>150</td>\n",
       "      <td>False</td>\n",
       "      <td>True</td>\n",
       "      <td>False</td>\n",
       "    </tr>\n",
       "    <tr>\n",
       "      <th>1971-01-29</th>\n",
       "      <td>33</td>\n",
       "      <td>161</td>\n",
       "      <td>75</td>\n",
       "      <td>131</td>\n",
       "      <td>131</td>\n",
       "      <td>50</td>\n",
       "      <td>131</td>\n",
       "      <td>50</td>\n",
       "      <td>69</td>\n",
       "      <td>False</td>\n",
       "      <td>True</td>\n",
       "      <td>False</td>\n",
       "    </tr>\n",
       "    <tr>\n",
       "      <th>1971-02-05</th>\n",
       "      <td>39</td>\n",
       "      <td>253</td>\n",
       "      <td>131</td>\n",
       "      <td>108</td>\n",
       "      <td>69</td>\n",
       "      <td>71</td>\n",
       "      <td>192</td>\n",
       "      <td>50</td>\n",
       "      <td>50</td>\n",
       "      <td>True</td>\n",
       "      <td>True</td>\n",
       "      <td>False</td>\n",
       "    </tr>\n",
       "  </tbody>\n",
       "</table>\n",
       "</div>"
      ],
      "text/plain": [
       "            POS Channel Inventory Channel Receipts SO Requested SO Shipped  \\\n",
       "1971-01-08   49               226               25           78         75   \n",
       "1971-01-15   99               202               75           24         25   \n",
       "1971-01-22  108               119               25           48         75   \n",
       "1971-01-29   33               161               75          131        131   \n",
       "1971-02-05   39               253              131          108         69   \n",
       "\n",
       "           Forecast PO Placed PO Received DC Inventory CurrentWeek Week1-4  \\\n",
       "1971-01-08       50        50          50          150        True    True   \n",
       "1971-01-15       50        50          50          175       False    True   \n",
       "1971-01-22       50        50          50          150       False    True   \n",
       "1971-01-29       50       131          50           69       False    True   \n",
       "1971-02-05       71       192          50           50        True    True   \n",
       "\n",
       "           Week5-8  \n",
       "1971-01-08    True  \n",
       "1971-01-15   False  \n",
       "1971-01-22   False  \n",
       "1971-01-29   False  \n",
       "1971-02-05   False  "
      ]
     },
     "execution_count": 13,
     "metadata": {},
     "output_type": "execute_result"
    }
   ],
   "source": [
    "data[1:6]"
   ]
  },
  {
   "cell_type": "markdown",
   "metadata": {},
   "source": [
    "The current data only have information of current week, we want to add a few new features to get previous weeks info as well."
   ]
  },
  {
   "cell_type": "code",
   "execution_count": 14,
   "metadata": {
    "collapsed": true
   },
   "outputs": [],
   "source": [
    "## must shift 'Sales Orders', 'Shipments', 'Ending Inventory', 'POS'\n",
    "## Channel Receipts = last week's shipment\n",
    "for col in ['POS', 'Channel Inventory',  'Channel Receipts','SO Requested']:\n",
    "    for i in range(2,6):\n",
    "        temp = str(col) + \"_\" + str(i)\n",
    "        df[temp] = df[col].shift(i)\n",
    "for col in ['SO Shipped', 'Forecast', 'PO Placed', 'PO Received', 'DC Inventory']:\n",
    "    for i in range(1,5):\n",
    "        temp = str(col) + \"_\" + str(i)\n",
    "        df[temp] = df[col].shift(i)\n",
    "        \n",
    "# df[\"POS_2\"] = df[\"POS\"].shift(2)\n",
    "# df[\"Channel_Inventory_2\"]  = df[\"Channel Inventory\"].shift(2)\n",
    "# df[\"Channel_Receipts_2\"]  = df[\"Channel Receipts\"].shift(2)\n",
    "# df[\"Sales_Orders_2\"]  = df[\"Sales Orders\"].shift(2)\n",
    "\n",
    "# df[\"Shipments_1\"]  = df[\"Shipments\"].shift(1)\n",
    "# df[\"Forecast_1\"]  = df[\"Forecast\"].shift(1)\n",
    "# df[\"PO_Placed_1\"]  = df[\"PO Placed\"].shift(1)\n",
    "# df[\"PO_Received_1\"]  = df[\"PO Received\"].shift(1)\n",
    "# df[\"Ending_Inventory_1\"]  = df[\"Ending Inventory\"].shift(1)\n",
    "\n",
    "df[\"Shortage_week_0\"] = df[\"CurrentWeek\"].apply(lambda x: int(x == True))\n",
    "df[\"Shortage_week_1_4\"] =  df[\"Week1-4\"].apply(lambda x: int(x == True))\n",
    "df[\"Shortage_week_5_8\"] =  df[\"Week5-8\"].apply(lambda x: int(x == True))"
   ]
  },
  {
   "cell_type": "markdown",
   "metadata": {},
   "source": [
    "We created a few features based on existing data fields."
   ]
  },
  {
   "cell_type": "code",
   "execution_count": 15,
   "metadata": {},
   "outputs": [
    {
     "data": {
      "text/plain": [
       "Index(['Date', 'POS', 'Channel Inventory', 'Channel Receipts', 'SO Requested',\n",
       "       'SO Shipped', 'Forecast', 'PO Placed', 'PO Received', 'DC Inventory',\n",
       "       'CurrentWeek', 'Week1-4', 'Week5-8', 'POS_2', 'POS_3', 'POS_4', 'POS_5',\n",
       "       'Channel Inventory_2', 'Channel Inventory_3', 'Channel Inventory_4',\n",
       "       'Channel Inventory_5', 'Channel Receipts_2', 'Channel Receipts_3',\n",
       "       'Channel Receipts_4', 'Channel Receipts_5', 'SO Requested_2',\n",
       "       'SO Requested_3', 'SO Requested_4', 'SO Requested_5', 'SO Shipped_1',\n",
       "       'SO Shipped_2', 'SO Shipped_3', 'SO Shipped_4', 'Forecast_1',\n",
       "       'Forecast_2', 'Forecast_3', 'Forecast_4', 'PO Placed_1', 'PO Placed_2',\n",
       "       'PO Placed_3', 'PO Placed_4', 'PO Received_1', 'PO Received_2',\n",
       "       'PO Received_3', 'PO Received_4', 'DC Inventory_1', 'DC Inventory_2',\n",
       "       'DC Inventory_3', 'DC Inventory_4', 'Shortage_week_0',\n",
       "       'Shortage_week_1_4', 'Shortage_week_5_8'],\n",
       "      dtype='object')"
      ]
     },
     "execution_count": 15,
     "metadata": {},
     "output_type": "execute_result"
    }
   ],
   "source": [
    "df.columns"
   ]
  },
  {
   "cell_type": "code",
   "execution_count": 18,
   "metadata": {},
   "outputs": [
    {
     "name": "stdout",
     "output_type": "stream",
     "text": [
      "number of data points 203\n"
     ]
    }
   ],
   "source": [
    "need_cols = ['POS_2',               'POS_3',               'POS_4',\n",
    "                     'POS_5', 'Channel Inventory_2', 'Channel Inventory_3',\n",
    "       'Channel Inventory_4', 'Channel Inventory_5',  'Channel Receipts_2',\n",
    "        'Channel Receipts_3',  'Channel Receipts_4',  'Channel Receipts_5',\n",
    "            'SO Requested_2',      'SO Requested_3',      'SO Requested_4',\n",
    "            'SO Requested_5',         'SO Shipped_1',         'SO Shipped_2',\n",
    "               'SO Shipped_3',         'SO Shipped_4',          'Forecast_1',\n",
    "                'Forecast_2',          'Forecast_3',          'Forecast_4',\n",
    "               'PO Placed_1',         'PO Placed_2',         'PO Placed_3',\n",
    "               'PO Placed_4',       'PO Received_1',       'PO Received_2',\n",
    "             'PO Received_3',       'PO Received_4',  'DC Inventory_1',\n",
    "        'DC Inventory_2',  'DC Inventory_3',  'DC Inventory_4',\n",
    "            'Forecast']\n",
    "avail_df = df[need_cols+['Shortage_week_0', 'Shortage_week_1_4', 'Shortage_week_5_8']].dropna()\n",
    "print(\"number of data points\",len(avail_df))"
   ]
  },
  {
   "cell_type": "code",
   "execution_count": 19,
   "metadata": {},
   "outputs": [
    {
     "name": "stdout",
     "output_type": "stream",
     "text": [
      "number of features 37\n"
     ]
    }
   ],
   "source": [
    "print(\"number of features\",len(need_cols))"
   ]
  },
  {
   "cell_type": "code",
   "execution_count": 20,
   "metadata": {
    "collapsed": true
   },
   "outputs": [],
   "source": [
    "from sklearn import datasets, linear_model\n",
    "from sklearn import metrics\n",
    "from sklearn.model_selection import train_test_split\n",
    "from sklearn.preprocessing import StandardScaler\n",
    "from sklearn.datasets import make_moons, make_circles, make_classification\n",
    "from sklearn.neural_network import MLPClassifier\n",
    "from sklearn.neighbors import KNeighborsClassifier\n",
    "from sklearn.svm import SVC\n",
    "from sklearn.gaussian_process import GaussianProcessClassifier\n",
    "from sklearn.gaussian_process.kernels import RBF\n",
    "from sklearn.tree import DecisionTreeClassifier\n",
    "from sklearn.ensemble import RandomForestClassifier, AdaBoostClassifier\n",
    "from sklearn.naive_bayes import GaussianNB\n",
    "from sklearn.discriminant_analysis import QuadraticDiscriminantAnalysis\n",
    "from sklearn.metrics import confusion_matrix\n",
    "import itertools"
   ]
  },
  {
   "cell_type": "code",
   "execution_count": 21,
   "metadata": {
    "collapsed": true
   },
   "outputs": [],
   "source": [
    "def plot_confusion_matrix(cm, classes,\n",
    "                          normalize=False,\n",
    "                          title='Confusion matrix',\n",
    "                          cmap=plt.cm.Blues):\n",
    "    \"\"\"\n",
    "    This function prints and plots the confusion matrix.\n",
    "    Normalization can be applied by setting `normalize=True`.\n",
    "    \"\"\"\n",
    "#     if normalize:\n",
    "#         cm = cm.astype('float') / cm.sum(axis=1)[:, np.newaxis]\n",
    "#         print(\"Normalized confusion matrix\")\n",
    "#     else:\n",
    "#         print('Confusion matrix, without normalization')\n",
    "#     print(cm)  # print matrix\n",
    "\n",
    "    plt.imshow(cm, interpolation='nearest', cmap=cmap)\n",
    "    plt.title(title)\n",
    "#     plt.colorbar()\n",
    "    tick_marks = np.arange(len(classes))\n",
    "    plt.xticks(tick_marks, classes, rotation=45)\n",
    "    plt.yticks(tick_marks, classes)\n",
    "\n",
    "    fmt = '.2f' if normalize else 'd'\n",
    "    thresh = cm.max() / 2.\n",
    "    for i, j in itertools.product(range(cm.shape[0]), range(cm.shape[1])):\n",
    "        plt.text(i, j, format(cm[i, j], fmt),\n",
    "                 horizontalalignment=\"center\",\n",
    "                 color=\"white\" if cm[i, j] > thresh else \"black\")\n",
    "\n",
    "    plt.tight_layout()\n",
    "    plt.ylabel('True label')\n",
    "    plt.xlabel('Predicted label')"
   ]
  },
  {
   "cell_type": "code",
   "execution_count": 36,
   "metadata": {
    "collapsed": true
   },
   "outputs": [],
   "source": [
    "h = .02  # step size in the mesh\n",
    "\n",
    "names = [\"Nearest Neighbors\", \"Linear SVM\", \"RBF SVM\", \"Gaussian Process\",\n",
    "         \"Decision Tree\", \"Random Forest\", \"Neural Net\", \"AdaBoost\",\n",
    "         \"Naive Bayes\", \"QDA\"]\n",
    "\n",
    "classifiers = [\n",
    "    KNeighborsClassifier(3),\n",
    "    SVC(kernel=\"linear\", C=0.025),\n",
    "    SVC(gamma=2, C=1),\n",
    "    GaussianProcessClassifier(1.0 * RBF(1.0)),\n",
    "    DecisionTreeClassifier(max_depth=5),\n",
    "    RandomForestClassifier(max_depth=5, n_estimators=10, max_features=1),\n",
    "    MLPClassifier(alpha=1),\n",
    "    AdaBoostClassifier(),\n",
    "    GaussianNB(),\n",
    "    QuadraticDiscriminantAnalysis()]"
   ]
  },
  {
   "cell_type": "markdown",
   "metadata": {},
   "source": [
    "----\n",
    "<a id='model1'></a>\n",
    "## Model 1 : Predicting stock out for the current week\n",
    "[[ go back to the top ]](#Table-of-contents)"
   ]
  },
  {
   "cell_type": "code",
   "execution_count": 117,
   "metadata": {
    "collapsed": true
   },
   "outputs": [],
   "source": [
    "X = avail_df[need_cols]\n",
    "y = list(avail_df[\"Shortage_week_0\"])\n",
    "X_train, X_test, y_train, y_test = train_test_split(X, y, test_size=0.33, random_state=42)"
   ]
  },
  {
   "cell_type": "code",
   "execution_count": 23,
   "metadata": {
    "collapsed": true
   },
   "outputs": [],
   "source": [
    "acc = []\n",
    "prec = []\n",
    "recall = []\n",
    "f1 = []\n",
    "\n",
    "for name, clf in zip(names, classifiers):\n",
    "#     print(name)\n",
    "    clf.fit(X_train, y_train)\n",
    "    score = clf.score(X_test, y_test)\n",
    "    y_pred = clf.predict(X_test)\n",
    "#     print(\"accuracy_score\")\n",
    "#     print(metrics.accuracy_score(y_test, y_pred))\n",
    "#     print(\"precision_score\")\n",
    "#     print(metrics.precision_score(y_test, y_pred))\n",
    "#     print(\"recall_score\")\n",
    "#     print(metrics.recall_score(y_test, y_pred))\n",
    "#     print(\"f1_score\")\n",
    "#     print(metrics.f1_score(y_test, y_pred))  \n",
    "    acc.append(metrics.accuracy_score(y_test, y_pred))\n",
    "    prec.append(metrics.precision_score(y_test, y_pred))\n",
    "    recall.append(metrics.recall_score(y_test, y_pred))\n",
    "    f1.append(metrics.f1_score(y_test, y_pred))  \n",
    "#     print(\"\")\n",
    "\n",
    "res1 = pd.DataFrame()\n",
    "res1[\"algorithm\"] = names\n",
    "res1[\"accuracy\"] = acc\n",
    "res1[\"precision\"] = prec\n",
    "res1[\"recall\"] = recall\n",
    "res1[\"f1\"] = f1"
   ]
  },
  {
   "cell_type": "code",
   "execution_count": 24,
   "metadata": {},
   "outputs": [
    {
     "data": {
      "text/html": [
       "<div>\n",
       "<style scoped>\n",
       "    .dataframe tbody tr th:only-of-type {\n",
       "        vertical-align: middle;\n",
       "    }\n",
       "\n",
       "    .dataframe tbody tr th {\n",
       "        vertical-align: top;\n",
       "    }\n",
       "\n",
       "    .dataframe thead th {\n",
       "        text-align: right;\n",
       "    }\n",
       "</style>\n",
       "<table border=\"1\" class=\"dataframe\">\n",
       "  <thead>\n",
       "    <tr style=\"text-align: right;\">\n",
       "      <th></th>\n",
       "      <th>algorithm</th>\n",
       "      <th>accuracy</th>\n",
       "      <th>precision</th>\n",
       "      <th>recall</th>\n",
       "      <th>f1</th>\n",
       "    </tr>\n",
       "  </thead>\n",
       "  <tbody>\n",
       "    <tr>\n",
       "      <th>0</th>\n",
       "      <td>Nearest Neighbors</td>\n",
       "      <td>0.99</td>\n",
       "      <td>1.00</td>\n",
       "      <td>0.93</td>\n",
       "      <td>0.96</td>\n",
       "    </tr>\n",
       "    <tr>\n",
       "      <th>1</th>\n",
       "      <td>Linear SVM</td>\n",
       "      <td>0.97</td>\n",
       "      <td>0.93</td>\n",
       "      <td>0.93</td>\n",
       "      <td>0.93</td>\n",
       "    </tr>\n",
       "    <tr>\n",
       "      <th>7</th>\n",
       "      <td>AdaBoost</td>\n",
       "      <td>0.94</td>\n",
       "      <td>0.92</td>\n",
       "      <td>0.79</td>\n",
       "      <td>0.85</td>\n",
       "    </tr>\n",
       "    <tr>\n",
       "      <th>6</th>\n",
       "      <td>Neural Net</td>\n",
       "      <td>0.94</td>\n",
       "      <td>1.00</td>\n",
       "      <td>0.71</td>\n",
       "      <td>0.83</td>\n",
       "    </tr>\n",
       "    <tr>\n",
       "      <th>4</th>\n",
       "      <td>Decision Tree</td>\n",
       "      <td>0.91</td>\n",
       "      <td>0.79</td>\n",
       "      <td>0.79</td>\n",
       "      <td>0.79</td>\n",
       "    </tr>\n",
       "    <tr>\n",
       "      <th>5</th>\n",
       "      <td>Random Forest</td>\n",
       "      <td>0.93</td>\n",
       "      <td>1.00</td>\n",
       "      <td>0.64</td>\n",
       "      <td>0.78</td>\n",
       "    </tr>\n",
       "    <tr>\n",
       "      <th>8</th>\n",
       "      <td>Naive Bayes</td>\n",
       "      <td>0.88</td>\n",
       "      <td>0.64</td>\n",
       "      <td>1.00</td>\n",
       "      <td>0.78</td>\n",
       "    </tr>\n",
       "    <tr>\n",
       "      <th>2</th>\n",
       "      <td>RBF SVM</td>\n",
       "      <td>0.79</td>\n",
       "      <td>0.00</td>\n",
       "      <td>0.00</td>\n",
       "      <td>0.00</td>\n",
       "    </tr>\n",
       "    <tr>\n",
       "      <th>3</th>\n",
       "      <td>Gaussian Process</td>\n",
       "      <td>0.79</td>\n",
       "      <td>0.00</td>\n",
       "      <td>0.00</td>\n",
       "      <td>0.00</td>\n",
       "    </tr>\n",
       "    <tr>\n",
       "      <th>9</th>\n",
       "      <td>QDA</td>\n",
       "      <td>0.79</td>\n",
       "      <td>0.00</td>\n",
       "      <td>0.00</td>\n",
       "      <td>0.00</td>\n",
       "    </tr>\n",
       "  </tbody>\n",
       "</table>\n",
       "</div>"
      ],
      "text/plain": [
       "           algorithm  accuracy  precision  recall    f1\n",
       "0  Nearest Neighbors      0.99       1.00    0.93  0.96\n",
       "1         Linear SVM      0.97       0.93    0.93  0.93\n",
       "7           AdaBoost      0.94       0.92    0.79  0.85\n",
       "6         Neural Net      0.94       1.00    0.71  0.83\n",
       "4      Decision Tree      0.91       0.79    0.79  0.79\n",
       "5      Random Forest      0.93       1.00    0.64  0.78\n",
       "8        Naive Bayes      0.88       0.64    1.00  0.78\n",
       "2            RBF SVM      0.79       0.00    0.00  0.00\n",
       "3   Gaussian Process      0.79       0.00    0.00  0.00\n",
       "9                QDA      0.79       0.00    0.00  0.00"
      ]
     },
     "execution_count": 24,
     "metadata": {},
     "output_type": "execute_result"
    }
   ],
   "source": [
    "res1.sort_values(\"f1\",ascending=False).round(2)"
   ]
  },
  {
   "cell_type": "markdown",
   "metadata": {},
   "source": [
    "<a id='cm'></a>\n",
    "## Confusion Matrix\n",
    "[[ go back to the top ]](#Table-of-contents)"
   ]
  },
  {
   "cell_type": "markdown",
   "metadata": {},
   "source": [
    "The diagram below shows the confusion matrix of the top 3 algorithms. "
   ]
  },
  {
   "cell_type": "code",
   "execution_count": 35,
   "metadata": {},
   "outputs": [
    {
     "data": {
      "image/png": "[encoded data removed]",
      "text/plain": [
       "<matplotlib.figure.Figure at 0x7f73f8755ac8>"
      ]
     },
     "metadata": {},
     "output_type": "display_data"
    }
   ],
   "source": [
    "fig = plt.figure(figsize=(14,7)) \n",
    "names1 = [\"Nearest Neighbors\", \"Linear SVM\", \n",
    "         \"AdaBoost\"]\n",
    "best_classifiers = [\n",
    "    KNeighborsClassifier(3),\n",
    "    SVC(kernel=\"linear\", C=0.025),\n",
    "    AdaBoostClassifier()]\n",
    "for idx, clf in enumerate(best_classifiers):\n",
    "    clf.fit(X_train, y_train)\n",
    "    y_pred = clf.predict(X_test)\n",
    "    cnf_matrix = confusion_matrix(y_test, y_pred)\n",
    "    fig.add_subplot(int('13'+str(idx+1)))\n",
    "    plot_confusion_matrix(cnf_matrix, classes=[1,0], normalize=False,\n",
    "                      title=names1[idx])\n",
    "plt.show()"
   ]
  },
  {
   "cell_type": "markdown",
   "metadata": {},
   "source": [
    "<a id='Importance'></a>\n",
    "## Feature Importance\n",
    "[[ go back to the top ]](#Table-of-contents)"
   ]
  },
  {
   "cell_type": "code",
   "execution_count": 27,
   "metadata": {
    "collapsed": true
   },
   "outputs": [],
   "source": [
    "import matplotlib.cm as cm\n",
    "import matplotlib.patches as mpatches\n",
    "from matplotlib.legend_handler import HandlerPatch"
   ]
  },
  {
   "cell_type": "code",
   "execution_count": 28,
   "metadata": {},
   "outputs": [
    {
     "data": {
      "text/plain": [
       "array([0.06, 0.04, 0.02, 0.08, 0.08, 0.08, 0.02, 0.02, 0.02, 0.  , 0.  ,\n",
       "       0.  , 0.  , 0.02, 0.04, 0.  , 0.  , 0.02, 0.02, 0.02, 0.02, 0.02,\n",
       "       0.02, 0.04, 0.02, 0.06, 0.  , 0.  , 0.  , 0.  , 0.  , 0.  , 0.14,\n",
       "       0.04, 0.02, 0.04, 0.04])"
      ]
     },
     "execution_count": 28,
     "metadata": {},
     "output_type": "execute_result"
    }
   ],
   "source": [
    "clf.feature_importances_ # 21, 24 highest"
   ]
  },
  {
   "cell_type": "code",
   "execution_count": 29,
   "metadata": {
    "collapsed": true
   },
   "outputs": [],
   "source": [
    "feature_imp = pd.DataFrame()\n",
    "feature_imp[\"feature\"] = need_cols\n",
    "feature_imp[\"importances\"] = list(clf.feature_importances_)"
   ]
  },
  {
   "cell_type": "markdown",
   "metadata": {},
   "source": [
    "The graph below shows the importance of features resulted from Decision Tree Classifier."
   ]
  },
  {
   "cell_type": "code",
   "execution_count": 30,
   "metadata": {},
   "outputs": [
    {
     "data": {
      "text/plain": [
       "Text(0,0.5,'Feature')"
      ]
     },
     "execution_count": 30,
     "metadata": {},
     "output_type": "execute_result"
    },
    {
     "data": {
      "image/png": "[encoded data removed]",
      "text/plain": [
       "<matplotlib.figure.Figure at 0x7f73fac20a90>"
      ]
     },
     "metadata": {},
     "output_type": "display_data"
    }
   ],
   "source": [
    "pplt = feature_imp.sort_values(\"importances\").set_index(\"feature\")[-12:].plot(kind='barh',\n",
    "                                                                       figsize=(8, 6))\n",
    "pplt.set_title(\"Feature Importance\")\n",
    "pplt.set_ylabel(\"Value\")\n",
    "pplt.set_ylabel(\"Feature\")"
   ]
  },
  {
   "cell_type": "code",
   "execution_count": 202,
   "metadata": {
    "collapsed": true
   },
   "outputs": [],
   "source": [
    "# res = [\"In Supply\", \"Stock Out\"]\n",
    "# plot_train = X_train.reset_index()\n",
    "# plot_train[\"pred\"] = y_train\n",
    "# plot_test = X_test.reset_index()\n",
    "# plot_test[\"pred\"] = y_pred\n",
    "# fig, ax = plt.subplots(figsize = (12,7))\n",
    "# cmap = [\"blue\", \"red\"]\n",
    "\n",
    "# for i, cluster in plot_train.groupby('pred'):\n",
    "#         plt.scatter(cluster[\"Forecast_1\"], cluster['Forecast_4'], edgecolors = cmap[i], \n",
    "#                     label = 'Train Data %s'%(res[i]), s=30, facecolors='none')\n",
    "# for i, cluster in plot_test.groupby('pred'):\n",
    "#         plt.scatter(cluster[\"Forecast_1\"], cluster['Forecast_4'], color = cmap[i], \n",
    "#                     label = 'Test Data %s'%(res[i]), s=30)\n",
    "# ax.set_title(\"Visualization of Stock Out\")\n",
    "# ax.set_xlabel(\"last week's forecast\")\n",
    "# ax.set_ylabel(\"previous 4 weeks' forecast\")\n",
    "\n",
    "# plt.legend()"
   ]
  },
  {
   "cell_type": "markdown",
   "metadata": {
    "collapsed": true
   },
   "source": [
    "----\n",
    "<a id='model2'></a>\n",
    "## Model 2 : Predicting stock out for current month\n",
    "[[ go back to the top ]](#Table-of-contents)"
   ]
  },
  {
   "cell_type": "code",
   "execution_count": 37,
   "metadata": {
    "collapsed": true,
    "scrolled": false
   },
   "outputs": [],
   "source": [
    "X = avail_df[need_cols]\n",
    "y = list(avail_df[\"Shortage_week_1_4\"])\n",
    "X_train, X_test, y_train, y_test = train_test_split(X, y, test_size=0.33, random_state=42)\n",
    "\n",
    "acc = []\n",
    "prec = []\n",
    "recall = []\n",
    "f1 = []\n",
    "\n",
    "for name, clf in zip(names, classifiers):\n",
    "#     print(name)\n",
    "    clf.fit(X_train, y_train)\n",
    "    score = clf.score(X_test, y_test)\n",
    "    y_pred = clf.predict(X_test)\n",
    "#     print(\"accuracy_score\")\n",
    "#     print(metrics.accuracy_score(y_test, y_pred))\n",
    "#     print(\"precision_score\")\n",
    "#     print(metrics.precision_score(y_test, y_pred))\n",
    "#     print(\"recall_score\")\n",
    "#     print(metrics.recall_score(y_test, y_pred))\n",
    "#     print(\"f1_score\")\n",
    "#     print(metrics.f1_score(y_test, y_pred))  \n",
    "    acc.append(metrics.accuracy_score(y_test, y_pred))\n",
    "    prec.append(metrics.precision_score(y_test, y_pred))\n",
    "    recall.append(metrics.recall_score(y_test, y_pred))\n",
    "    f1.append(metrics.f1_score(y_test, y_pred))  \n",
    "#     print(\"\")\n",
    "\n",
    "res2 = pd.DataFrame()\n",
    "res2[\"algorithm\"] = names\n",
    "res2[\"accuracy\"] = acc\n",
    "res2[\"precision\"] = prec\n",
    "res2[\"recall\"] = recall\n",
    "res2[\"f1\"] = f1"
   ]
  },
  {
   "cell_type": "code",
   "execution_count": 38,
   "metadata": {},
   "outputs": [
    {
     "data": {
      "text/html": [
       "<div>\n",
       "<style scoped>\n",
       "    .dataframe tbody tr th:only-of-type {\n",
       "        vertical-align: middle;\n",
       "    }\n",
       "\n",
       "    .dataframe tbody tr th {\n",
       "        vertical-align: top;\n",
       "    }\n",
       "\n",
       "    .dataframe thead th {\n",
       "        text-align: right;\n",
       "    }\n",
       "</style>\n",
       "<table border=\"1\" class=\"dataframe\">\n",
       "  <thead>\n",
       "    <tr style=\"text-align: right;\">\n",
       "      <th></th>\n",
       "      <th>algorithm</th>\n",
       "      <th>accuracy</th>\n",
       "      <th>precision</th>\n",
       "      <th>recall</th>\n",
       "      <th>f1</th>\n",
       "    </tr>\n",
       "  </thead>\n",
       "  <tbody>\n",
       "    <tr>\n",
       "      <th>7</th>\n",
       "      <td>AdaBoost</td>\n",
       "      <td>0.88</td>\n",
       "      <td>0.79</td>\n",
       "      <td>0.79</td>\n",
       "      <td>0.79</td>\n",
       "    </tr>\n",
       "    <tr>\n",
       "      <th>0</th>\n",
       "      <td>Nearest Neighbors</td>\n",
       "      <td>0.81</td>\n",
       "      <td>0.62</td>\n",
       "      <td>0.79</td>\n",
       "      <td>0.70</td>\n",
       "    </tr>\n",
       "    <tr>\n",
       "      <th>4</th>\n",
       "      <td>Decision Tree</td>\n",
       "      <td>0.78</td>\n",
       "      <td>0.57</td>\n",
       "      <td>0.89</td>\n",
       "      <td>0.69</td>\n",
       "    </tr>\n",
       "    <tr>\n",
       "      <th>8</th>\n",
       "      <td>Naive Bayes</td>\n",
       "      <td>0.70</td>\n",
       "      <td>0.49</td>\n",
       "      <td>0.89</td>\n",
       "      <td>0.63</td>\n",
       "    </tr>\n",
       "    <tr>\n",
       "      <th>5</th>\n",
       "      <td>Random Forest</td>\n",
       "      <td>0.82</td>\n",
       "      <td>0.77</td>\n",
       "      <td>0.53</td>\n",
       "      <td>0.62</td>\n",
       "    </tr>\n",
       "    <tr>\n",
       "      <th>1</th>\n",
       "      <td>Linear SVM</td>\n",
       "      <td>0.78</td>\n",
       "      <td>0.64</td>\n",
       "      <td>0.47</td>\n",
       "      <td>0.55</td>\n",
       "    </tr>\n",
       "    <tr>\n",
       "      <th>6</th>\n",
       "      <td>Neural Net</td>\n",
       "      <td>0.67</td>\n",
       "      <td>0.43</td>\n",
       "      <td>0.53</td>\n",
       "      <td>0.48</td>\n",
       "    </tr>\n",
       "    <tr>\n",
       "      <th>9</th>\n",
       "      <td>QDA</td>\n",
       "      <td>0.73</td>\n",
       "      <td>0.56</td>\n",
       "      <td>0.26</td>\n",
       "      <td>0.36</td>\n",
       "    </tr>\n",
       "    <tr>\n",
       "      <th>2</th>\n",
       "      <td>RBF SVM</td>\n",
       "      <td>0.72</td>\n",
       "      <td>0.00</td>\n",
       "      <td>0.00</td>\n",
       "      <td>0.00</td>\n",
       "    </tr>\n",
       "    <tr>\n",
       "      <th>3</th>\n",
       "      <td>Gaussian Process</td>\n",
       "      <td>0.72</td>\n",
       "      <td>0.00</td>\n",
       "      <td>0.00</td>\n",
       "      <td>0.00</td>\n",
       "    </tr>\n",
       "  </tbody>\n",
       "</table>\n",
       "</div>"
      ],
      "text/plain": [
       "           algorithm  accuracy  precision  recall    f1\n",
       "7           AdaBoost      0.88       0.79    0.79  0.79\n",
       "0  Nearest Neighbors      0.81       0.62    0.79  0.70\n",
       "4      Decision Tree      0.78       0.57    0.89  0.69\n",
       "8        Naive Bayes      0.70       0.49    0.89  0.63\n",
       "5      Random Forest      0.82       0.77    0.53  0.62\n",
       "1         Linear SVM      0.78       0.64    0.47  0.55\n",
       "6         Neural Net      0.67       0.43    0.53  0.48\n",
       "9                QDA      0.73       0.56    0.26  0.36\n",
       "2            RBF SVM      0.72       0.00    0.00  0.00\n",
       "3   Gaussian Process      0.72       0.00    0.00  0.00"
      ]
     },
     "execution_count": 38,
     "metadata": {},
     "output_type": "execute_result"
    }
   ],
   "source": [
    "res2.sort_values(\"f1\",ascending=False).round(2)"
   ]
  },
  {
   "cell_type": "markdown",
   "metadata": {},
   "source": [
    "----\n",
    "<a id='model3'></a>\n",
    "## Model 3 : Predicting stock out for the next month\n",
    "[[ go back to the top ]](#Table-of-contents)"
   ]
  },
  {
   "cell_type": "code",
   "execution_count": 39,
   "metadata": {
    "collapsed": true
   },
   "outputs": [],
   "source": [
    "X = avail_df[need_cols]\n",
    "y = list(avail_df[\"Shortage_week_5_8\"])\n",
    "X_train, X_test, y_train, y_test = train_test_split(X, y, test_size=0.33, random_state=42)\n",
    "\n",
    "acc = []\n",
    "prec = []\n",
    "recall = []\n",
    "f1 = []\n",
    "\n",
    "for name, clf in zip(names, classifiers):\n",
    "#     print(name)\n",
    "    clf.fit(X_train, y_train)\n",
    "    score = clf.score(X_test, y_test)\n",
    "    y_pred = clf.predict(X_test)\n",
    "#     print(\"accuracy_score\")\n",
    "#     print(metrics.accuracy_score(y_test, y_pred))\n",
    "#     print(\"precision_score\")\n",
    "#     print(metrics.precision_score(y_test, y_pred))\n",
    "#     print(\"recall_score\")\n",
    "#     print(metrics.recall_score(y_test, y_pred))\n",
    "#     print(\"f1_score\")\n",
    "#     print(metrics.f1_score(y_test, y_pred))  \n",
    "    acc.append(metrics.accuracy_score(y_test, y_pred))\n",
    "    prec.append(metrics.precision_score(y_test, y_pred))\n",
    "    recall.append(metrics.recall_score(y_test, y_pred))\n",
    "    f1.append(metrics.f1_score(y_test, y_pred))  \n",
    "#     print(\"\")\n",
    "\n",
    "res3 = pd.DataFrame()\n",
    "res3[\"algorithm\"] = names\n",
    "res3[\"accuracy\"] = acc\n",
    "res3[\"precision\"] = prec\n",
    "res3[\"recall\"] = recall\n",
    "res3[\"f1\"] = f1"
   ]
  },
  {
   "cell_type": "code",
   "execution_count": 40,
   "metadata": {},
   "outputs": [
    {
     "data": {
      "text/html": [
       "<div>\n",
       "<style scoped>\n",
       "    .dataframe tbody tr th:only-of-type {\n",
       "        vertical-align: middle;\n",
       "    }\n",
       "\n",
       "    .dataframe tbody tr th {\n",
       "        vertical-align: top;\n",
       "    }\n",
       "\n",
       "    .dataframe thead th {\n",
       "        text-align: right;\n",
       "    }\n",
       "</style>\n",
       "<table border=\"1\" class=\"dataframe\">\n",
       "  <thead>\n",
       "    <tr style=\"text-align: right;\">\n",
       "      <th></th>\n",
       "      <th>algorithm</th>\n",
       "      <th>accuracy</th>\n",
       "      <th>precision</th>\n",
       "      <th>recall</th>\n",
       "      <th>f1</th>\n",
       "    </tr>\n",
       "  </thead>\n",
       "  <tbody>\n",
       "    <tr>\n",
       "      <th>0</th>\n",
       "      <td>Nearest Neighbors</td>\n",
       "      <td>0.72</td>\n",
       "      <td>0.46</td>\n",
       "      <td>0.65</td>\n",
       "      <td>0.54</td>\n",
       "    </tr>\n",
       "    <tr>\n",
       "      <th>4</th>\n",
       "      <td>Decision Tree</td>\n",
       "      <td>0.79</td>\n",
       "      <td>0.62</td>\n",
       "      <td>0.47</td>\n",
       "      <td>0.53</td>\n",
       "    </tr>\n",
       "    <tr>\n",
       "      <th>8</th>\n",
       "      <td>Naive Bayes</td>\n",
       "      <td>0.57</td>\n",
       "      <td>0.35</td>\n",
       "      <td>0.82</td>\n",
       "      <td>0.49</td>\n",
       "    </tr>\n",
       "    <tr>\n",
       "      <th>5</th>\n",
       "      <td>Random Forest</td>\n",
       "      <td>0.75</td>\n",
       "      <td>0.50</td>\n",
       "      <td>0.47</td>\n",
       "      <td>0.48</td>\n",
       "    </tr>\n",
       "    <tr>\n",
       "      <th>9</th>\n",
       "      <td>QDA</td>\n",
       "      <td>0.75</td>\n",
       "      <td>0.50</td>\n",
       "      <td>0.35</td>\n",
       "      <td>0.41</td>\n",
       "    </tr>\n",
       "    <tr>\n",
       "      <th>7</th>\n",
       "      <td>AdaBoost</td>\n",
       "      <td>0.63</td>\n",
       "      <td>0.33</td>\n",
       "      <td>0.47</td>\n",
       "      <td>0.39</td>\n",
       "    </tr>\n",
       "    <tr>\n",
       "      <th>1</th>\n",
       "      <td>Linear SVM</td>\n",
       "      <td>0.69</td>\n",
       "      <td>0.38</td>\n",
       "      <td>0.35</td>\n",
       "      <td>0.36</td>\n",
       "    </tr>\n",
       "    <tr>\n",
       "      <th>6</th>\n",
       "      <td>Neural Net</td>\n",
       "      <td>0.61</td>\n",
       "      <td>0.29</td>\n",
       "      <td>0.35</td>\n",
       "      <td>0.32</td>\n",
       "    </tr>\n",
       "    <tr>\n",
       "      <th>2</th>\n",
       "      <td>RBF SVM</td>\n",
       "      <td>0.75</td>\n",
       "      <td>0.00</td>\n",
       "      <td>0.00</td>\n",
       "      <td>0.00</td>\n",
       "    </tr>\n",
       "    <tr>\n",
       "      <th>3</th>\n",
       "      <td>Gaussian Process</td>\n",
       "      <td>0.75</td>\n",
       "      <td>0.00</td>\n",
       "      <td>0.00</td>\n",
       "      <td>0.00</td>\n",
       "    </tr>\n",
       "  </tbody>\n",
       "</table>\n",
       "</div>"
      ],
      "text/plain": [
       "           algorithm  accuracy  precision  recall    f1\n",
       "0  Nearest Neighbors      0.72       0.46    0.65  0.54\n",
       "4      Decision Tree      0.79       0.62    0.47  0.53\n",
       "8        Naive Bayes      0.57       0.35    0.82  0.49\n",
       "5      Random Forest      0.75       0.50    0.47  0.48\n",
       "9                QDA      0.75       0.50    0.35  0.41\n",
       "7           AdaBoost      0.63       0.33    0.47  0.39\n",
       "1         Linear SVM      0.69       0.38    0.35  0.36\n",
       "6         Neural Net      0.61       0.29    0.35  0.32\n",
       "2            RBF SVM      0.75       0.00    0.00  0.00\n",
       "3   Gaussian Process      0.75       0.00    0.00  0.00"
      ]
     },
     "execution_count": 40,
     "metadata": {},
     "output_type": "execute_result"
    }
   ],
   "source": [
    "res3.sort_values(\"f1\",ascending=False).round(2)"
   ]
  },
  {
   "cell_type": "markdown",
   "metadata": {},
   "source": [
    "----\n",
    "<a id='Comparision'></a>\n",
    "## Comparision of Model Performances\n",
    "[[ go back to the top ]](#Table-of-contents)"
   ]
  },
  {
   "cell_type": "code",
   "execution_count": 41,
   "metadata": {
    "collapsed": true
   },
   "outputs": [],
   "source": [
    "comparison = pd.concat([res1.sort_values(\"f1\",ascending=False)[:3],\n",
    "                        res2.sort_values(\"f1\",ascending=False)[:3],\n",
    "                        res3.sort_values(\"f1\",ascending=False)[:3]] )\n",
    "comparison[\"model\"] = [\"1_current week\", \"1_current week\", \"1_current week\", \n",
    "                       \"2_current month\", \"2_current month\", \"2_current month\",\n",
    "                       \"3_next month\", \"3_next month\", \"3_next month\"]\n",
    "comparison[\"top\"] = [\"top1\", \"top2\", \"top3\",\n",
    "                     \"top1\", \"top2\", \"top3\",\n",
    "                     \"top1\", \"top2\", \"top3\"]"
   ]
  },
  {
   "cell_type": "code",
   "execution_count": 42,
   "metadata": {
    "collapsed": true
   },
   "outputs": [],
   "source": [
    "table = pd.pivot_table(comparison[[\"model\", \"f1\", \"top\"]], \n",
    "                       values='f1', index=['model'], columns=['top'] )"
   ]
  },
  {
   "cell_type": "code",
   "execution_count": 43,
   "metadata": {},
   "outputs": [
    {
     "data": {
      "text/plain": [
       "Text(0,0.5,'F1 Score')"
      ]
     },
     "execution_count": 43,
     "metadata": {},
     "output_type": "execute_result"
    },
    {
     "data": {
      "image/png": "[encoded data removed]",
      "text/plain": [
       "<matplotlib.figure.Figure at 0x7f73fac20978>"
      ]
     },
     "metadata": {},
     "output_type": "display_data"
    }
   ],
   "source": [
    "pplt = table.plot(kind=\"bar\",figsize=(10, 6), rot=0)\n",
    "pplt.set_title(\"Comparison of Model Performance\")\n",
    "pplt.set_ylabel(\"F1 Score\")"
   ]
  },
  {
   "cell_type": "markdown",
   "metadata": {
    "collapsed": true
   },
   "source": [
    "----\n",
    "<a id='Conclusion'></a>\n",
    "## Conclusion\n",
    "[[ go back to the top ]](#Table-of-contents)"
   ]
  },
  {
   "cell_type": "markdown",
   "metadata": {},
   "source": [
    "In this project, we built three machine learning models to predict stock out for current, next 1-4 and next 5-8 week and compared the model performances between the best classifiers of these three models. It is clear that we could obtain high accuracy (99%) when predicting current week out of stock items, and the accuracy drops for the models used to predict current month and next month, which make sense as there are more uncertainties in the future."
   ]
  }
 ],
 "metadata": {
  "kernelspec": {
   "display_name": "Python 3",
   "language": "python",
   "name": "python3"
  },
  "language_info": {
   "codemirror_mode": {
    "name": "ipython",
    "version": 3
   },
   "file_extension": ".py",
   "mimetype": "text/x-python",
   "name": "python",
   "nbconvert_exporter": "python",
   "pygments_lexer": "ipython3",
   "version": "3.6.0"
  }
 },
 "nbformat": 4,
 "nbformat_minor": 2
}
