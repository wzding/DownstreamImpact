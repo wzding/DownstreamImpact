{
 "cells": [
  {
   "cell_type": "code",
   "execution_count": 5,
   "metadata": {
    "collapsed": false,
    "deletable": true,
    "editable": true
   },
   "outputs": [],
   "source": [
    "idd = taxi_data['Taxi ID'].value_counts().reset_index()"
   ]
  },
  {
   "cell_type": "code",
   "execution_count": 24,
   "metadata": {
    "collapsed": false,
    "deletable": true,
    "editable": true
   },
   "outputs": [
    {
     "data": {
      "text/plain": [
       "4102"
      ]
     },
     "execution_count": 24,
     "metadata": {},
     "output_type": "execute_result"
    }
   ],
   "source": [
    "len(idd)"
   ]
  },
  {
   "cell_type": "code",
   "execution_count": 12,
   "metadata": {
    "collapsed": false,
    "deletable": true,
    "editable": true
   },
   "outputs": [],
   "source": [
    "idd['unique_id'] = idd.index\n",
    "idd['unique_id'] = idd['unique_id'].apply(lambda x : 't'+str(x))\n",
    "idd.columns = ['Taxi ID','count','unique_id']"
   ]
  },
  {
   "cell_type": "code",
   "execution_count": 75,
   "metadata": {
    "collapsed": false,
    "deletable": true,
    "editable": true
   },
   "outputs": [
    {
     "name": "stdout",
     "output_type": "stream",
     "text": [
      "1071556\n"
     ]
    },
    {
     "data": {
      "text/plain": [
       "4102"
      ]
     },
     "execution_count": 75,
     "metadata": {},
     "output_type": "execute_result"
    }
   ],
   "source": [
    "data_merge = taxi_data[['Trip ID', u'Taxi ID', u'Trip Seconds', u'Trip Miles','Fare','Trip Total','Company',\\\n",
    "                        u'month', u'date', u'hr']].merge(idd)\n",
    "print len(data_merge)\n",
    "len(data_merge.unique_id.value_counts())"
   ]
  },
  {
   "cell_type": "code",
   "execution_count": 92,
   "metadata": {
    "collapsed": false,
    "deletable": true,
    "editable": true
   },
   "outputs": [
    {
     "name": "stdout",
     "output_type": "stream",
     "text": [
      "1071556\n"
     ]
    }
   ],
   "source": [
    "# data_id = data_merge.loc[data_merge['count'] > 50]\n",
    "data_id = data_merge\n",
    "print len(data_id)"
   ]
  },
  {
   "cell_type": "markdown",
   "metadata": {
    "deletable": true,
    "editable": true
   },
   "source": [
    "### avg trips per day"
   ]
  },
  {
   "cell_type": "code",
   "execution_count": 93,
   "metadata": {
    "collapsed": false,
    "deletable": true,
    "editable": true,
    "scrolled": false
   },
   "outputs": [],
   "source": [
    "test = data_id[['Fare','unique_id','date']].groupby(['unique_id','date']).count().reset_index()\n",
    "avg_trip = test[['unique_id','Fare']].groupby(['unique_id']).mean().reset_index()\n",
    "\n",
    "test = data_id[['Fare','unique_id','date']].groupby(['unique_id','date']).sum().reset_index()\n",
    "avg_fare = test[['unique_id','Fare']].groupby(['unique_id']).mean().reset_index()\n",
    "\n",
    "test = data_id[['Trip Miles','unique_id','date']].groupby(['unique_id','date']).sum().reset_index()\n",
    "avg_mile = test[['unique_id','Trip Miles']].groupby(['unique_id']).mean().reset_index()\n",
    "\n",
    "test = data_id[['Trip Seconds','unique_id','date']].groupby(['unique_id','date']).sum().reset_index()\n",
    "avg_sec = test[['unique_id','Trip Seconds']].groupby(['unique_id']).mean().reset_index()\n",
    "avg_sec['minute'] = avg_sec['Trip Seconds'] / 60"
   ]
  },
  {
   "cell_type": "code",
   "execution_count": 95,
   "metadata": {
    "collapsed": false,
    "deletable": true,
    "editable": true
   },
   "outputs": [
    {
     "data": {
      "text/plain": [
       "count    4102.000000\n",
       "mean      118.718865\n",
       "std        74.299142\n",
       "min         0.000000\n",
       "25%        85.485000\n",
       "50%       127.660256\n",
       "75%       163.078461\n",
       "max       792.608333\n",
       "Name: minute, dtype: float64"
      ]
     },
     "execution_count": 95,
     "metadata": {},
     "output_type": "execute_result"
    }
   ],
   "source": [
    "avg_sec['minute'].describe()"
   ]
  },
  {
   "cell_type": "code",
   "execution_count": 94,
   "metadata": {
    "collapsed": false,
    "deletable": true,
    "editable": true,
    "scrolled": false
   },
   "outputs": [
    {
     "data": {
      "text/plain": [
       "<matplotlib.text.Text at 0x2231aef0>"
      ]
     },
     "execution_count": 94,
     "metadata": {},
     "output_type": "execute_result"
    },
    {
     "data": {
      "image/png": "[encoded data removed]",
      "text/plain": [
       "<matplotlib.figure.Figure at 0x70ab5908>"
      ]
     },
     "metadata": {},
     "output_type": "display_data"
    }
   ],
   "source": [
    "fig = plt.figure(figsize=(16, 8)) \n",
    "plt.subplot(2, 2, 1)\n",
    "plt.hist(avg_trip.Fare,20)\n",
    "plt.xlabel('Avgerage trips per day')\n",
    "plt.ylabel('Number of drivers')\n",
    "\n",
    "plt.subplot(2, 2, 2)\n",
    "plt.hist(avg_fare.Fare,20)\n",
    "plt.xlabel('Avgerage fare per day')\n",
    "plt.ylabel('Number of drivers')\n",
    "\n",
    "plt.subplot(2, 2, 3)\n",
    "plt.hist(avg_mile['Trip Miles'],20)\n",
    "plt.xlabel('Avgerage miles per day')\n",
    "plt.ylabel('Number of drivers')\n",
    "\n",
    "plt.subplot(2, 2, 4)\n",
    "plt.hist(avg_sec.minute,20)\n",
    "plt.xlabel('Avgerage minutes per day')\n",
    "plt.ylabel('Number of drivers')"
   ]
  }
 ],
 "metadata": {
  "kernelspec": {
   "display_name": "Python 3",
   "language": "python",
   "name": "python3"
  },
  "language_info": {
   "codemirror_mode": {
    "name": "ipython",
    "version": 3
   },
   "file_extension": ".py",
   "mimetype": "text/x-python",
   "name": "python",
   "nbconvert_exporter": "python",
   "pygments_lexer": "ipython3",
   "version": "3.5.3"
  }
 },
 "nbformat": 4,
 "nbformat_minor": 2
}
