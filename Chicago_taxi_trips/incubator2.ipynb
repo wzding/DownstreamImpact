{
 "cells": [
  {
   "cell_type": "code",
   "execution_count": 1,
   "metadata": {
    "collapsed": true
   },
   "outputs": [],
   "source": [
    "import pandas as pd\n",
    "import numpy as np\n",
    "import scipy"
   ]
  },
  {
   "cell_type": "code",
   "execution_count": 2,
   "metadata": {
    "collapsed": false
   },
   "outputs": [
    {
     "data": {
      "text/plain": [
       "u'%.10f'"
      ]
     },
     "execution_count": 2,
     "metadata": {},
     "output_type": "execute_result"
    }
   ],
   "source": [
    "% precision 10"
   ]
  },
  {
   "cell_type": "code",
   "execution_count": 3,
   "metadata": {
    "collapsed": true
   },
   "outputs": [],
   "source": [
    "pd.set_option('precision',10)"
   ]
  },
  {
   "cell_type": "code",
   "execution_count": 5,
   "metadata": {
    "collapsed": false
   },
   "outputs": [
    {
     "name": "stdout",
     "output_type": "stream",
     "text": [
      "1072997\n",
      "936680\n"
     ]
    }
   ],
   "source": [
    "print len(df)\n",
    "print len(df_filter)"
   ]
  },
  {
   "cell_type": "code",
   "execution_count": 9,
   "metadata": {
    "collapsed": false
   },
   "outputs": [
    {
     "data": {
      "text/plain": [
       "Index([u'NPI', u'NPPES_PROVIDER_LAST_ORG_NAME', u'NPPES_PROVIDER_FIRST_NAME', u'NPPES_PROVIDER_MI', u'NPPES_CREDENTIALS', u'NPPES_PROVIDER_GENDER', u'NPPES_ENTITY_CODE', u'NPPES_PROVIDER_STREET1', u'NPPES_PROVIDER_STREET2', u'NPPES_PROVIDER_CITY', u'NPPES_PROVIDER_ZIP5', u'NPPES_PROVIDER_ZIP4', u'NPPES_PROVIDER_STATE', u'NPPES_PROVIDER_COUNTRY', u'SPECIALTY_DESCRIPTION', u'DESCRIPTION_FLAG', u'MEDICARE_PRVDR_ENROLL_STATUS', u'BENE_COUNT', u'TOTAL_CLAIM_COUNT', u'TOTAL_DRUG_COST', u'TOTAL_DAY_SUPPLY', u'BENE_COUNT_GE65', u'BENE_COUNT_GE65_SUPPRESS_FLAG', u'TOTAL_CLAIM_COUNT_GE65', u'GE65_SUPPRESS_FLAG', u'TOTAL_DRUG_COST_GE65', u'TOTAL_DAY_SUPPLY_GE65', u'BRAND_CLAIM_COUNT', u'BRAND_SUPPRESS_FLAG', u'BRAND_DRUG_COST', u'GENERIC_CLAIM_COUNT', u'GENERIC_SUPPRESS_FLAG', u'GENERIC_DRUG_COST', u'OTHER_CLAIM_COUNT', u'OTHER_SUPPRESS_FLAG', u'OTHER_DRUG_COST', u'MAPD_CLAIM_COUNT', u'MAPD_SUPPRESS_FLAG', u'MAPD_DRUG_COST', u'PDP_CLAIM_COUNT', u'PDP_SUPPRESS_FLAG', u'PDP_DRUG_COST', u'LIS_CLAIM_COUNT', u'LIS_SUPPRESS_FLAG', u'LIS_DRUG_COST', u'NONLIS_CLAIM_COUNT', u'NONLIS_SUPPRESS_FLAG', u'NONLIS_DRUG_COST', u'OPIOID_BENE_COUNT', u'OPIOID_CLAIM_COUNT', u'OPIOID_DRUG_COST', u'OPIOID_DAY_SUPPLY', u'ANTIBIOTIC_BENE_COUNT', u'ANTIBIOTIC_CLAIM_COUNT', u'ANTIBIOTIC_DRUG_COST', u'HRM_BENE_COUNT_GE65', u'HRM_BENE_GE65_SUPPRESS_FLAG', u'HRM_CLAIM_COUNT_GE65', u'HRM_GE65_SUPPRESS_FLAG', u'HRM_DRUG_COST_GE65', u'ANTI_PSYCH_BENE_COUNT', u'ANTI_PSYCH_CLAIM_COUNT', u'ANTI_PSYCH_DRUG_COST'], dtype='object')"
      ]
     },
     "execution_count": 9,
     "metadata": {},
     "output_type": "execute_result"
    }
   ],
   "source": [
    "df.columns"
   ]
  },
  {
   "cell_type": "code",
   "execution_count": 4,
   "metadata": {
    "collapsed": false
   },
   "outputs": [
    {
     "name": "stdout",
     "output_type": "stream",
     "text": [
      "148.4730132\n"
     ]
    }
   ],
   "source": [
    "df = pd.read_table('PartD_Prescriber_PUF_NPI_14.txt')\n",
    "df_filter = df[np.isfinite(df['BENE_COUNT'])]   # Counts fewer than 11 are suppressed and are indicated by a blank.\n",
    "print '%.7f' %  df_filter.BENE_COUNT.mean()"
   ]
  },
  {
   "cell_type": "code",
   "execution_count": 11,
   "metadata": {
    "collapsed": false
   },
   "outputs": [
    {
     "name": "stdout",
     "output_type": "stream",
     "text": [
      "0.087709510\n"
     ]
    },
    {
     "name": "stderr",
     "output_type": "stream",
     "text": [
      "C:\\Anaconda\\lib\\site-packages\\ipykernel\\__main__.py:4: SettingWithCopyWarning: \n",
      "A value is trying to be set on a copy of a slice from a DataFrame.\n",
      "Try using .loc[row_indexer,col_indexer] = value instead\n",
      "\n",
      "See the the caveats in the documentation: http://pandas.pydata.org/pandas-docs/stable/indexing.html#indexing-view-versus-copy\n"
     ]
    }
   ],
   "source": [
    "No_sp = df.loc[~df.BRAND_SUPPRESS_FLAG.isin(['*', '#'])]\n",
    "spe = No_sp.groupby('SPECIALTY_DESCRIPTION').sum()[['BRAND_CLAIM_COUNT','TOTAL_CLAIM_COUNT']].reset_index()\n",
    "spe_filter = spe.loc[(spe.TOTAL_CLAIM_COUNT >= 1000) ]\n",
    "spe_filter['frac']  = spe_filter.BRAND_CLAIM_COUNT / spe_filter.TOTAL_CLAIM_COUNT\n",
    "print '%.9f' %  np.std(spe_filter.frac)"
   ]
  },
  {
   "cell_type": "code",
   "execution_count": 105,
   "metadata": {
    "collapsed": false
   },
   "outputs": [
    {
     "name": "stdout",
     "output_type": "stream",
     "text": [
      "(-0.66352487675201421, 0.0)\n"
     ]
    }
   ],
   "source": [
    "age65 = df.loc[(~df.LIS_SUPPRESS_FLAG.isin(['*', '#'])) & (~df.GE65_SUPPRESS_FLAG.isin(['*', '#'])) ]\n",
    "age_frac = age65.TOTAL_CLAIM_COUNT_GE65 / age65.TOTAL_CLAIM_COUNT  \n",
    "low_frac = age65.LIS_CLAIM_COUNT/ age65.TOTAL_CLAIM_COUNT  \n",
    "from scipy.stats.stats import pearsonr   \n",
    "print pearsonr(low_frac,age_frac)"
   ]
  },
  {
   "cell_type": "code",
   "execution_count": 6,
   "metadata": {
    "collapsed": false
   },
   "outputs": [
    {
     "name": "stdout",
     "output_type": "stream",
     "text": [
      "29.10379839\n"
     ]
    }
   ],
   "source": [
    "df['length'] = df.TOTAL_DAY_SUPPLY / df.TOTAL_CLAIM_COUNT\n",
    "print '%.8f' %  np.median(df.length)"
   ]
  },
  {
   "cell_type": "code",
   "execution_count": 13,
   "metadata": {
    "collapsed": false
   },
   "outputs": [
    {
     "name": "stdout",
     "output_type": "stream",
     "text": [
      "0.753386662\n"
     ]
    }
   ],
   "source": [
    "state = df.groupby('NPPES_PROVIDER_STATE').sum()[['OPIOID_BENE_COUNT','ANTIBIOTIC_BENE_COUNT']]\n",
    "state.opioid_antibiotics = state.OPIOID_BENE_COUNT/  state.ANTIBIOTIC_BENE_COUNT\n",
    "print '%.9f' % (max(state.opioid_antibiotics) - min(state.opioid_antibiotics) )"
   ]
  },
  {
   "cell_type": "code",
   "execution_count": 33,
   "metadata": {
    "collapsed": true
   },
   "outputs": [],
   "source": [
    "spe_state = df.groupby(['SPECIALTY_DESCRIPTION',\\\n",
    "                        'NPPES_PROVIDER_STATE'])[['OPIOID_DAY_SUPPLY','OPIOID_CLAIM_COUNT']].agg(['count','sum']).reset_index()\n",
    "spe_state.columns = ['SPECIALTY_DESCRIPTION','NPPES_PROVIDER_STATE','OPIOID_DAY_SUPPLY_count',\\\n",
    "                    'OPIOID_DAY_SUPPLY_sum','OPIOID_CLAIM_COUNT_count','OPIOID_CLAIM_COUNT_sum']\n",
    "spe_state100 = spe_state.loc[spe_state['OPIOID_DAY_SUPPLY_count'] >=100]\n",
    "special =  spe_state100.groupby('SPECIALTY_DESCRIPTION')[['OPIOID_DAY_SUPPLY_sum','OPIOID_CLAIM_COUNT_sum']].sum().reset_index()\n",
    "spe_state100['Length_spe_state']  = spe_state100.OPIOID_DAY_SUPPLY_sum / spe_state100.OPIOID_CLAIM_COUNT_sum\n",
    "special['Length_spe'] = special.OPIOID_DAY_SUPPLY_sum / special.OPIOID_CLAIM_COUNT_sum\n",
    "result = pd.merge(spe_state100[['SPECIALTY_DESCRIPTION','Length_spe_state']], special[['SPECIALTY_DESCRIPTION','Length_spe']], \n",
    "                  on='SPECIALTY_DESCRIPTION')\n",
    "result['ratio'] = result.Length_spe_state / result.Length_spe\n",
    "print result.sort('ratio',ascending=False).ratio[:1]"
   ]
  },
  {
   "cell_type": "code",
   "execution_count": 160,
   "metadata": {
    "collapsed": false
   },
   "outputs": [
    {
     "name": "stdout",
     "output_type": "stream",
     "text": [
      "0.244518352442\n"
     ]
    }
   ],
   "source": [
    "df13 = pd.read_table('PartD_Prescriber_PUF_NPI_13.tab')\n",
    "df['cost_14'] = df.TOTAL_DRUG_COST / df.TOTAL_DAY_SUPPLY\n",
    "df13['cost_13'] = df13.TOTAL_DRUG_COST / df13.TOTAL_DAY_SUPPLY\n",
    "cost = pd.merge(df[['NPI','cost_14']],df13[['NPI','cost_13']],on='NPI',how='inner')\n",
    "cost['inflation'] =  (cost['cost_14'] - cost['cost_13']) / cost['cost_13']\n",
    "print cost.inflation.mean()"
   ]
  },
  {
   "cell_type": "code",
   "execution_count": 179,
   "metadata": {
    "collapsed": false
   },
   "outputs": [],
   "source": [
    "merge=pd.merge(df13[['NPI','SPECIALTY_DESC']],df[['NPI','SPECIALTY_DESCRIPTION']],on='NPI',how='left')\n",
    "merge['left'] = merge.SPECIALTY_DESCRIPTION.isnull().astype(int)\n",
    "merge_count= merge.groupby('SPECIALTY_DESC').left.agg(['count','sum']).reset_index()\n",
    "merge_1000 = merge_count.loc[merge_count['count'] >= 1000]\n",
    "merge_1000['ratio'] = merge_1000['sum'] /merge_count['count'] \n",
    "print merge_1000.sort('ratio',ascending=False).ratio[:1]"
   ]
  },
  {
   "cell_type": "code",
   "execution_count": 196,
   "metadata": {
    "collapsed": false
   },
   "outputs": [],
   "source": []
  }
 ],
 "metadata": {
  "kernelspec": {
   "display_name": "Python 2",
   "language": "python",
   "name": "python2"
  },
  "language_info": {
   "codemirror_mode": {
    "name": "ipython",
    "version": 2
   },
   "file_extension": ".py",
   "mimetype": "text/x-python",
   "name": "python",
   "nbconvert_exporter": "python",
   "pygments_lexer": "ipython2",
   "version": "2.7.13"
  }
 },
 "nbformat": 4,
 "nbformat_minor": 0
}
