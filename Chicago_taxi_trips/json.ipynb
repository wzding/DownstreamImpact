{
 "cells": [
  {
   "cell_type": "code",
   "execution_count": 1,
   "metadata": {
    "collapsed": true
   },
   "outputs": [],
   "source": [
    "import json\n",
    "import requests"
   ]
  },
  {
   "cell_type": "code",
   "execution_count": 2,
   "metadata": {
    "collapsed": true
   },
   "outputs": [],
   "source": [
    "BASE_URL = \"http://musicbrainz.org/ws/2/\"\n",
    "ARTIST_URL = BASE_URL + \"artist/\""
   ]
  },
  {
   "cell_type": "code",
   "execution_count": 3,
   "metadata": {
    "collapsed": true
   },
   "outputs": [],
   "source": [
    "\n",
    "# query parameters are given to the requests.get function as a dictionary; this\n",
    "# variable contains some starter parameters.\n",
    "query_type = {  \"simple\": {},\n",
    "                \"atr\": {\"inc\": \"aliases+tags+ratings\"},\n",
    "                \"aliases\": {\"inc\": \"aliases\"},\n",
    "                \"releases\": {\"inc\": \"releases\"}}\n",
    "\n",
    "\n",
    "def query_site(url, params, uid=\"\", fmt=\"json\"):\n",
    "    # This is the main function for making queries to the musicbrainz API.\n",
    "    # A json document should be returned by the query.\n",
    "    params[\"fmt\"] = fmt\n",
    "    r = requests.get(url + uid, params=params)\n",
    "    print \"requesting\", r.url\n",
    "\n",
    "    if r.status_code == requests.codes.ok:\n",
    "        return r.json()\n",
    "    else:\n",
    "        r.raise_for_status()\n",
    "\n",
    "\n",
    "def query_by_name(url, params, name):\n",
    "    # This adds an artist name to the query parameters before making\n",
    "    # an API call to the function above.\n",
    "    params[\"query\"] = \"artist:\" + name\n",
    "    return query_site(url, params)\n",
    "\n",
    "\n",
    "def pretty_print(data, indent=4):\n",
    "    # After we get our output, we can format it to be more readable\n",
    "    # by using this function.\n",
    "    if type(data) == dict:\n",
    "        print json.dumps(data, indent=indent, sort_keys=True)\n",
    "    else:\n",
    "        print data\n",
    "\n"
   ]
  },
  {
   "cell_type": "code",
   "execution_count": 49,
   "metadata": {
    "collapsed": true
   },
   "outputs": [
    {
     "name": "stdout",
     "output_type": "stream",
     "text": [
      "requesting http://musicbrainz.org/ws/2/artist/?query=artist%3ABEATLES&fmt=json&inc=aliases\n",
      "[{u'name': u'Counterfeit Beatles', u'area': {u'sort-name': u'United Kingdom', u'id': u'8a754a16-0027-3a29-b6d7-2b40ea0481ed', u'name': u'United Kingdom'}, u'country': u'GB', u'disambiguation': u'The Beatles tribute band', u'life-span': {u'ended': None}, u'sort-name': u'Counterfeit Beatles', u'score': u'100', u'type': u'Group', u'id': u'ad60d963-44f1-4b41-b785-8284edcaaffe'}, {u'name': u'Beatles Back2Back', u'area': {u'sort-name': u'Australia', u'id': u'106e0bec-b638-3b37-b731-f53d507dc00e', u'name': u'Australia'}, u'country': u'AU', u'disambiguation': u'The Beatles tribute band', u'life-span': {u'ended': None, u'begin': u'2011'}, u'sort-name': u'Beatles Back2Back', u'score': u'100', u'type': u'Group', u'id': u'7cac6d47-ef4e-4347-8835-63ed3f2e74a7'}, {u'name': u'Tokyo Beatles', u'area': {u'sort-name': u'Japan', u'id': u'2db42837-c832-3c27-b4a3-08198f75693c', u'name': u'Japan'}, u'country': u'JP', u'disambiguation': u'Japanese', u'life-span': {u'ended': None}, u'sort-name': u'Tokyo Beatles', u'score': u'100', u'begin-area': {u'sort-name': u'Tokyo', u'id': u'8dc97297-ac95-4d33-82bc-e07fab26fb5f', u'name': u'Tokyo'}, u'id': u'bc569a61-dd62-4758-86c6-e99dcb1fdda6'}, {u'sort-name': u'Beatles Chillout', u'life-span': {u'ended': None}, u'score': u'100', u'id': u'3133aeb8-9982-4e11-a8ff-5477996a80bf', u'name': u'Beatles Chillout'}, {u'name': u'Fab Beatles', u'area': {u'sort-name': u'United Kingdom', u'id': u'8a754a16-0027-3a29-b6d7-2b40ea0481ed', u'name': u'United Kingdom'}, u'country': u'GB', u'life-span': {u'ended': None}, u'sort-name': u'Fab Beatles', u'score': u'100', u'type': u'Group', u'id': u'dc146c82-7709-41ee-8322-0d4c9fea0378'}, {u'name': u'Them Beatles', u'tags': [{u'count': 1, u'name': u'empty'}], u'life-span': {u'ended': None}, u'sort-name': u'Them Beatles', u'score': u'100', u'type': u'Group', u'id': u'35574687-3a4d-4b30-a01a-43fea73b3430'}, {u'name': u'Shitty Beatles', u'area': {u'sort-name': u'Gainesville', u'id': u'dbe53871-db21-47ea-a0c3-3ab58317a3ab', u'name': u'Gainesville'}, u'disambiguation': u'Beatles Cover Band', u'life-span': {u'ended': True, u'begin': u'2005', u'end': u'2015-04-19'}, u'sort-name': u'Shitty Beatles', u'score': u'100', u'end-area': {u'sort-name': u'Gainesville', u'id': u'dbe53871-db21-47ea-a0c3-3ab58317a3ab', u'name': u'Gainesville'}, u'begin-area': {u'sort-name': u'Gainesville', u'id': u'dbe53871-db21-47ea-a0c3-3ab58317a3ab', u'name': u'Gainesville'}, u'type': u'Group', u'id': u'de0769fa-7c32-4706-9c8c-03631c90f208'}, {u'name': u'The Beatles', u'area': {u'sort-name': u'United Kingdom', u'id': u'8a754a16-0027-3a29-b6d7-2b40ea0481ed', u'name': u'United Kingdom'}, u'country': u'GB', u'life-span': {u'ended': True, u'begin': u'1957-03', u'end': u'1970-04-10'}, u'tags': [{u'count': 12, u'name': u'rock'}, {u'count': 10, u'name': u'pop'}, {u'count': 0, u'name': u'progressive rock'}, {u'count': 0, u'name': u'80s'}, {u'count': 0, u'name': u'heavy metal'}, {u'count': 0, u'name': u'pop-rock'}, {u'count': 0, u'name': u'orchestral'}, {u'count': 2, u'name': u'experimental'}, {u'count': 6, u'name': u'british'}, {u'count': 1, u'name': u'uk'}, {u'count': 0, u'name': u'60s'}, {u'count': 2, u'name': u'hard rock'}, {u'count': 0, u'name': u'indie rock'}, {u'count': 1, u'name': u'folk rock'}, {u'count': 2, u'name': u'psychedelic rock'}, {u'count': 0, u'name': u'psychedelic'}, {u'count': 1, u'name': u'blues rock'}, {u'count': -1, u'name': u'britpop'}, {u'count': 1, u'name': u'art rock'}, {u'count': 0, u'name': u'folk-rock'}, {u'count': 2, u'name': u'psychedelic pop'}, {u'count': 3, u'name': u'pop rock'}, {u'count': 1, u'name': u'british invasion'}, {u'count': 0, u'name': u'rock and roll'}, {u'count': 0, u'name': u'rock roll'}, {u'count': 0, u'name': u'english'}, {u'count': 1, u'name': u'sunshine pop'}, {u'count': 1, u'name': u'folk pop'}, {u'count': 1, u'name': u'liverpool'}, {u'count': 0, u'name': u'parlophone'}, {u'count': 0, u'name': u'united kingdom'}, {u'count': 0, u'name': u'hair metal'}, {u'count': 0, u'name': u'1'}, {u'count': 0, u'name': u'bbc'}, {u'count': 0, u'name': u'classic pop and rock'}, {u'count': 0, u'name': u'singer songwriter'}, {u'count': 1, u'name': u'classical pop'}, {u'count': 0, u'name': u'instrumental pop'}, {u'count': 3, u'name': u'merseybeat'}, {u'count': 0, u'name': u'adult alternative pop rock'}, {u'count': 0, u'name': u'tribute albums'}, {u'count': 0, u'name': u'british psychedelia'}, {u'count': 0, u'name': u'orchestral pop'}, {u'count': 0, u'name': u'pop-metal'}, {u'count': 0, u'name': u'male vocalists'}, {u'count': 0, u'name': u'the-beatles'}, {u'count': 1, u'name': u'boys band'}, {u'count': 2, u'name': u'rock & roll'}, {u'count': 0, u'name': u'pop/rock'}, {u'count': 1, u'name': u'rhythm & blues'}, {u'count': 0, u'name': u'overrated'}, {u'count': 1, u'name': u'art pop'}, {u'count': 0, u'name': u'one beatles'}, {u'count': 0, u'name': u'a filk artist'}, {u'count': 1, u'name': u'british rhythm & blues'}, {u'count': 1, u'name': u'beat music'}], u'sort-name': u'Beatles, The', u'score': u'100', u'begin-area': {u'sort-name': u'Liverpool', u'id': u'c249c30e-88ab-4b2f-a745-96a25bd7afee', u'name': u'Liverpool'}, u'type': u'Group', u'id': u'b10bbbfc-cf9e-42e0-be17-e2c3e1d2600d', u'aliases': [{u'name': u'\\ub354 \\ube44\\ud2c0\\uc988', u'locale': u'ko', u'end-date': None, u'primary': True, u'sort-name': u'\\ub354 \\ube44\\ud2c0\\uc988', u'type': None, u'begin-date': None}, {u'name': u'\\u30b6\\u30fb\\u30d3\\u30fc\\u30c8\\u30eb\\u30ba', u'locale': u'ja', u'end-date': None, u'primary': True, u'sort-name': u'\\u30d3\\u30fc\\u30c8\\u30eb\\u30ba (\\u30b6)', u'type': None, u'begin-date': None}, {u'name': u'B', u'locale': None, u'end-date': None, u'primary': None, u'sort-name': u'B', u'type': u'Search hint', u'begin-date': None}, {u'name': u'Be', u'locale': None, u'end-date': None, u'primary': None, u'sort-name': u'Be', u'type': u'Search hint', u'begin-date': None}, {u'name': u'Beat', u'locale': None, u'end-date': None, u'primary': None, u'sort-name': u'Beat', u'type': u'Search hint', u'begin-date': None}, {u'name': u'Beatles', u'locale': u'en', u'end-date': None, u'primary': None, u'sort-name': u'Beatles', u'type': u'Artist name', u'begin-date': None}, {u'name': u'Beetles', u'locale': None, u'end-date': None, u'primary': None, u'sort-name': u'Beetles', u'type': u'Search hint', u'begin-date': None}, {u'name': u'fab four', u'locale': None, u'end-date': None, u'primary': None, u'sort-name': u'fab four', u'type': u'Search hint', u'begin-date': None}, {u'name': u'Los Beatles', u'locale': u'es', u'end-date': None, u'primary': True, u'sort-name': u'Los Beatles', u'type': None, u'begin-date': None}, {u'name': u'The Beatles', u'locale': u'en', u'end-date': None, u'primary': True, u'sort-name': u'Beatles, The', u'type': u'Artist name', u'begin-date': None}, {u'name': u'The Savage Young Beatles', u'locale': None, u'end-date': None, u'primary': None, u'sort-name': u'Savage Young Beatles, The', u'type': None, u'begin-date': None}, {u'name': u'\\u0411\\u0438\\u0442\\u043b\\u0437', u'locale': u'ru', u'end-date': None, u'primary': True, u'sort-name': u'\\u0411\\u0438\\u0442\\u043b\\u0437', u'type': None, u'begin-date': None}, {u'name': u'\\u62ab\\u5934\\u58eb', u'locale': u'zh_Hans', u'end-date': None, u'primary': True, u'sort-name': u'\\u62ab\\u5934\\u58eb', u'type': None, u'begin-date': None}, {u'name': u'\\u62ab\\u982d\\u56db', u'locale': u'zh_Hant', u'end-date': None, u'primary': True, u'sort-name': u'\\u62ab\\u982d\\u56db', u'type': None, u'begin-date': None}]}, {u'sort-name': u'Norwegian Beatles', u'life-span': {u'ended': None}, u'score': u'100', u'id': u'3badd533-4ce6-4fd6-a5ee-76799406c355', u'name': u'Norwegian Beatles'}, {u'name': u'The Tape-beatles', u'area': {u'sort-name': u'United States', u'id': u'489ce91b-6658-3307-9877-795b68554c98', u'name': u'United States'}, u'country': u'US', u'life-span': {u'ended': None, u'begin': u'1986-12'}, u'sort-name': u'Tape-beatles, The', u'score': u'80', u'begin-area': {u'sort-name': u'Iowa City', u'id': u'3fc3b364-665e-4875-a9ff-3699cd716152', u'name': u'Iowa City'}, u'type': u'Group', u'id': u'5e685f9e-83bb-423c-acfa-487e34f15ffd', u'aliases': [{u'name': u'Tape-Beatles', u'locale': None, u'end-date': None, u'primary': None, u'sort-name': u'Tape-Beatles', u'type': None, u'begin-date': None}]}, {u'name': u'The Backbeat Beatles', u'area': {u'sort-name': u'Liverpool', u'id': u'c249c30e-88ab-4b2f-a745-96a25bd7afee', u'name': u'Liverpool'}, u'life-span': {u'ended': None}, u'sort-name': u'Backbeat Beatles, The', u'score': u'80', u'type': u'Group', u'id': u'ec996b5f-89c8-4dd6-8063-1bd8df438a00'}, {u'name': u'The Cavern Beatles', u'area': {u'sort-name': u'Liverpool', u'id': u'c249c30e-88ab-4b2f-a745-96a25bd7afee', u'name': u'Liverpool'}, u'disambiguation': u'Beatles Cover Band', u'life-span': {u'ended': None, u'begin': u'1989'}, u'sort-name': u'Beatles Cover Band', u'score': u'80', u'begin-area': {u'sort-name': u'Liverpool', u'id': u'c249c30e-88ab-4b2f-a745-96a25bd7afee', u'name': u'Liverpool'}, u'type': u'Group', u'id': u'31f6812d-12ab-406f-a13d-ad54976e49c6'}, {u'sort-name': u'Suck My Beatles', u'life-span': {u'ended': None}, u'score': u'80', u'id': u'75a2dff3-b370-4caa-9447-d9756d28243b', u'name': u'Suck My Beatles'}, {u'name': u'Not The Beatles', u'life-span': {u'ended': None, u'begin': u'1998'}, u'sort-name': u'Not The Beatles', u'score': u'80', u'type': u'Group', u'id': u'f540dcbe-4ae8-45c7-817b-372241202276'}, {u'name': u'The Beatles Revival Band', u'area': {u'sort-name': u'Germany', u'id': u'85752fda-13c4-31a3-bee5-0e5cb1f51dad', u'name': u'Germany'}, u'country': u'DE', u'disambiguation': u'german cover band', u'life-span': {u'ended': None, u'begin': u'1976'}, u'sort-name': u'Beatles Revival Band, The', u'score': u'80', u'type': u'Group', u'id': u'0f697bc6-6df7-41c9-b550-39981e520d70', u'aliases': [{u'name': u'Beatles Revival Band', u'locale': None, u'end-date': None, u'primary': None, u'sort-name': u'Beatles Revival Band', u'type': None, u'begin-date': None}]}, {u'name': u'The Moog Beatles', u'life-span': {u'ended': None}, u'sort-name': u'Moog Beatles, The', u'score': u'80', u'type': u'Group', u'id': u'e67ffb2a-0d5e-472d-9f3b-02d2ed7adc9a'}, {u'name': u'The Better Beatles', u'life-span': {u'ended': None}, u'sort-name': u'Better Beatles, The', u'score': u'80', u'type': u'Group', u'id': u'7383113a-2b44-4fd1-a2b1-277ca68803b7'}, {u'sort-name': u'Black Beatles, The', u'life-span': {u'ended': None}, u'score': u'80', u'id': u'4c3d0136-9235-4c50-b136-be49d17163df', u'name': u'The Black Beatles'}, {u'name': u'The Beatles Revival', u'area': {u'sort-name': u'Czech Republic', u'id': u'51d34c28-61bf-3d21-849f-7492672a9d44', u'name': u'Czech Republic'}, u'country': u'CZ', u'disambiguation': u\"Czech 'The Beatles' tribute band\", u'life-span': {u'ended': None}, u'sort-name': u'Beatles Revival, The', u'score': u'80', u'type': u'Group', u'id': u'5153cd90-37c6-4fa0-8da6-dbf5513b4a44'}, {u'name': u'The Bootleg Beatles', u'area': {u'sort-name': u'United Kingdom', u'id': u'8a754a16-0027-3a29-b6d7-2b40ea0481ed', u'name': u'United Kingdom'}, u'country': u'GB', u'life-span': {u'ended': None, u'begin': u'1980-03'}, u'tags': [{u'count': 1, u'name': u'rock'}], u'sort-name': u'Bootleg Beatles, The', u'score': u'80', u'begin-area': {u'sort-name': u'London', u'id': u'f03d09b3-39dc-4083-afd6-159e3f0d462f', u'name': u'London'}, u'type': u'Group', u'id': u'78f48270-d409-4454-b020-f33325da8e5b'}, {u'name': u'Pepperland: The Beatles Revue', u'area': {u'sort-name': u'St. Louis', u'id': u'759f9567-9107-40ef-a825-e57824a62e70', u'name': u'St. Louis'}, u'disambiguation': u'Beatles tribute band from St. Louis', u'life-span': {u'ended': None, u'begin': u'1988'}, u'sort-name': u'Pepperland: The Beatles Revue', u'score': u'80', u'begin-area': {u'sort-name': u'St. Louis', u'id': u'759f9567-9107-40ef-a825-e57824a62e70', u'name': u'St. Louis'}, u'type': u'Group', u'id': u'ad188e81-565a-4ea3-96bc-9cab1feae91a'}, {u'sort-name': u'The Vienna Beatles', u'life-span': {u'ended': None}, u'score': u'80', u'id': u'a7f3892a-24e5-4807-9fd9-99e0195588e0', u'name': u'The Vienna Beatles'}, {u'name': u'The Beatles Connection', u'area': {u'sort-name': u'Germany', u'id': u'85752fda-13c4-31a3-bee5-0e5cb1f51dad', u'name': u'Germany'}, u'country': u'DE', u'disambiguation': u'Beatles Tribute Band', u'life-span': {u'ended': None, u'begin': u'2009'}, u'sort-name': u'Beatles Connection, The', u'score': u'80', u'begin-area': {u'sort-name': u'Braunschweig', u'id': u'5d668739-7f88-4062-9bc5-11a90e838310', u'name': u'Braunschweig'}, u'type': u'Group', u'id': u'898e211b-06ad-460b-85ee-cd6ac337ef79'}, {u'name': u'Beatles para Crian\\xe7as', u'life-span': {u'ended': None}, u'sort-name': u'Beatles para Crian\\xe7as', u'score': u'80', u'type': u'Group', u'id': u'1916ab35-f063-4879-a3f4-862b35ba7ac7'}, {u'name': u'The Beatles Revival Band', u'area': {u'sort-name': u'Croatia', u'id': u'7d30afff-e425-356a-873e-17ae9745b31d', u'name': u'Croatia'}, u'country': u'HR', u'disambiguation': u'Croatian cover band', u'life-span': {u'ended': None, u'begin': u'1994'}, u'sort-name': u'Beatles Revival Band, The', u'score': u'80', u'begin-area': {u'sort-name': u'Rijeka', u'id': u'66e105c1-5f1e-4126-b1d0-dc50856e68cd', u'name': u'Rijeka'}, u'type': u'Group', u'id': u'01382c0f-b134-4257-9a73-921bcaaf2861'}]\n"
     ]
    }
   ],
   "source": [
    "def main():\n",
    "    '''\n",
    "    Modify the function calls and indexing below to answer the questions on\n",
    "    the next quiz. HINT: Note how the output we get from the site is a\n",
    "    multi-level JSON document, so try making print statements to step through\n",
    "    the structure one level at a time or copy the output to a separate output\n",
    "    file.\n",
    "    '''\n",
    "    results = query_by_name(ARTIST_URL, query_type[\"aliases\"], \"BEATLES\")\n",
    "#     pretty_print(results)\n",
    "    pretty_print(results[\"artists\"])\n",
    "\n",
    "#     artist_id = results[\"artists\"][1][\"id\"]\n",
    "#     print \"\\nARTIST:\"\n",
    "#     pretty_print(results[\"artists\"][1])\n",
    "\n",
    "#     artist_data = query_site(ARTIST_URL, query_type[\"releases\"], artist_id)\n",
    "#     releases = artist_data[\"releases\"]\n",
    "#     print \"\\nONE RELEASE:\"\n",
    "#     pretty_print(releases[0], indent=2)\n",
    "#     release_titles = [r[\"title\"] for r in releases]\n",
    "\n",
    "#     print \"\\nALL TITLES:\"\n",
    "#     for t in release_titles:\n",
    "#         print t\n",
    "\n",
    "\n",
    "if __name__ == '__main__':\n",
    "    main()\n"
   ]
  },
  {
   "cell_type": "code",
   "execution_count": 54,
   "metadata": {
    "collapsed": false
   },
   "outputs": [],
   "source": [
    "x  = [\n",
    "          {\n",
    "            \"url\": \"http://graphics8.nytimes.com/images/2014/02/16/sunday-review/16COVER/16COVER-thumbStandard.jpg\", \n",
    "            \"width\": 75, \n",
    "            \"height\": 75, \n",
    "            \"format\": \"Standard Thumbnail\"\n",
    "          }, \n",
    "          {\n",
    "            \"url\": \"http://graphics8.nytimes.com/images/2014/02/16/sunday-review/16COVER/16COVER-superJumbo.jpg\", \n",
    "            \"width\": 2048, \n",
    "            \"height\": 1552, \n",
    "            \"format\": \"superJumbo\"\n",
    "          }, \n",
    "          {\n",
    "            \"url\": \"http://graphics8.nytimes.com/images/2014/02/16/sunday-review/16COVER/16COVER-sfSpan.jpg\", \n",
    "            \"width\": 395, \n",
    "            \"height\": 263, \n",
    "            \"format\": \"Large\"\n",
    "          }, \n",
    "          {\n",
    "            \"url\": \"http://graphics8.nytimes.com/images/2014/02/16/sunday-review/16COVER/16COVER-thumbLarge.jpg\", \n",
    "            \"width\": 150, \n",
    "            \"height\": 150, \n",
    "            \"format\": \"thumbLarge\"\n",
    "          }, \n",
    "          {\n",
    "            \"url\": \"http://graphics8.nytimes.com/images/2014/02/16/sunday-review/16COVER/16COVER-articleInline.jpg\", \n",
    "            \"width\": 190, \n",
    "            \"height\": 144, \n",
    "            \"format\": \"Normal\"\n",
    "          }, \n",
    "          {\n",
    "            \"url\": \"http://graphics8.nytimes.com/images/2014/02/16/sunday-review/16COVER/16COVER-square640.jpg\", \n",
    "            \"width\": 640, \n",
    "            \"height\": 640, \n",
    "            \"format\": \"square640\"\n",
    "          }, \n",
    "          {\n",
    "            \"url\": \"http://graphics8.nytimes.com/images/2014/02/16/sunday-review/16COVER/16COVER-square320.jpg\", \n",
    "            \"width\": 320, \n",
    "            \"height\": 320, \n",
    "            \"format\": \"square320\"\n",
    "          }, \n",
    "          {\n",
    "            \"url\": \"http://graphics8.nytimes.com/images/2014/02/16/sunday-review/16COVER/16COVER-mediumThreeByTwo210.jpg\", \n",
    "            \"width\": 210, \n",
    "            \"height\": 140, \n",
    "            \"format\": \"mediumThreeByTwo210\"\n",
    "          }\n",
    "        ]"
   ]
  },
  {
   "cell_type": "code",
   "execution_count": 55,
   "metadata": {
    "collapsed": false
   },
   "outputs": [
    {
     "data": {
      "text/plain": [
       "[{'format': 'Standard Thumbnail',\n",
       "  'height': 75,\n",
       "  'url': 'http://graphics8.nytimes.com/images/2014/02/16/sunday-review/16COVER/16COVER-thumbStandard.jpg',\n",
       "  'width': 75},\n",
       " {'format': 'superJumbo',\n",
       "  'height': 1552,\n",
       "  'url': 'http://graphics8.nytimes.com/images/2014/02/16/sunday-review/16COVER/16COVER-superJumbo.jpg',\n",
       "  'width': 2048},\n",
       " {'format': 'Large',\n",
       "  'height': 263,\n",
       "  'url': 'http://graphics8.nytimes.com/images/2014/02/16/sunday-review/16COVER/16COVER-sfSpan.jpg',\n",
       "  'width': 395},\n",
       " {'format': 'thumbLarge',\n",
       "  'height': 150,\n",
       "  'url': 'http://graphics8.nytimes.com/images/2014/02/16/sunday-review/16COVER/16COVER-thumbLarge.jpg',\n",
       "  'width': 150},\n",
       " {'format': 'Normal',\n",
       "  'height': 144,\n",
       "  'url': 'http://graphics8.nytimes.com/images/2014/02/16/sunday-review/16COVER/16COVER-articleInline.jpg',\n",
       "  'width': 190},\n",
       " {'format': 'square640',\n",
       "  'height': 640,\n",
       "  'url': 'http://graphics8.nytimes.com/images/2014/02/16/sunday-review/16COVER/16COVER-square640.jpg',\n",
       "  'width': 640},\n",
       " {'format': 'square320',\n",
       "  'height': 320,\n",
       "  'url': 'http://graphics8.nytimes.com/images/2014/02/16/sunday-review/16COVER/16COVER-square320.jpg',\n",
       "  'width': 320},\n",
       " {'format': 'mediumThreeByTwo210',\n",
       "  'height': 140,\n",
       "  'url': 'http://graphics8.nytimes.com/images/2014/02/16/sunday-review/16COVER/16COVER-mediumThreeByTwo210.jpg',\n",
       "  'width': 210}]"
      ]
     },
     "execution_count": 55,
     "metadata": {},
     "output_type": "execute_result"
    }
   ],
   "source": [
    "x"
   ]
  }
 ],
 "metadata": {
  "kernelspec": {
   "display_name": "Python 2",
   "language": "python",
   "name": "python2"
  },
  "language_info": {
   "codemirror_mode": {
    "name": "ipython",
    "version": 2
   },
   "file_extension": ".py",
   "mimetype": "text/x-python",
   "name": "python",
   "nbconvert_exporter": "python",
   "pygments_lexer": "ipython2",
   "version": "2.7.7"
  }
 },
 "nbformat": 4,
 "nbformat_minor": 0
}
