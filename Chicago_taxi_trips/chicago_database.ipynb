{
 "cells": [
  {
   "cell_type": "code",
   "execution_count": 1,
   "metadata": {
    "collapsed": false
   },
   "outputs": [],
   "source": [
    "import psycopg2\n",
    "import datetime\n",
    "import json\n",
    "from dateutil.parser import parse\n",
    "from dateutil.tz import gettz\n",
    "import os\n",
    "import pandas as pd\n",
    "import numpy"
   ]
  },
  {
   "cell_type": "code",
   "execution_count": 50,
   "metadata": {
    "collapsed": false
   },
   "outputs": [],
   "source": [
    "conn = psycopg2.connect(\"dbname= chicago_taxi user= wenzhe host=localhost password=123\")\n",
    "cur = conn.cursor()"
   ]
  },
  {
   "cell_type": "markdown",
   "metadata": {},
   "source": [
    "### CREATE TABLE"
   ]
  },
  {
   "cell_type": "code",
   "execution_count": 51,
   "metadata": {
    "collapsed": false
   },
   "outputs": [],
   "source": [
    "cur.execute(\"DROP TABLE chicago_2015\")"
   ]
  },
  {
   "cell_type": "code",
   "execution_count": 52,
   "metadata": {
    "collapsed": false
   },
   "outputs": [],
   "source": [
    "# columns: trip_id month date hr trip_seconds trip_miles fare trip_total company\n",
    "cur.execute(\"CREATE TABLE chicago_2015(trip_miles float8, fare float8, company text, year int, month int, date text, hr int)\")"
   ]
  },
  {
   "cell_type": "code",
   "execution_count": 167,
   "metadata": {
    "collapsed": false
   },
   "outputs": [
    {
     "name": "stdout",
     "output_type": "stream",
     "text": [
      "chicago_taxi_201701\n"
     ]
    }
   ],
   "source": [
    "# header = ['Trip ID', 'Taxi ID', 'Trip Start Timestamp', 'Trip End Timestamp', 'Trip Seconds', 'Trip Miles', 'Pickup Census Tract', \\\n",
    "#  'Dropoff Census Tract', 'Pickup Community Area', 'Dropoff Community Area', 'Fare', 'Tips', 'Tolls', 'Extras', 'Trip Total',\\\n",
    "#  'Payment Type', 'Company', 'Pickup Centroid Latitude', 'Pickup Centroid Longitude', 'Pickup Centroid Location', \\\n",
    "#  'Dropoff Centroid Latitude', 'Dropoff Centroid Longitude', 'Dropoff Centroid  Location', 'year', 'month', 'date\\n']\n",
    "result = pd.DataFrame()\n",
    "for file in os.listdir('G:/data_incubator/data/'):\n",
    "    if file.startswith('chicago_taxi_2013'):\n",
    "        print os.path.splitext(file)[0]\n",
    "        df = pd.read_csv(file)\n",
    "#         df = df.loc[df.month == 1]\n",
    "#         result = result.append(df[['year','month','date','hr','Trip Miles','Fare','Company']])"
   ]
  },
  {
   "cell_type": "code",
   "execution_count": 168,
   "metadata": {
    "collapsed": true
   },
   "outputs": [
    {
     "data": {
      "text/html": [
       "<div>\n",
       "<table border=\"1\" class=\"dataframe\">\n",
       "  <thead>\n",
       "    <tr style=\"text-align: right;\">\n",
       "      <th></th>\n",
       "      <th>Trip ID</th>\n",
       "      <th>month</th>\n",
       "      <th>date</th>\n",
       "      <th>hr</th>\n",
       "      <th>Trip Seconds</th>\n",
       "      <th>Trip Miles</th>\n",
       "      <th>Fare</th>\n",
       "      <th>Trip Total</th>\n",
       "      <th>Company</th>\n",
       "    </tr>\n",
       "  </thead>\n",
       "  <tbody>\n",
       "    <tr>\n",
       "      <th>82</th>\n",
       "      <td>39b953b5259b6377f29f0b48dda5a80d8959e349</td>\n",
       "      <td>1</td>\n",
       "      <td>01/31</td>\n",
       "      <td>23</td>\n",
       "      <td>180.0</td>\n",
       "      <td>0.6</td>\n",
       "      <td>5.00</td>\n",
       "      <td>5.0</td>\n",
       "      <td>Taxi Affiliation Services</td>\n",
       "    </tr>\n",
       "    <tr>\n",
       "      <th>83</th>\n",
       "      <td>9dcc6a0cfa1f5430a34b8c8133ffb91d0f0ae8d8</td>\n",
       "      <td>1</td>\n",
       "      <td>01/31</td>\n",
       "      <td>23</td>\n",
       "      <td>960.0</td>\n",
       "      <td>0.5</td>\n",
       "      <td>22.00</td>\n",
       "      <td>26.4</td>\n",
       "      <td>Taxi Affiliation Services</td>\n",
       "    </tr>\n",
       "    <tr>\n",
       "      <th>84</th>\n",
       "      <td>1930cbca56bee20f60d541307cfb89318a5b4da1</td>\n",
       "      <td>1</td>\n",
       "      <td>01/31</td>\n",
       "      <td>23</td>\n",
       "      <td>180.0</td>\n",
       "      <td>0.6</td>\n",
       "      <td>5.00</td>\n",
       "      <td>8.0</td>\n",
       "      <td>KOAM Taxi Association</td>\n",
       "    </tr>\n",
       "    <tr>\n",
       "      <th>85</th>\n",
       "      <td>9d48a32f0fd1af2f17710771b9fe41f7eb788b71</td>\n",
       "      <td>1</td>\n",
       "      <td>01/31</td>\n",
       "      <td>23</td>\n",
       "      <td>1080.0</td>\n",
       "      <td>10.8</td>\n",
       "      <td>28.25</td>\n",
       "      <td>33.9</td>\n",
       "      <td>Taxi Affiliation Services</td>\n",
       "    </tr>\n",
       "    <tr>\n",
       "      <th>86</th>\n",
       "      <td>1c6b92efcbaa815a0e880ffe9401bc99c78ccefd</td>\n",
       "      <td>1</td>\n",
       "      <td>01/31</td>\n",
       "      <td>23</td>\n",
       "      <td>60.0</td>\n",
       "      <td>0.4</td>\n",
       "      <td>4.00</td>\n",
       "      <td>6.5</td>\n",
       "      <td>None</td>\n",
       "    </tr>\n",
       "  </tbody>\n",
       "</table>\n",
       "</div>"
      ],
      "text/plain": [
       "                                     Trip ID  month   date  hr  Trip Seconds  \\\n",
       "82  39b953b5259b6377f29f0b48dda5a80d8959e349      1  01/31  23         180.0   \n",
       "83  9dcc6a0cfa1f5430a34b8c8133ffb91d0f0ae8d8      1  01/31  23         960.0   \n",
       "84  1930cbca56bee20f60d541307cfb89318a5b4da1      1  01/31  23         180.0   \n",
       "85  9d48a32f0fd1af2f17710771b9fe41f7eb788b71      1  01/31  23        1080.0   \n",
       "86  1c6b92efcbaa815a0e880ffe9401bc99c78ccefd      1  01/31  23          60.0   \n",
       "\n",
       "    Trip Miles   Fare  Trip Total                    Company  \n",
       "82         0.6   5.00         5.0  Taxi Affiliation Services  \n",
       "83         0.5  22.00        26.4  Taxi Affiliation Services  \n",
       "84         0.6   5.00         8.0      KOAM Taxi Association  \n",
       "85        10.8  28.25        33.9  Taxi Affiliation Services  \n",
       "86         0.4   4.00         6.5                       None  "
      ]
     },
     "execution_count": 168,
     "metadata": {},
     "output_type": "execute_result"
    }
   ],
   "source": [
    "print result.head()\n",
    "result.to_csv('database_chicago_taxi_201701.csv',index=False)\n",
    "# print 'total trips in 2016: ' + str(len(result))\n",
    "# path = os.path.abspath( 'database_' + os.path.splitext(file)[0] + '.csv')\n",
    "# print path    "
   ]
  },
  {
   "cell_type": "code",
   "execution_count": 53,
   "metadata": {
    "collapsed": false
   },
   "outputs": [],
   "source": [
    "cur.execute(\"COPY chicago_2015 FROM 'G:\\data_incubator\\data\\chicago_taxi_2015.csv' DELIMITER ',' CSV HEADER;\") "
   ]
  },
  {
   "cell_type": "code",
   "execution_count": 54,
   "metadata": {
    "collapsed": true
   },
   "outputs": [],
   "source": [
    "conn.commit()"
   ]
  },
  {
   "cell_type": "code",
   "execution_count": 55,
   "metadata": {
    "collapsed": true
   },
   "outputs": [],
   "source": [
    "cur.close()\n",
    "conn.close()"
   ]
  },
  {
   "cell_type": "markdown",
   "metadata": {
    "collapsed": true
   },
   "source": [
    "### QUERY"
   ]
  },
  {
   "cell_type": "markdown",
   "metadata": {},
   "source": [
    "#### volumn"
   ]
  },
  {
   "cell_type": "code",
   "execution_count": 61,
   "metadata": {
    "collapsed": false
   },
   "outputs": [
    {
     "data": {
      "text/plain": [
       "[(27400525L,)]"
      ]
     },
     "execution_count": 61,
     "metadata": {},
     "output_type": "execute_result"
    }
   ],
   "source": [
    "QUERY = 'select count(year) from chicago_2015'\n",
    "conn = psycopg2.connect(\"dbname= chicago_taxi user= wenzhe host=localhost password=123\")\n",
    "cur = conn.cursor()\n",
    "cur.execute(QUERY)\n",
    "rows = cur.fetchall()\n",
    "rows"
   ]
  },
  {
   "cell_type": "code",
   "execution_count": 178,
   "metadata": {
    "collapsed": false
   },
   "outputs": [
    {
     "data": {
      "text/plain": [
       "[(1040178L,)]"
      ]
     },
     "execution_count": 178,
     "metadata": {},
     "output_type": "execute_result"
    }
   ],
   "source": [
    "QUERY = 'select count(trip_id) from chicago_2017'\n",
    "conn = psycopg2.connect(\"dbname= chicago_taxi user= wenzhe host=localhost password=123\")\n",
    "cur = conn.cursor()\n",
    "cur.execute(QUERY)\n",
    "rows = cur.fetchall()\n",
    "rows"
   ]
  },
  {
   "cell_type": "markdown",
   "metadata": {},
   "source": [
    "#### date/month"
   ]
  },
  {
   "cell_type": "code",
   "execution_count": 89,
   "metadata": {
    "collapsed": true
   },
   "outputs": [],
   "source": [
    "QUERY = 'select month, sum(fare), count(fare) from chicago_2016 group by month'\n",
    "conn = psycopg2.connect(\"dbname= chicago_taxi user= wenzhe host=localhost password=123\")\n",
    "cur = conn.cursor()\n",
    "cur.execute(QUERY)\n",
    "rows = cur.fetchall()\n",
    "\n",
    "fetchdata=pd.DataFrame(rows)\n",
    "fetchdata.columns = ['month','fare','volumn']\n",
    "# fetchdata.date = fetchdata.date.apply(lambda x: x+'/2015')\n",
    "fetchdata['year'] = 2016\n",
    "fetchdata.to_csv('volumn_2016.csv',index=False)"
   ]
  },
  {
   "cell_type": "markdown",
   "metadata": {},
   "source": [
    "#### company"
   ]
  },
  {
   "cell_type": "code",
   "execution_count": 241,
   "metadata": {
    "collapsed": false
   },
   "outputs": [],
   "source": [
    "QUERY=\"select date, sum(trip_total), sum(fare),count(trip_id) from chicago_2016 d where company = 'Taxi Affiliation Services' group by date ;\"\n",
    "conn = psycopg2.connect(\"dbname= chicago_taxi user= wenzhe host=localhost password=123\")\n",
    "cur = conn.cursor()\n",
    "cur.execute(QUERY)\n",
    "rows = cur.fetchall()"
   ]
  },
  {
   "cell_type": "code",
   "execution_count": 242,
   "metadata": {
    "collapsed": true
   },
   "outputs": [
    {
     "name": "stdout",
     "output_type": "stream",
     "text": [
      "366\n"
     ]
    },
    {
     "ename": "IOError",
     "evalue": "[Errno 13] Permission denied: 'query.csv'",
     "output_type": "error",
     "traceback": [
      "\u001b[0;31m---------------------------------------------------------------------------\u001b[0m",
      "\u001b[0;31mIOError\u001b[0m                                   Traceback (most recent call last)",
      "\u001b[0;32m<ipython-input-242-a3c7576def56>\u001b[0m in \u001b[0;36m<module>\u001b[0;34m()\u001b[0m\n\u001b[1;32m      2\u001b[0m \u001b[1;32mprint\u001b[0m \u001b[0mlen\u001b[0m\u001b[1;33m(\u001b[0m\u001b[0mfetchdata\u001b[0m\u001b[1;33m)\u001b[0m\u001b[1;33m\u001b[0m\u001b[0m\n\u001b[1;32m      3\u001b[0m \u001b[0mfetchdata\u001b[0m\u001b[1;33m.\u001b[0m\u001b[0mcolumns\u001b[0m \u001b[1;33m=\u001b[0m \u001b[1;33m[\u001b[0m\u001b[1;34m'date'\u001b[0m\u001b[1;33m,\u001b[0m\u001b[1;34m'trip_total'\u001b[0m\u001b[1;33m,\u001b[0m\u001b[1;34m'fare'\u001b[0m\u001b[1;33m,\u001b[0m\u001b[1;34m'volumn'\u001b[0m\u001b[1;33m]\u001b[0m\u001b[1;33m\u001b[0m\u001b[0m\n\u001b[0;32m----> 4\u001b[0;31m \u001b[0mfetchdata\u001b[0m\u001b[1;33m.\u001b[0m\u001b[0mto_csv\u001b[0m\u001b[1;33m(\u001b[0m\u001b[1;34m'query.csv'\u001b[0m\u001b[1;33m,\u001b[0m\u001b[0mindex\u001b[0m\u001b[1;33m=\u001b[0m\u001b[0mFalse\u001b[0m\u001b[1;33m)\u001b[0m\u001b[1;33m\u001b[0m\u001b[0m\n\u001b[0m",
      "\u001b[0;32mD:\\Anaconda2\\lib\\site-packages\\pandas\\core\\frame.pyc\u001b[0m in \u001b[0;36mto_csv\u001b[0;34m(self, path_or_buf, sep, na_rep, float_format, columns, header, index, index_label, mode, encoding, compression, quoting, quotechar, line_terminator, chunksize, tupleize_cols, date_format, doublequote, escapechar, decimal)\u001b[0m\n\u001b[1;32m   1381\u001b[0m                                      \u001b[0mdoublequote\u001b[0m\u001b[1;33m=\u001b[0m\u001b[0mdoublequote\u001b[0m\u001b[1;33m,\u001b[0m\u001b[1;33m\u001b[0m\u001b[0m\n\u001b[1;32m   1382\u001b[0m                                      escapechar=escapechar, decimal=decimal)\n\u001b[0;32m-> 1383\u001b[0;31m         \u001b[0mformatter\u001b[0m\u001b[1;33m.\u001b[0m\u001b[0msave\u001b[0m\u001b[1;33m(\u001b[0m\u001b[1;33m)\u001b[0m\u001b[1;33m\u001b[0m\u001b[0m\n\u001b[0m\u001b[1;32m   1384\u001b[0m \u001b[1;33m\u001b[0m\u001b[0m\n\u001b[1;32m   1385\u001b[0m         \u001b[1;32mif\u001b[0m \u001b[0mpath_or_buf\u001b[0m \u001b[1;32mis\u001b[0m \u001b[0mNone\u001b[0m\u001b[1;33m:\u001b[0m\u001b[1;33m\u001b[0m\u001b[0m\n",
      "\u001b[0;32mD:\\Anaconda2\\lib\\site-packages\\pandas\\formats\\format.pyc\u001b[0m in \u001b[0;36msave\u001b[0;34m(self)\u001b[0m\n\u001b[1;32m   1458\u001b[0m             f = _get_handle(self.path_or_buf, self.mode,\n\u001b[1;32m   1459\u001b[0m                             \u001b[0mencoding\u001b[0m\u001b[1;33m=\u001b[0m\u001b[0mself\u001b[0m\u001b[1;33m.\u001b[0m\u001b[0mencoding\u001b[0m\u001b[1;33m,\u001b[0m\u001b[1;33m\u001b[0m\u001b[0m\n\u001b[0;32m-> 1460\u001b[0;31m                             compression=self.compression)\n\u001b[0m\u001b[1;32m   1461\u001b[0m             \u001b[0mclose\u001b[0m \u001b[1;33m=\u001b[0m \u001b[0mTrue\u001b[0m\u001b[1;33m\u001b[0m\u001b[0m\n\u001b[1;32m   1462\u001b[0m \u001b[1;33m\u001b[0m\u001b[0m\n",
      "\u001b[0;32mD:\\Anaconda2\\lib\\site-packages\\pandas\\io\\common.pyc\u001b[0m in \u001b[0;36m_get_handle\u001b[0;34m(path, mode, encoding, compression, memory_map)\u001b[0m\n\u001b[1;32m    332\u001b[0m                 \u001b[0mf\u001b[0m \u001b[1;33m=\u001b[0m \u001b[0mopen\u001b[0m\u001b[1;33m(\u001b[0m\u001b[0mpath\u001b[0m\u001b[1;33m,\u001b[0m \u001b[0mmode\u001b[0m\u001b[1;33m,\u001b[0m \u001b[0merrors\u001b[0m\u001b[1;33m=\u001b[0m\u001b[1;34m'replace'\u001b[0m\u001b[1;33m)\u001b[0m\u001b[1;33m\u001b[0m\u001b[0m\n\u001b[1;32m    333\u001b[0m         \u001b[1;32melse\u001b[0m\u001b[1;33m:\u001b[0m\u001b[1;33m\u001b[0m\u001b[0m\n\u001b[0;32m--> 334\u001b[0;31m             \u001b[0mf\u001b[0m \u001b[1;33m=\u001b[0m \u001b[0mopen\u001b[0m\u001b[1;33m(\u001b[0m\u001b[0mpath\u001b[0m\u001b[1;33m,\u001b[0m \u001b[0mmode\u001b[0m\u001b[1;33m)\u001b[0m\u001b[1;33m\u001b[0m\u001b[0m\n\u001b[0m\u001b[1;32m    335\u001b[0m \u001b[1;33m\u001b[0m\u001b[0m\n\u001b[1;32m    336\u001b[0m     \u001b[1;32mif\u001b[0m \u001b[0mmemory_map\u001b[0m \u001b[1;32mand\u001b[0m \u001b[0mhasattr\u001b[0m\u001b[1;33m(\u001b[0m\u001b[0mf\u001b[0m\u001b[1;33m,\u001b[0m \u001b[1;34m'fileno'\u001b[0m\u001b[1;33m)\u001b[0m\u001b[1;33m:\u001b[0m\u001b[1;33m\u001b[0m\u001b[0m\n",
      "\u001b[0;31mIOError\u001b[0m: [Errno 13] Permission denied: 'query.csv'"
     ]
    }
   ],
   "source": [
    "fetchdata=pd.DataFrame(rows)\n",
    "print len(fetchdata)\n",
    "fetchdata.columns = ['date','trip_total','fare','volumn']\n",
    "fetchdata.to_csv('query.csv',index=False)"
   ]
  },
  {
   "cell_type": "code",
   "execution_count": 237,
   "metadata": {
    "collapsed": true
   },
   "outputs": [],
   "source": [
    "QUERY=\"select trip_id,month,date,hr,trip_seconds,trip_miles, fare, trip_total from chicago_2017 d where company = 'Taxi Affiliation Services';\"\n",
    "conn = psycopg2.connect(\"dbname= chicago_taxi user= wenzhe host=localhost password=123\")\n",
    "cur = conn.cursor()\n",
    "cur.execute(QUERY)\n",
    "rows = cur.fetchall()"
   ]
  },
  {
   "cell_type": "code",
   "execution_count": 238,
   "metadata": {
    "collapsed": false
   },
   "outputs": [
    {
     "name": "stdout",
     "output_type": "stream",
     "text": [
      "201988\n"
     ]
    }
   ],
   "source": [
    "fetchdata=pd.DataFrame(rows)\n",
    "print len(fetchdata)\n",
    "fetchdata.columns = ['trip_id','month','date','hr','trip_seconds','trip_miles','fare','trip_total']\n",
    "fetchdata.to_csv('Taxi Affiliation Services_17.csv',index=False)"
   ]
  },
  {
   "cell_type": "code",
   "execution_count": 200,
   "metadata": {
    "collapsed": false
   },
   "outputs": [
    {
     "name": "stderr",
     "output_type": "stream",
     "text": [
      "D:\\Anaconda2\\lib\\site-packages\\ipykernel\\__main__.py:2: SettingWithCopyWarning: \n",
      "A value is trying to be set on a copy of a slice from a DataFrame.\n",
      "Try using .loc[row_indexer,col_indexer] = value instead\n",
      "\n",
      "See the caveats in the documentation: http://pandas.pydata.org/pandas-docs/stable/indexing.html#indexing-view-versus-copy\n",
      "  from ipykernel import kernelapp as app\n"
     ]
    }
   ],
   "source": [
    "fare = fetchdata[fetchdata.trip_miles > 0]\n",
    "fare['fare_mile'] = fare.fare / fare.trip_miles"
   ]
  },
  {
   "cell_type": "code",
   "execution_count": 213,
   "metadata": {
    "collapsed": false
   },
   "outputs": [],
   "source": [
    "fare_l = fare[fare.fare_mile >= 10]\n",
    "fare_m = fare[(fare.fare_mile >= 3) & (fare.fare_mile < 10)]\n",
    "fare_s = fare[fare.fare_mile < 3]"
   ]
  },
  {
   "cell_type": "code",
   "execution_count": 214,
   "metadata": {
    "collapsed": false
   },
   "outputs": [
    {
     "name": "stdout",
     "output_type": "stream",
     "text": [
      "1164027\n",
      "1956268\n",
      "438937\n"
     ]
    }
   ],
   "source": [
    "print len(fare_l)\n",
    "print len(fare_m)\n",
    "print len(fare_s)"
   ]
  },
  {
   "cell_type": "code",
   "execution_count": 226,
   "metadata": {
    "collapsed": false
   },
   "outputs": [
    {
     "name": "stdout",
     "output_type": "stream",
     "text": [
      "61.6666666667\n",
      "5.17857142857\n",
      "2.62\n"
     ]
    }
   ],
   "source": [
    "print numpy.median(fare_l.fare_mile)\n",
    "print numpy.median(fare_m.fare_mile)\n",
    "print numpy.median(fare_s.fare_mile)"
   ]
  },
  {
   "cell_type": "code",
   "execution_count": 221,
   "metadata": {
    "collapsed": false
   },
   "outputs": [
    {
     "data": {
      "text/plain": [
       "month\n",
       "1     107075\n",
       "2     108198\n",
       "3     116523\n",
       "4     115223\n",
       "5     120042\n",
       "6     118983\n",
       "7     108681\n",
       "8      96722\n",
       "9      84960\n",
       "10     77577\n",
       "11     60375\n",
       "12     49668\n",
       "Name: trip_id, dtype: int64"
      ]
     },
     "execution_count": 221,
     "metadata": {},
     "output_type": "execute_result"
    }
   ],
   "source": [
    "fare_l.groupby('month')['trip_id'].count()"
   ]
  },
  {
   "cell_type": "code",
   "execution_count": 222,
   "metadata": {
    "collapsed": false
   },
   "outputs": [
    {
     "data": {
      "text/plain": [
       "hr\n",
       "0      71501\n",
       "1      60945\n",
       "2      53507\n",
       "3      43316\n",
       "4      29462\n",
       "5      17462\n",
       "6      11931\n",
       "7      25424\n",
       "8      65656\n",
       "9      98049\n",
       "10     92490\n",
       "11     86326\n",
       "12    102742\n",
       "13    105171\n",
       "14    102342\n",
       "15     99827\n",
       "16    105953\n",
       "17    115291\n",
       "18    128456\n",
       "19    138079\n",
       "20    122923\n",
       "21     96387\n",
       "22     93137\n",
       "23     89891\n",
       "Name: trip_id, dtype: int64"
      ]
     },
     "execution_count": 222,
     "metadata": {},
     "output_type": "execute_result"
    }
   ],
   "source": [
    "fare_m.groupby('hr')['trip_id'].count()"
   ]
  },
  {
   "cell_type": "code",
   "execution_count": 223,
   "metadata": {
    "collapsed": false
   },
   "outputs": [
    {
     "data": {
      "text/plain": [
       "hr\n",
       "0     15226\n",
       "1     12500\n",
       "2      8591\n",
       "3      6634\n",
       "4      6308\n",
       "5      9787\n",
       "6     13772\n",
       "7     15446\n",
       "8     15666\n",
       "9     17899\n",
       "10    22695\n",
       "11    22144\n",
       "12    24783\n",
       "13    24438\n",
       "14    24276\n",
       "15    24576\n",
       "16    24902\n",
       "17    22228\n",
       "18    17918\n",
       "19    20249\n",
       "20    23313\n",
       "21    23917\n",
       "22    22978\n",
       "23    18691\n",
       "Name: trip_id, dtype: int64"
      ]
     },
     "execution_count": 223,
     "metadata": {},
     "output_type": "execute_result"
    }
   ],
   "source": [
    "fare_s.groupby('hr')['trip_id'].count()"
   ]
  },
  {
   "cell_type": "markdown",
   "metadata": {},
   "source": [
    "### regression"
   ]
  },
  {
   "cell_type": "code",
   "execution_count": 228,
   "metadata": {
    "collapsed": false
   },
   "outputs": [
    {
     "name": "stdout",
     "output_type": "stream",
     "text": [
      "0.791033323616\n"
     ]
    },
    {
     "name": "stderr",
     "output_type": "stream",
     "text": [
      "D:\\Anaconda2\\lib\\site-packages\\ipykernel\\__main__.py:6: FutureWarning: reshape is deprecated and will raise in a subsequent release. Please use .values.reshape(...) instead\n",
      "D:\\Anaconda2\\lib\\site-packages\\ipykernel\\__main__.py:7: FutureWarning: reshape is deprecated and will raise in a subsequent release. Please use .values.reshape(...) instead\n"
     ]
    }
   ],
   "source": [
    "from sklearn import linear_model\n",
    "import random\n",
    "\n",
    "# sample = fare.sample(frac=0.01, replace=True)\n",
    "# print len(sample)\n",
    "X = fare_l.trip_miles.reshape(len(fare_l),1)\n",
    "y = fare_l.fare.reshape(len(fare_l),1)\n",
    "lr = linear_model.LinearRegression()\n",
    "lr.fit(X,y)\n",
    "pred = lr.predict(X)\n",
    "print lr.score(X,y)"
   ]
  },
  {
   "cell_type": "code",
   "execution_count": 230,
   "metadata": {
    "collapsed": false
   },
   "outputs": [
    {
     "name": "stdout",
     "output_type": "stream",
     "text": [
      "[[ 34.05339318]]\n"
     ]
    }
   ],
   "source": [
    "print lr.coef_"
   ]
  },
  {
   "cell_type": "code",
   "execution_count": 87,
   "metadata": {
    "collapsed": false
   },
   "outputs": [],
   "source": [
    "# def outlierCleaner(predictions, x, y):\n",
    "#     import numpy\n",
    "#     cleaned_data = []\n",
    "#     residual = (predictions-y) ** 2\n",
    "#     for i in range(len(residual)):\n",
    "#         if residual[i][0] <= numpy.percentile(residual, 90):\n",
    "#             cleaned_data.append((x[i][0],y[i][0]))\n",
    "#     return cleaned_data"
   ]
  },
  {
   "cell_type": "code",
   "execution_count": 104,
   "metadata": {
    "collapsed": false
   },
   "outputs": [
    {
     "name": "stdout",
     "output_type": "stream",
     "text": [
      "[[ 2.0690253]]\n"
     ]
    }
   ],
   "source": [
    "# cleaned_data = outlierCleaner(pred,X,y)\n",
    "# new_X,new_y = zip(*cleaned_data) \n",
    "# X = numpy.array(new_X).reshape(len(new_X),1)\n",
    "# y = numpy.array(new_y).reshape(len(new_X),1)\n",
    "# lr = linear_model.LinearRegression()\n",
    "# lr.fit(X,y)\n",
    "# print lr.coef_\n",
    "# print lr.score(X,y)"
   ]
  },
  {
   "cell_type": "markdown",
   "metadata": {
    "collapsed": true
   },
   "source": [
    "### plot"
   ]
  },
  {
   "cell_type": "code",
   "execution_count": 7,
   "metadata": {
    "collapsed": true
   },
   "outputs": [],
   "source": [
    "import matplotlib.pyplot as plt\n",
    "%matplotlib inline"
   ]
  },
  {
   "cell_type": "markdown",
   "metadata": {},
   "source": [
    "#### 1. Taxi Affiliation Services"
   ]
  },
  {
   "cell_type": "code",
   "execution_count": 196,
   "metadata": {
    "collapsed": false
   },
   "outputs": [
    {
     "data": {
      "text/plain": [
       "<matplotlib.text.Text at 0x8445a828>"
      ]
     },
     "execution_count": 196,
     "metadata": {},
     "output_type": "execute_result"
    },
    {
     "data": {
      "image/png": "[encoded data removed]",
      "text/plain": [
       "<matplotlib.figure.Figure at 0x170c59518>"
      ]
     },
     "metadata": {},
     "output_type": "display_data"
    }
   ],
   "source": [
    "fig = plt.figure(figsize=(16, 8)) \n",
    "plt.subplot(2, 2, 1)\n",
    "plt.scatter(fetchdata[:3000].trip_seconds, fetchdata[:3000].fare)\n",
    "plt.xlabel('trip_seconds')\n",
    "plt.ylabel('fare')\n",
    "\n",
    "plt.subplot(2, 2, 2)\n",
    "plt.scatter(fetchdata[:3000].trip_seconds, fetchdata[:3000].trip_total)\n",
    "plt.xlabel('trip_seconds')\n",
    "plt.ylabel('trip_total')\n",
    "\n",
    "plt.subplot(2, 2, 3)\n",
    "plt.scatter(fetchdata[:3000].trip_miles, fetchdata[:3000].fare)\n",
    "plt.xlabel('trip_miles')\n",
    "plt.ylabel('fare')\n",
    "\n",
    "plt.subplot(2, 2, 4)\n",
    "plt.scatter(fetchdata[:3000].trip_miles, fetchdata[:3000].trip_total)\n",
    "plt.xlabel('trip_miles')\n",
    "plt.ylabel('trip_total')"
   ]
  },
  {
   "cell_type": "code",
   "execution_count": 215,
   "metadata": {
    "collapsed": false
   },
   "outputs": [
    {
     "data": {
      "text/plain": [
       "<matplotlib.text.Text at 0x937238d0>"
      ]
     },
     "execution_count": 215,
     "metadata": {},
     "output_type": "execute_result"
    },
    {
     "data": {
      "image/png": "[encoded data removed]",
      "text/plain": [
       "<matplotlib.figure.Figure at 0x98e50160>"
      ]
     },
     "metadata": {},
     "output_type": "display_data"
    }
   ],
   "source": [
    "fig = plt.figure(figsize=(16, 6)) \n",
    "plt.subplot(1, 3, 1)\n",
    "plt.scatter(fare_l[:3000].trip_miles, fare_l[:3000].fare)\n",
    "plt.xlabel('trip_miles')\n",
    "plt.ylabel('fare')\n",
    "\n",
    "plt.subplot(1, 3, 2)\n",
    "plt.scatter(fare_m[:3000].trip_miles, fare_m[:3000].fare)\n",
    "plt.xlabel('trip_miles')\n",
    "plt.ylabel('fare')\n",
    "\n",
    "plt.subplot(1, 3, 3)\n",
    "plt.scatter(fare_s[:3000].trip_miles, fare_s[:3000].fare)\n",
    "plt.xlabel('trip_miles')\n",
    "plt.ylabel('fare')"
   ]
  },
  {
   "cell_type": "markdown",
   "metadata": {},
   "source": [
    "#### 2. Blue Ribbon Taxi Association Inc."
   ]
  },
  {
   "cell_type": "code",
   "execution_count": 109,
   "metadata": {
    "collapsed": false
   },
   "outputs": [
    {
     "data": {
      "text/plain": [
       "<matplotlib.text.Text at 0x38220b70>"
      ]
     },
     "execution_count": 109,
     "metadata": {},
     "output_type": "execute_result"
    },
    {
     "data": {
      "image/png": "[encoded data removed]",
      "text/plain": [
       "<matplotlib.figure.Figure at 0x20eeb9b0>"
      ]
     },
     "metadata": {},
     "output_type": "display_data"
    }
   ],
   "source": [
    "fig = plt.figure(figsize=(16, 8)) \n",
    "plt.subplot(2, 2, 1)\n",
    "plt.scatter(fetchdata[:3000].trip_seconds, fetchdata[:3000].fare)\n",
    "plt.xlabel('trip_seconds')\n",
    "plt.ylabel('fare')\n",
    "\n",
    "plt.subplot(2, 2, 2)\n",
    "plt.scatter(fetchdata[:3000].trip_seconds, fetchdata[:3000].trip_total)\n",
    "plt.xlabel('trip_seconds')\n",
    "plt.ylabel('trip_total')\n",
    "\n",
    "plt.subplot(2, 2, 3)\n",
    "plt.scatter(fetchdata.trip_miles, fetchdata.fare)\n",
    "plt.xlabel('trip_miles')\n",
    "plt.ylabel('fare')\n",
    "\n",
    "plt.subplot(2, 2, 4)\n",
    "plt.scatter(fetchdata[:3000].trip_miles, fetchdata[:3000].trip_total)\n",
    "plt.xlabel('trip_miles')\n",
    "plt.ylabel('trip_total')"
   ]
  },
  {
   "cell_type": "markdown",
   "metadata": {},
   "source": [
    "#### 3.Dispatch Taxi Affiliation"
   ]
  },
  {
   "cell_type": "code",
   "execution_count": 113,
   "metadata": {
    "collapsed": false
   },
   "outputs": [
    {
     "name": "stdout",
     "output_type": "stream",
     "text": [
      "35528\n"
     ]
    }
   ],
   "source": [
    "sample = fare.sample(frac=0.01, replace=True)\n",
    "print len(sample)"
   ]
  },
  {
   "cell_type": "code",
   "execution_count": 114,
   "metadata": {
    "collapsed": false
   },
   "outputs": [
    {
     "data": {
      "text/plain": [
       "<matplotlib.text.Text at 0x3a05b5f8>"
      ]
     },
     "execution_count": 114,
     "metadata": {},
     "output_type": "execute_result"
    },
    {
     "data": {
      "image/png": "[encoded data removed]",
      "text/plain": [
       "<matplotlib.figure.Figure at 0x358bbd68>"
      ]
     },
     "metadata": {},
     "output_type": "display_data"
    }
   ],
   "source": [
    "fig = plt.figure(figsize=(16, 8)) \n",
    "plt.subplot(2, 2, 1)\n",
    "plt.scatter(sample.trip_seconds, sample.fare)\n",
    "plt.xlabel('trip_seconds')\n",
    "plt.ylabel('fare')\n",
    "\n",
    "plt.subplot(2, 2, 2)\n",
    "plt.scatter(sample.trip_seconds, sample.trip_total)\n",
    "plt.xlabel('trip_seconds')\n",
    "plt.ylabel('trip_total')\n",
    "\n",
    "plt.subplot(2, 2, 3)\n",
    "plt.scatter(sample.trip_miles, sample.fare)\n",
    "plt.xlabel('trip_miles')\n",
    "plt.ylabel('fare')\n",
    "\n",
    "plt.subplot(2, 2, 4)\n",
    "plt.scatter(sample.trip_miles, sample.trip_total)\n",
    "plt.xlabel('trip_miles')\n",
    "plt.ylabel('trip_total')"
   ]
  }
 ],
 "metadata": {
  "kernelspec": {
   "display_name": "Python 2",
   "language": "python",
   "name": "python2"
  },
  "language_info": {
   "codemirror_mode": {
    "name": "ipython",
    "version": 2
   },
   "file_extension": ".py",
   "mimetype": "text/x-python",
   "name": "python",
   "nbconvert_exporter": "python",
   "pygments_lexer": "ipython2",
   "version": "2.7.13"
  }
 },
 "nbformat": 4,
 "nbformat_minor": 0
}
