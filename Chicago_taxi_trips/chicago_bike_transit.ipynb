{
 "cells": [
  {
   "cell_type": "code",
   "execution_count": 1,
   "metadata": {
    "collapsed": true,
    "deletable": true,
    "editable": true
   },
   "outputs": [],
   "source": [
    "import numpy as np\n",
    "import pandas as pd\n",
    "import datetime\n",
    "import urllib\n",
    "import os\n",
    "# from bokeh.plotting import *\n",
    "# from bokeh.models import HoverTool\n",
    "from collections import OrderedDict\n",
    "%matplotlib inline"
   ]
  },
  {
   "cell_type": "code",
   "execution_count": 2,
   "metadata": {
    "collapsed": true,
    "deletable": true,
    "editable": true
   },
   "outputs": [],
   "source": [
    "bike  = pd.read_csv('G:/Incubator/Divvy_Trips_2016_1_1_2016_7_31.csv')"
   ]
  },
  {
   "cell_type": "code",
   "execution_count": 4,
   "metadata": {
    "collapsed": false,
    "deletable": true,
    "editable": true
   },
   "outputs": [
    {
     "data": {
      "text/plain": [
       "Index([u'TRIP ID', u'START TIME', u'STOP TIME', u'BIKE ID', u'TRIP DURATION', u'FROM STATION ID', u'FROM STATION NAME', u'TO STATION ID', u'TO STATION NAME', u'USER TYPE', u'GENDER', u'BIRTH YEAR', u'FROM LATITUDE', u'FROM LONGITUDE', u'FROM LOCATION', u'TO LATITUDE', u'TO LONGITUDE', u'TO LOCATION'], dtype='object')"
      ]
     },
     "execution_count": 4,
     "metadata": {},
     "output_type": "execute_result"
    }
   ],
   "source": [
    "bike.columns"
   ]
  },
  {
   "cell_type": "code",
   "execution_count": 6,
   "metadata": {
    "collapsed": false,
    "deletable": true,
    "editable": true
   },
   "outputs": [],
   "source": [
    "bike['month'] = bike['START TIME'].apply(lambda x: x[:2])\n",
    "bike['date'] = bike['START TIME'].apply(lambda x: x[:5])\n",
    "bike['year'] = bike['START TIME'].apply(lambda x: x[6:10])\n",
    "# bike = bike.loc[bike.month != '08']\n",
    "day = bike[[u'TRIP ID','date']].groupby('date').agg(['count']).reset_index()\n",
    "day.columns = ['date','bike_count']"
   ]
  },
  {
   "cell_type": "code",
   "execution_count": 14,
   "metadata": {
    "collapsed": false,
    "deletable": true,
    "editable": true
   },
   "outputs": [],
   "source": []
  },
  {
   "cell_type": "code",
   "execution_count": 17,
   "metadata": {
    "collapsed": true,
    "deletable": true,
    "editable": true
   },
   "outputs": [],
   "source": [
    "bike  = pd.read_csv('G:/Incubator/Divvy_Trips_2016_8_1_2017_2_5.csv')\n",
    "bike['month'] = bike['START TIME'].apply(lambda x: x[:2])\n",
    "bike['date'] = bike['START TIME'].apply(lambda x: x[:5])\n",
    "bike['year'] = bike['START TIME'].apply(lambda x: x[6:10])\n",
    "# bike = bike.loc[bike.month != '08']\n",
    "day2 = bike[[u'TRIP ID','date']].groupby('date').agg(['count']).reset_index()\n",
    "day2.columns = ['date','bike_count']"
   ]
  },
  {
   "cell_type": "code",
   "execution_count": 18,
   "metadata": {
    "collapsed": false,
    "deletable": true,
    "editable": true
   },
   "outputs": [],
   "source": [
    "day = pd.concat([day,day2], axis=0)"
   ]
  },
  {
   "cell_type": "code",
   "execution_count": 22,
   "metadata": {
    "collapsed": false,
    "deletable": true,
    "editable": true
   },
   "outputs": [],
   "source": [
    "day.to_csv('G:/Incubator/chicago_bike_2016_d.csv',index=False)"
   ]
  },
  {
   "cell_type": "code",
   "execution_count": null,
   "metadata": {
    "collapsed": true,
    "deletable": true,
    "editable": true
   },
   "outputs": [],
   "source": []
  },
  {
   "cell_type": "code",
   "execution_count": 23,
   "metadata": {
    "collapsed": true,
    "deletable": true,
    "editable": true
   },
   "outputs": [],
   "source": [
    "crime  = pd.read_csv('G:/Incubator/Crimes_-_2016.csv')"
   ]
  },
  {
   "cell_type": "code",
   "execution_count": 24,
   "metadata": {
    "collapsed": false,
    "deletable": true,
    "editable": true
   },
   "outputs": [
    {
     "data": {
      "text/plain": [
       "Index([u'ID', u'Case Number', u'Date', u'Block', u'IUCR', u'Primary Type', u'Description', u'Location Description', u'Arrest', u'Domestic', u'Beat', u'District', u'Ward', u'Community Area', u'FBI Code', u'X Coordinate', u'Y Coordinate', u'Year', u'Updated On', u'Latitude', u'Longitude', u'Location'], dtype='object')"
      ]
     },
     "execution_count": 24,
     "metadata": {},
     "output_type": "execute_result"
    }
   ],
   "source": [
    "crime.columns"
   ]
  },
  {
   "cell_type": "code",
   "execution_count": 27,
   "metadata": {
    "collapsed": false,
    "deletable": true,
    "editable": true
   },
   "outputs": [],
   "source": [
    "crime['month'] = crime['Date'].apply(lambda x: x[:2])\n",
    "crime['date'] = crime['Date'].apply(lambda x: x[:5])\n",
    "crime['year'] = crime['Date'].apply(lambda x: x[6:10])"
   ]
  },
  {
   "cell_type": "code",
   "execution_count": 28,
   "metadata": {
    "collapsed": true,
    "deletable": true,
    "editable": true
   },
   "outputs": [],
   "source": [
    "cr_day = crime[['ID','date']].groupby('date').agg(['count']).reset_index()"
   ]
  },
  {
   "cell_type": "code",
   "execution_count": 30,
   "metadata": {
    "collapsed": false,
    "deletable": true,
    "editable": true
   },
   "outputs": [],
   "source": [
    "cr_day.to_csv('G:/Incubator/crime_d.csv',index=False)"
   ]
  }
 ],
 "metadata": {
  "kernelspec": {
   "display_name": "Python 3",
   "language": "python",
   "name": "python3"
  },
  "language_info": {
   "codemirror_mode": {
    "name": "ipython",
    "version": 3
   },
   "file_extension": ".py",
   "mimetype": "text/x-python",
   "name": "python",
   "nbconvert_exporter": "python",
   "pygments_lexer": "ipython3",
   "version": "3.5.3"
  }
 },
 "nbformat": 4,
 "nbformat_minor": 0
}
