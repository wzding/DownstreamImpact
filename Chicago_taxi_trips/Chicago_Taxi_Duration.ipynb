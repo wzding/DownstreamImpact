{
 "cells": [
  {
   "cell_type": "markdown",
   "metadata": {
    "deletable": true,
    "editable": true
   },
   "source": [
    "# Using 2017 data"
   ]
  },
  {
   "cell_type": "code",
   "execution_count": 4,
   "metadata": {
    "collapsed": false,
    "deletable": true,
    "editable": true
   },
   "outputs": [],
   "source": [
    "import numpy as np\n",
    "import pandas as pd\n",
    "from datetime import datetime\n",
    "import urllib\n",
    "import os\n",
    "# from bokeh.plotting import *\n",
    "# from bokeh.models import HoverTool\n",
    "from collections import OrderedDict\n",
    "\n",
    "import matplotlib.pyplot as plt\n",
    "%matplotlib inline\n",
    "\n"
   ]
  },
  {
   "cell_type": "code",
   "execution_count": 2,
   "metadata": {
    "collapsed": true,
    "deletable": true,
    "editable": true
   },
   "outputs": [],
   "source": [
    "_src_dir_ = \"data/\""
   ]
  },
  {
   "cell_type": "code",
   "execution_count": 1,
   "metadata": {
    "collapsed": false,
    "deletable": true,
    "editable": true
   },
   "outputs": [
    {
     "data": {
      "text/html": [
       "<script>requirejs.config({paths: { 'plotly': ['https://cdn.plot.ly/plotly-latest.min']},});if(!window.Plotly) {{require(['plotly'],function(plotly) {window.Plotly=plotly;});}}</script>"
      ],
      "text/vnd.plotly.v1+html": [
       "<script>requirejs.config({paths: { 'plotly': ['https://cdn.plot.ly/plotly-latest.min']},});if(!window.Plotly) {{require(['plotly'],function(plotly) {window.Plotly=plotly;});}}</script>"
      ]
     },
     "metadata": {},
     "output_type": "display_data"
    }
   ],
   "source": [
    "import plotly.graph_objs as go \n",
    "from plotly.offline import download_plotlyjs, init_notebook_mode, plot, iplot\n",
    "init_notebook_mode(connected=True)"
   ]
  },
  {
   "cell_type": "code",
   "execution_count": 6,
   "metadata": {
    "collapsed": false
   },
   "outputs": [],
   "source": [
    "community = pd.read_csv(_src_dir_ + \"CommAreas.csv\")"
   ]
  },
  {
   "cell_type": "code",
   "execution_count": 7,
   "metadata": {
    "collapsed": false
   },
   "outputs": [
    {
     "data": {
      "text/html": [
       "<div>\n",
       "<style scoped>\n",
       "    .dataframe tbody tr th:only-of-type {\n",
       "        vertical-align: middle;\n",
       "    }\n",
       "\n",
       "    .dataframe tbody tr th {\n",
       "        vertical-align: top;\n",
       "    }\n",
       "\n",
       "    .dataframe thead th {\n",
       "        text-align: right;\n",
       "    }\n",
       "</style>\n",
       "<table border=\"1\" class=\"dataframe\">\n",
       "  <thead>\n",
       "    <tr style=\"text-align: right;\">\n",
       "      <th></th>\n",
       "      <th>the_geom</th>\n",
       "      <th>PERIMETER</th>\n",
       "      <th>AREA</th>\n",
       "      <th>COMAREA_</th>\n",
       "      <th>COMAREA_ID</th>\n",
       "      <th>AREA_NUMBE</th>\n",
       "      <th>COMMUNITY</th>\n",
       "      <th>AREA_NUM_1</th>\n",
       "      <th>SHAPE_AREA</th>\n",
       "      <th>SHAPE_LEN</th>\n",
       "    </tr>\n",
       "  </thead>\n",
       "  <tbody>\n",
       "    <tr>\n",
       "      <th>0</th>\n",
       "      <td>MULTIPOLYGON (((-87.60914087617894 41.84469250...</td>\n",
       "      <td>0</td>\n",
       "      <td>0</td>\n",
       "      <td>0</td>\n",
       "      <td>0</td>\n",
       "      <td>35</td>\n",
       "      <td>DOUGLAS</td>\n",
       "      <td>35</td>\n",
       "      <td>4.600462e+07</td>\n",
       "      <td>31027.054510</td>\n",
       "    </tr>\n",
       "    <tr>\n",
       "      <th>1</th>\n",
       "      <td>MULTIPOLYGON (((-87.59215283879394 41.81692934...</td>\n",
       "      <td>0</td>\n",
       "      <td>0</td>\n",
       "      <td>0</td>\n",
       "      <td>0</td>\n",
       "      <td>36</td>\n",
       "      <td>OAKLAND</td>\n",
       "      <td>36</td>\n",
       "      <td>1.691396e+07</td>\n",
       "      <td>19565.506153</td>\n",
       "    </tr>\n",
       "    <tr>\n",
       "      <th>2</th>\n",
       "      <td>MULTIPOLYGON (((-87.62879823733725 41.80189303...</td>\n",
       "      <td>0</td>\n",
       "      <td>0</td>\n",
       "      <td>0</td>\n",
       "      <td>0</td>\n",
       "      <td>37</td>\n",
       "      <td>FULLER PARK</td>\n",
       "      <td>37</td>\n",
       "      <td>1.991670e+07</td>\n",
       "      <td>25339.089750</td>\n",
       "    </tr>\n",
       "    <tr>\n",
       "      <th>3</th>\n",
       "      <td>MULTIPOLYGON (((-87.6067081256125 41.816813770...</td>\n",
       "      <td>0</td>\n",
       "      <td>0</td>\n",
       "      <td>0</td>\n",
       "      <td>0</td>\n",
       "      <td>38</td>\n",
       "      <td>GRAND BOULEVARD</td>\n",
       "      <td>38</td>\n",
       "      <td>4.849250e+07</td>\n",
       "      <td>28196.837157</td>\n",
       "    </tr>\n",
       "    <tr>\n",
       "      <th>4</th>\n",
       "      <td>MULTIPOLYGON (((-87.59215283879394 41.81692934...</td>\n",
       "      <td>0</td>\n",
       "      <td>0</td>\n",
       "      <td>0</td>\n",
       "      <td>0</td>\n",
       "      <td>39</td>\n",
       "      <td>KENWOOD</td>\n",
       "      <td>39</td>\n",
       "      <td>2.907174e+07</td>\n",
       "      <td>23325.167906</td>\n",
       "    </tr>\n",
       "  </tbody>\n",
       "</table>\n",
       "</div>"
      ],
      "text/plain": [
       "                                            the_geom  PERIMETER  AREA  \\\n",
       "0  MULTIPOLYGON (((-87.60914087617894 41.84469250...          0     0   \n",
       "1  MULTIPOLYGON (((-87.59215283879394 41.81692934...          0     0   \n",
       "2  MULTIPOLYGON (((-87.62879823733725 41.80189303...          0     0   \n",
       "3  MULTIPOLYGON (((-87.6067081256125 41.816813770...          0     0   \n",
       "4  MULTIPOLYGON (((-87.59215283879394 41.81692934...          0     0   \n",
       "\n",
       "   COMAREA_  COMAREA_ID  AREA_NUMBE        COMMUNITY  AREA_NUM_1  \\\n",
       "0         0           0          35          DOUGLAS          35   \n",
       "1         0           0          36          OAKLAND          36   \n",
       "2         0           0          37      FULLER PARK          37   \n",
       "3         0           0          38  GRAND BOULEVARD          38   \n",
       "4         0           0          39          KENWOOD          39   \n",
       "\n",
       "     SHAPE_AREA     SHAPE_LEN  \n",
       "0  4.600462e+07  31027.054510  \n",
       "1  1.691396e+07  19565.506153  \n",
       "2  1.991670e+07  25339.089750  \n",
       "3  4.849250e+07  28196.837157  \n",
       "4  2.907174e+07  23325.167906  "
      ]
     },
     "execution_count": 7,
     "metadata": {},
     "output_type": "execute_result"
    }
   ],
   "source": [
    "community.head()"
   ]
  },
  {
   "cell_type": "code",
   "execution_count": 8,
   "metadata": {
    "collapsed": false
   },
   "outputs": [
    {
     "data": {
      "text/html": [
       "<div>\n",
       "<style scoped>\n",
       "    .dataframe tbody tr th:only-of-type {\n",
       "        vertical-align: middle;\n",
       "    }\n",
       "\n",
       "    .dataframe tbody tr th {\n",
       "        vertical-align: top;\n",
       "    }\n",
       "\n",
       "    .dataframe thead th {\n",
       "        text-align: right;\n",
       "    }\n",
       "</style>\n",
       "<table border=\"1\" class=\"dataframe\">\n",
       "  <thead>\n",
       "    <tr style=\"text-align: right;\">\n",
       "      <th></th>\n",
       "      <th>AREA_NUMBE</th>\n",
       "      <th>COMMUNITY</th>\n",
       "      <th>AREA_NUM_1</th>\n",
       "    </tr>\n",
       "  </thead>\n",
       "  <tbody>\n",
       "    <tr>\n",
       "      <th>0</th>\n",
       "      <td>35</td>\n",
       "      <td>DOUGLAS</td>\n",
       "      <td>35</td>\n",
       "    </tr>\n",
       "    <tr>\n",
       "      <th>1</th>\n",
       "      <td>36</td>\n",
       "      <td>OAKLAND</td>\n",
       "      <td>36</td>\n",
       "    </tr>\n",
       "    <tr>\n",
       "      <th>2</th>\n",
       "      <td>37</td>\n",
       "      <td>FULLER PARK</td>\n",
       "      <td>37</td>\n",
       "    </tr>\n",
       "    <tr>\n",
       "      <th>3</th>\n",
       "      <td>38</td>\n",
       "      <td>GRAND BOULEVARD</td>\n",
       "      <td>38</td>\n",
       "    </tr>\n",
       "    <tr>\n",
       "      <th>4</th>\n",
       "      <td>39</td>\n",
       "      <td>KENWOOD</td>\n",
       "      <td>39</td>\n",
       "    </tr>\n",
       "    <tr>\n",
       "      <th>5</th>\n",
       "      <td>4</td>\n",
       "      <td>LINCOLN SQUARE</td>\n",
       "      <td>4</td>\n",
       "    </tr>\n",
       "    <tr>\n",
       "      <th>6</th>\n",
       "      <td>40</td>\n",
       "      <td>WASHINGTON PARK</td>\n",
       "      <td>40</td>\n",
       "    </tr>\n",
       "    <tr>\n",
       "      <th>7</th>\n",
       "      <td>41</td>\n",
       "      <td>HYDE PARK</td>\n",
       "      <td>41</td>\n",
       "    </tr>\n",
       "    <tr>\n",
       "      <th>8</th>\n",
       "      <td>42</td>\n",
       "      <td>WOODLAWN</td>\n",
       "      <td>42</td>\n",
       "    </tr>\n",
       "    <tr>\n",
       "      <th>9</th>\n",
       "      <td>1</td>\n",
       "      <td>ROGERS PARK</td>\n",
       "      <td>1</td>\n",
       "    </tr>\n",
       "    <tr>\n",
       "      <th>10</th>\n",
       "      <td>11</td>\n",
       "      <td>JEFFERSON PARK</td>\n",
       "      <td>11</td>\n",
       "    </tr>\n",
       "    <tr>\n",
       "      <th>11</th>\n",
       "      <td>12</td>\n",
       "      <td>FOREST GLEN</td>\n",
       "      <td>12</td>\n",
       "    </tr>\n",
       "    <tr>\n",
       "      <th>12</th>\n",
       "      <td>13</td>\n",
       "      <td>NORTH PARK</td>\n",
       "      <td>13</td>\n",
       "    </tr>\n",
       "    <tr>\n",
       "      <th>13</th>\n",
       "      <td>14</td>\n",
       "      <td>ALBANY PARK</td>\n",
       "      <td>14</td>\n",
       "    </tr>\n",
       "    <tr>\n",
       "      <th>14</th>\n",
       "      <td>15</td>\n",
       "      <td>PORTAGE PARK</td>\n",
       "      <td>15</td>\n",
       "    </tr>\n",
       "    <tr>\n",
       "      <th>15</th>\n",
       "      <td>16</td>\n",
       "      <td>IRVING PARK</td>\n",
       "      <td>16</td>\n",
       "    </tr>\n",
       "    <tr>\n",
       "      <th>16</th>\n",
       "      <td>17</td>\n",
       "      <td>DUNNING</td>\n",
       "      <td>17</td>\n",
       "    </tr>\n",
       "    <tr>\n",
       "      <th>17</th>\n",
       "      <td>18</td>\n",
       "      <td>MONTCLARE</td>\n",
       "      <td>18</td>\n",
       "    </tr>\n",
       "    <tr>\n",
       "      <th>18</th>\n",
       "      <td>19</td>\n",
       "      <td>BELMONT CRAGIN</td>\n",
       "      <td>19</td>\n",
       "    </tr>\n",
       "    <tr>\n",
       "      <th>19</th>\n",
       "      <td>2</td>\n",
       "      <td>WEST RIDGE</td>\n",
       "      <td>2</td>\n",
       "    </tr>\n",
       "    <tr>\n",
       "      <th>20</th>\n",
       "      <td>20</td>\n",
       "      <td>HERMOSA</td>\n",
       "      <td>20</td>\n",
       "    </tr>\n",
       "    <tr>\n",
       "      <th>21</th>\n",
       "      <td>21</td>\n",
       "      <td>AVONDALE</td>\n",
       "      <td>21</td>\n",
       "    </tr>\n",
       "    <tr>\n",
       "      <th>22</th>\n",
       "      <td>22</td>\n",
       "      <td>LOGAN SQUARE</td>\n",
       "      <td>22</td>\n",
       "    </tr>\n",
       "    <tr>\n",
       "      <th>23</th>\n",
       "      <td>23</td>\n",
       "      <td>HUMBOLDT PARK</td>\n",
       "      <td>23</td>\n",
       "    </tr>\n",
       "    <tr>\n",
       "      <th>24</th>\n",
       "      <td>24</td>\n",
       "      <td>WEST TOWN</td>\n",
       "      <td>24</td>\n",
       "    </tr>\n",
       "    <tr>\n",
       "      <th>25</th>\n",
       "      <td>25</td>\n",
       "      <td>AUSTIN</td>\n",
       "      <td>25</td>\n",
       "    </tr>\n",
       "    <tr>\n",
       "      <th>26</th>\n",
       "      <td>26</td>\n",
       "      <td>WEST GARFIELD PARK</td>\n",
       "      <td>26</td>\n",
       "    </tr>\n",
       "    <tr>\n",
       "      <th>27</th>\n",
       "      <td>27</td>\n",
       "      <td>EAST GARFIELD PARK</td>\n",
       "      <td>27</td>\n",
       "    </tr>\n",
       "    <tr>\n",
       "      <th>28</th>\n",
       "      <td>28</td>\n",
       "      <td>NEAR WEST SIDE</td>\n",
       "      <td>28</td>\n",
       "    </tr>\n",
       "    <tr>\n",
       "      <th>29</th>\n",
       "      <td>29</td>\n",
       "      <td>NORTH LAWNDALE</td>\n",
       "      <td>29</td>\n",
       "    </tr>\n",
       "    <tr>\n",
       "      <th>...</th>\n",
       "      <td>...</td>\n",
       "      <td>...</td>\n",
       "      <td>...</td>\n",
       "    </tr>\n",
       "    <tr>\n",
       "      <th>47</th>\n",
       "      <td>5</td>\n",
       "      <td>NORTH CENTER</td>\n",
       "      <td>5</td>\n",
       "    </tr>\n",
       "    <tr>\n",
       "      <th>48</th>\n",
       "      <td>50</td>\n",
       "      <td>PULLMAN</td>\n",
       "      <td>50</td>\n",
       "    </tr>\n",
       "    <tr>\n",
       "      <th>49</th>\n",
       "      <td>51</td>\n",
       "      <td>SOUTH DEERING</td>\n",
       "      <td>51</td>\n",
       "    </tr>\n",
       "    <tr>\n",
       "      <th>50</th>\n",
       "      <td>52</td>\n",
       "      <td>EAST SIDE</td>\n",
       "      <td>52</td>\n",
       "    </tr>\n",
       "    <tr>\n",
       "      <th>51</th>\n",
       "      <td>53</td>\n",
       "      <td>WEST PULLMAN</td>\n",
       "      <td>53</td>\n",
       "    </tr>\n",
       "    <tr>\n",
       "      <th>52</th>\n",
       "      <td>54</td>\n",
       "      <td>RIVERDALE</td>\n",
       "      <td>54</td>\n",
       "    </tr>\n",
       "    <tr>\n",
       "      <th>53</th>\n",
       "      <td>55</td>\n",
       "      <td>HEGEWISCH</td>\n",
       "      <td>55</td>\n",
       "    </tr>\n",
       "    <tr>\n",
       "      <th>54</th>\n",
       "      <td>56</td>\n",
       "      <td>GARFIELD RIDGE</td>\n",
       "      <td>56</td>\n",
       "    </tr>\n",
       "    <tr>\n",
       "      <th>55</th>\n",
       "      <td>57</td>\n",
       "      <td>ARCHER HEIGHTS</td>\n",
       "      <td>57</td>\n",
       "    </tr>\n",
       "    <tr>\n",
       "      <th>56</th>\n",
       "      <td>58</td>\n",
       "      <td>BRIGHTON PARK</td>\n",
       "      <td>58</td>\n",
       "    </tr>\n",
       "    <tr>\n",
       "      <th>57</th>\n",
       "      <td>60</td>\n",
       "      <td>BRIDGEPORT</td>\n",
       "      <td>60</td>\n",
       "    </tr>\n",
       "    <tr>\n",
       "      <th>58</th>\n",
       "      <td>61</td>\n",
       "      <td>NEW CITY</td>\n",
       "      <td>61</td>\n",
       "    </tr>\n",
       "    <tr>\n",
       "      <th>59</th>\n",
       "      <td>62</td>\n",
       "      <td>WEST ELSDON</td>\n",
       "      <td>62</td>\n",
       "    </tr>\n",
       "    <tr>\n",
       "      <th>60</th>\n",
       "      <td>63</td>\n",
       "      <td>GAGE PARK</td>\n",
       "      <td>63</td>\n",
       "    </tr>\n",
       "    <tr>\n",
       "      <th>61</th>\n",
       "      <td>64</td>\n",
       "      <td>CLEARING</td>\n",
       "      <td>64</td>\n",
       "    </tr>\n",
       "    <tr>\n",
       "      <th>62</th>\n",
       "      <td>65</td>\n",
       "      <td>WEST LAWN</td>\n",
       "      <td>65</td>\n",
       "    </tr>\n",
       "    <tr>\n",
       "      <th>63</th>\n",
       "      <td>66</td>\n",
       "      <td>CHICAGO LAWN</td>\n",
       "      <td>66</td>\n",
       "    </tr>\n",
       "    <tr>\n",
       "      <th>64</th>\n",
       "      <td>67</td>\n",
       "      <td>WEST ENGLEWOOD</td>\n",
       "      <td>67</td>\n",
       "    </tr>\n",
       "    <tr>\n",
       "      <th>65</th>\n",
       "      <td>68</td>\n",
       "      <td>ENGLEWOOD</td>\n",
       "      <td>68</td>\n",
       "    </tr>\n",
       "    <tr>\n",
       "      <th>66</th>\n",
       "      <td>69</td>\n",
       "      <td>GREATER GRAND CROSSING</td>\n",
       "      <td>69</td>\n",
       "    </tr>\n",
       "    <tr>\n",
       "      <th>67</th>\n",
       "      <td>7</td>\n",
       "      <td>LINCOLN PARK</td>\n",
       "      <td>7</td>\n",
       "    </tr>\n",
       "    <tr>\n",
       "      <th>68</th>\n",
       "      <td>70</td>\n",
       "      <td>ASHBURN</td>\n",
       "      <td>70</td>\n",
       "    </tr>\n",
       "    <tr>\n",
       "      <th>69</th>\n",
       "      <td>71</td>\n",
       "      <td>AUBURN GRESHAM</td>\n",
       "      <td>71</td>\n",
       "    </tr>\n",
       "    <tr>\n",
       "      <th>70</th>\n",
       "      <td>72</td>\n",
       "      <td>BEVERLY</td>\n",
       "      <td>72</td>\n",
       "    </tr>\n",
       "    <tr>\n",
       "      <th>71</th>\n",
       "      <td>73</td>\n",
       "      <td>WASHINGTON HEIGHTS</td>\n",
       "      <td>73</td>\n",
       "    </tr>\n",
       "    <tr>\n",
       "      <th>72</th>\n",
       "      <td>74</td>\n",
       "      <td>MOUNT GREENWOOD</td>\n",
       "      <td>74</td>\n",
       "    </tr>\n",
       "    <tr>\n",
       "      <th>73</th>\n",
       "      <td>75</td>\n",
       "      <td>MORGAN PARK</td>\n",
       "      <td>75</td>\n",
       "    </tr>\n",
       "    <tr>\n",
       "      <th>74</th>\n",
       "      <td>76</td>\n",
       "      <td>OHARE</td>\n",
       "      <td>76</td>\n",
       "    </tr>\n",
       "    <tr>\n",
       "      <th>75</th>\n",
       "      <td>77</td>\n",
       "      <td>EDGEWATER</td>\n",
       "      <td>77</td>\n",
       "    </tr>\n",
       "    <tr>\n",
       "      <th>76</th>\n",
       "      <td>9</td>\n",
       "      <td>EDISON PARK</td>\n",
       "      <td>9</td>\n",
       "    </tr>\n",
       "  </tbody>\n",
       "</table>\n",
       "<p>77 rows × 3 columns</p>\n",
       "</div>"
      ],
      "text/plain": [
       "    AREA_NUMBE               COMMUNITY  AREA_NUM_1\n",
       "0           35                 DOUGLAS          35\n",
       "1           36                 OAKLAND          36\n",
       "2           37             FULLER PARK          37\n",
       "3           38         GRAND BOULEVARD          38\n",
       "4           39                 KENWOOD          39\n",
       "5            4          LINCOLN SQUARE           4\n",
       "6           40         WASHINGTON PARK          40\n",
       "7           41               HYDE PARK          41\n",
       "8           42                WOODLAWN          42\n",
       "9            1             ROGERS PARK           1\n",
       "10          11          JEFFERSON PARK          11\n",
       "11          12             FOREST GLEN          12\n",
       "12          13              NORTH PARK          13\n",
       "13          14             ALBANY PARK          14\n",
       "14          15            PORTAGE PARK          15\n",
       "15          16             IRVING PARK          16\n",
       "16          17                 DUNNING          17\n",
       "17          18               MONTCLARE          18\n",
       "18          19          BELMONT CRAGIN          19\n",
       "19           2              WEST RIDGE           2\n",
       "20          20                 HERMOSA          20\n",
       "21          21                AVONDALE          21\n",
       "22          22            LOGAN SQUARE          22\n",
       "23          23           HUMBOLDT PARK          23\n",
       "24          24               WEST TOWN          24\n",
       "25          25                  AUSTIN          25\n",
       "26          26      WEST GARFIELD PARK          26\n",
       "27          27      EAST GARFIELD PARK          27\n",
       "28          28          NEAR WEST SIDE          28\n",
       "29          29          NORTH LAWNDALE          29\n",
       "..         ...                     ...         ...\n",
       "47           5            NORTH CENTER           5\n",
       "48          50                 PULLMAN          50\n",
       "49          51           SOUTH DEERING          51\n",
       "50          52               EAST SIDE          52\n",
       "51          53            WEST PULLMAN          53\n",
       "52          54               RIVERDALE          54\n",
       "53          55               HEGEWISCH          55\n",
       "54          56          GARFIELD RIDGE          56\n",
       "55          57          ARCHER HEIGHTS          57\n",
       "56          58           BRIGHTON PARK          58\n",
       "57          60              BRIDGEPORT          60\n",
       "58          61                NEW CITY          61\n",
       "59          62             WEST ELSDON          62\n",
       "60          63               GAGE PARK          63\n",
       "61          64                CLEARING          64\n",
       "62          65               WEST LAWN          65\n",
       "63          66            CHICAGO LAWN          66\n",
       "64          67          WEST ENGLEWOOD          67\n",
       "65          68               ENGLEWOOD          68\n",
       "66          69  GREATER GRAND CROSSING          69\n",
       "67           7            LINCOLN PARK           7\n",
       "68          70                 ASHBURN          70\n",
       "69          71          AUBURN GRESHAM          71\n",
       "70          72                 BEVERLY          72\n",
       "71          73      WASHINGTON HEIGHTS          73\n",
       "72          74         MOUNT GREENWOOD          74\n",
       "73          75             MORGAN PARK          75\n",
       "74          76                   OHARE          76\n",
       "75          77               EDGEWATER          77\n",
       "76           9             EDISON PARK           9\n",
       "\n",
       "[77 rows x 3 columns]"
      ]
     },
     "execution_count": 8,
     "metadata": {},
     "output_type": "execute_result"
    }
   ],
   "source": [
    "community[[\"AREA_NUMBE\", \"COMMUNITY\", \"AREA_NUM_1\"]]"
   ]
  },
  {
   "cell_type": "markdown",
   "metadata": {
    "deletable": true,
    "editable": true
   },
   "source": [
    "## Distribution of Trip Duration"
   ]
  },
  {
   "cell_type": "code",
   "execution_count": null,
   "metadata": {
    "collapsed": true,
    "deletable": true,
    "editable": true
   },
   "outputs": [],
   "source": []
  },
  {
   "cell_type": "code",
   "execution_count": null,
   "metadata": {
    "collapsed": true,
    "deletable": true,
    "editable": true
   },
   "outputs": [],
   "source": []
  },
  {
   "cell_type": "markdown",
   "metadata": {
    "collapsed": true,
    "deletable": true,
    "editable": true
   },
   "source": [
    "## Duration vs. Distance"
   ]
  },
  {
   "cell_type": "code",
   "execution_count": null,
   "metadata": {
    "collapsed": true
   },
   "outputs": [],
   "source": []
  },
  {
   "cell_type": "code",
   "execution_count": null,
   "metadata": {
    "collapsed": true
   },
   "outputs": [],
   "source": []
  },
  {
   "cell_type": "markdown",
   "metadata": {
    "deletable": true,
    "editable": true
   },
   "source": [
    "### Correlation Matrix"
   ]
  },
  {
   "cell_type": "code",
   "execution_count": 4,
   "metadata": {
    "collapsed": true,
    "deletable": true,
    "editable": true
   },
   "outputs": [],
   "source": [
    "##             Trip.Min Trip.Miles      Fare Trip.Total\n",
    "## Trip.Min   1.0000000  0.6654975 0.7913326  0.4083894\n",
    "## Trip.Miles 0.6654975  1.0000000 0.8399675  0.4608900\n",
    "## Fare       0.7913326  0.8399675 1.0000000  0.5330360\n",
    "## Trip.Total 0.4083894  0.4608900 0.5330360  1.0000000"
   ]
  },
  {
   "cell_type": "markdown",
   "metadata": {
    "deletable": true,
    "editable": true
   },
   "source": []
  },
  {
   "cell_type": "code",
   "execution_count": null,
   "metadata": {
    "collapsed": true,
    "deletable": true,
    "editable": true
   },
   "outputs": [],
   "source": []
  },
  {
   "cell_type": "markdown",
   "metadata": {
    "collapsed": true,
    "deletable": true,
    "editable": true
   },
   "source": [
    "### Time of the Day (Speed)"
   ]
  },
  {
   "cell_type": "code",
   "execution_count": null,
   "metadata": {
    "collapsed": true,
    "deletable": true,
    "editable": true
   },
   "outputs": [],
   "source": []
  },
  {
   "cell_type": "code",
   "execution_count": null,
   "metadata": {
    "collapsed": true,
    "deletable": true,
    "editable": true
   },
   "outputs": [],
   "source": []
  },
  {
   "cell_type": "code",
   "execution_count": null,
   "metadata": {
    "collapsed": true,
    "deletable": true,
    "editable": true
   },
   "outputs": [],
   "source": []
  },
  {
   "cell_type": "markdown",
   "metadata": {
    "deletable": true,
    "editable": true
   },
   "source": [
    "## Linear Regression"
   ]
  },
  {
   "cell_type": "code",
   "execution_count": 159,
   "metadata": {
    "collapsed": false,
    "deletable": true,
    "editable": true
   },
   "outputs": [],
   "source": [
    "from sklearn import linear_model\n",
    "import random\n",
    "\n",
    "# sample = fare.sample(frac=0.01, replace=True)\n",
    "# print len(sample)\n",
    "X = fare_l.trip_miles.reshape(len(fare_l),1)\n",
    "y = fare_l.fare.reshape(len(fare_l),1)\n",
    "lr = linear_model.LinearRegression()\n",
    "lr.fit(X,y)\n",
    "pred = lr.predict(X)\n",
    "print lr.score(X,y)"
   ]
  },
  {
   "cell_type": "code",
   "execution_count": 171,
   "metadata": {
    "collapsed": false,
    "deletable": true,
    "editable": true
   },
   "outputs": [
    {
     "data": {
      "text/plain": [
       "37046"
      ]
     },
     "execution_count": 171,
     "metadata": {},
     "output_type": "execute_result"
    }
   ],
   "source": [
    "print lr.coef_"
   ]
  },
  {
   "cell_type": "code",
   "execution_count": null,
   "metadata": {
    "collapsed": true,
    "deletable": true,
    "editable": true
   },
   "outputs": [],
   "source": [
    "# def outlierCleaner(predictions, x, y):\n",
    "#     import numpy\n",
    "#     cleaned_data = []\n",
    "#     residual = (predictions-y) ** 2\n",
    "#     for i in range(len(residual)):\n",
    "#         if residual[i][0] <= numpy.percentile(residual, 90):\n",
    "#             cleaned_data.append((x[i][0],y[i][0]))\n",
    "#     return cleaned_data"
   ]
  },
  {
   "cell_type": "code",
   "execution_count": null,
   "metadata": {
    "collapsed": true,
    "deletable": true,
    "editable": true
   },
   "outputs": [],
   "source": [
    "# cleaned_data = outlierCleaner(pred,X,y)\n",
    "# new_X,new_y = zip(*cleaned_data) \n",
    "# X = numpy.array(new_X).reshape(len(new_X),1)\n",
    "# y = numpy.array(new_y).reshape(len(new_X),1)\n",
    "# lr = linear_model.LinearRegression()\n",
    "# lr.fit(X,y)\n",
    "# print lr.coef_\n",
    "# print lr.score(X,y)"
   ]
  },
  {
   "cell_type": "code",
   "execution_count": null,
   "metadata": {
    "collapsed": true,
    "deletable": true,
    "editable": true
   },
   "outputs": [],
   "source": []
  },
  {
   "cell_type": "code",
   "execution_count": null,
   "metadata": {
    "collapsed": true,
    "deletable": true,
    "editable": true
   },
   "outputs": [],
   "source": []
  },
  {
   "cell_type": "code",
   "execution_count": null,
   "metadata": {
    "collapsed": true,
    "deletable": true,
    "editable": true
   },
   "outputs": [],
   "source": []
  },
  {
   "cell_type": "markdown",
   "metadata": {
    "deletable": true,
    "editable": true
   },
   "source": [
    "### Process data"
   ]
  },
  {
   "cell_type": "code",
   "execution_count": 9,
   "metadata": {
    "collapsed": false,
    "deletable": true,
    "editable": true
   },
   "outputs": [
    {
     "name": "stdout",
     "output_type": "stream",
     "text": [
      "85291780\n"
     ]
    }
   ],
   "source": [
    "taxi_data['Company'].fillna('None', inplace=True)\n",
    "taxi_data = taxi_data.dropna()\n",
    "\n",
    "taxi_data['year'] = taxi_data['Trip Start Timestamp'] .apply(lambda x: x[6:10])\n",
    "taxi_data['month'] = taxi_data['Trip Start Timestamp'].apply(lambda x: x[:2])\n",
    "taxi_data['date'] = taxi_data['Trip Start Timestamp'].apply(lambda x: x[:5])\n",
    "taxi_data['hr'] = taxi_data['Trip Start Timestamp'].apply(lambda x: int(x[11:13]))\n",
    "taxi_data['ap'] = taxi_data['Trip Start Timestamp'].apply(lambda x: x[-2:])\n",
    "taxi_data.loc[(taxi_data['ap']=='PM')&(taxi_data.hr !=12),'hr'] = taxi_data.loc[(taxi_data['ap']=='PM')&(taxi_data.hr !=12),'hr'] + 12\n",
    "taxi_data.loc[(taxi_data['ap']=='AM')&(taxi_data.hr ==12),'hr'] = 0\n",
    "\n",
    "taxi_data['Fare'] = taxi_data['Fare'] .apply(lambda x: float(str(x)[1:]))\n",
    "print len(taxi_data)"
   ]
  },
  {
   "cell_type": "code",
   "execution_count": 18,
   "metadata": {
    "collapsed": false,
    "deletable": true,
    "editable": true
   },
   "outputs": [
    {
     "name": "stdout",
     "output_type": "stream",
     "text": [
      "chicago_taxi_201701.csv\n",
      "1072018\n",
      "1071933\n"
     ]
    }
   ],
   "source": [
    "result_d = pd.DataFrame()\n",
    "result_h = pd.DataFrame()\n",
    "for file in os.listdir('G:/data_incubator/data/'):\n",
    "    if file.startswith('chicago_taxi_2017'):\n",
    "        print file\n",
    "        taxi_data =  pd.read_csv('G:/data_incubator/data/' + file)\n",
    "        print len(taxi_data)\n",
    "        taxi_data['Company'].fillna('None', inplace=True)\n",
    "        taxi_data = taxi_data.dropna(subset=['Trip Start Timestamp','Trip Seconds','Trip Miles','Fare','Company','Trip ID','Trip Total'])\n",
    "        \n",
    "        taxi_data['month'] = taxi_data['Trip Start Timestamp'].apply(lambda x: x[:2])\n",
    "        taxi_data['date'] = taxi_data['Trip Start Timestamp'].apply(lambda x: x[:5])\n",
    "        taxi_data['hr'] = taxi_data['Trip Start Timestamp'].apply(lambda x: int(x[11:13]))\n",
    "        taxi_data['ap'] = taxi_data['Trip Start Timestamp'].apply(lambda x: x[-2:])\n",
    "        taxi_data.loc[(taxi_data['ap']=='PM')&(taxi_data.hr !=12),'hr'] = taxi_data.loc[(taxi_data['ap']=='PM')&(taxi_data.hr !=12),'hr'] + 12\n",
    "        taxi_data.loc[(taxi_data['ap']=='AM')&(taxi_data.hr ==12),'hr'] = 0\n",
    "        \n",
    "        taxi_data['Trip Total'] = taxi_data['Trip Total'] .apply(lambda x: float(str(x)[1:]))\n",
    "        taxi_data['Fare'] = taxi_data['Fare'] .apply(lambda x: float(str(x)[1:]))\n",
    "        print len(taxi_data)\n",
    "        taxi_data.to_csv('G:/data_incubator/data/'+ os.path.splitext(file)[0] +'.csv',index=False)\n",
    "#         hour = taxi_data[[u'Trip Seconds', u'Trip Miles','Trip Total','hr']].groupby('hr').agg(['count','mean']).reset_index()\n",
    "#         day = taxi_data[[u'Trip Seconds', u'Trip Miles','Trip Total','date']].groupby('date').agg(['count','mean']).reset_index()\n",
    "#         day.columns = ['date','count1','trip_sec_mean','count2','trip_mile_mean','count3','trip_cost_mean']\n",
    "#         day = day.drop(['count2','count3'],axis=1)\n",
    "#         hour.columns = ['hr','count1','trip_sec_mean','count2','trip_mile_mean','count3','trip_cost_mean']\n",
    "#         hour = hour.drop(['count2','count3'],axis=1)\n",
    "#         result_d = pd.concat([result_d,day], axis=0)\n",
    "#         result_h = pd.concat([result_h,hour], axis=0)\n",
    "#         print file\n",
    "# result_d.to_csv('G:/Incubator/chicago_taxi_2016_d.csv',index=False)\n",
    "# result_h.to_csv('G:/Incubator/chicago_taxi_2016_h.csv',index=False)"
   ]
  },
  {
   "cell_type": "code",
   "execution_count": 88,
   "metadata": {
    "collapsed": false,
    "deletable": true,
    "editable": true
   },
   "outputs": [],
   "source": [
    "result_h.groupby('hr').mean().reset_index().to_csv('G:/Incubator/chicago_taxi_2016_h_groupby.csv',index=False)"
   ]
  },
  {
   "cell_type": "code",
   "execution_count": 83,
   "metadata": {
    "collapsed": false,
    "deletable": true,
    "editable": true
   },
   "outputs": [
    {
     "data": {
      "text/plain": [
       "<matplotlib.axes._subplots.AxesSubplot at 0xeecaf2b0>"
      ]
     },
     "execution_count": 83,
     "metadata": {},
     "output_type": "execute_result"
    },
    {
     "data": {
      "image/png": "[encoded data removed]",
      "text/plain": [
       "<matplotlib.figure.Figure at 0xeecaf940>"
      ]
     },
     "metadata": {},
     "output_type": "display_data"
    }
   ],
   "source": [
    "result_h.groupby('hr').mean().plot()"
   ]
  }
 ],
 "metadata": {
  "kernelspec": {
   "display_name": "Python 3",
   "language": "python",
   "name": "python3"
  },
  "language_info": {
   "codemirror_mode": {
    "name": "ipython",
    "version": 3
   },
   "file_extension": ".py",
   "mimetype": "text/x-python",
   "name": "python",
   "nbconvert_exporter": "python",
   "pygments_lexer": "ipython3",
   "version": "3.5.3"
  }
 },
 "nbformat": 4,
 "nbformat_minor": 0
}
