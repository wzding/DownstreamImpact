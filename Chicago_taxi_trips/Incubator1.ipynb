{
 "cells": [
  {
   "cell_type": "markdown",
   "metadata": {
    "collapsed": false
   },
   "source": [
    "## basic function"
   ]
  },
  {
   "cell_type": "code",
   "execution_count": 144,
   "metadata": {
    "collapsed": false
   },
   "outputs": [],
   "source": [
    "# random.random() returns a uniformly distributed pseudo-random floating point number in the range [0, 1). \n",
    "# This number is less than a given number p in the range [0,1) with probability p. \n",
    "def group_consecutives(N,p):\n",
    "    result = []\n",
    "    from itertools import groupby\n",
    "    for i in xrange(N):\n",
    "        result.append('H' if random.random() <= p else 'T')\n",
    "    grouped = [(k, sum(1 for i in g)) for k,g in groupby(result)]\n",
    "    return result,grouped"
   ]
  },
  {
   "cell_type": "code",
   "execution_count": 174,
   "metadata": {
    "collapsed": true
   },
   "outputs": [],
   "source": [
    "result,grouped = group_consecutives(500,0.6)"
   ]
  },
  {
   "cell_type": "code",
   "execution_count": 178,
   "metadata": {
    "collapsed": false
   },
   "outputs": [
    {
     "data": {
      "text/plain": [
       "['T', 'T', 'H', 'H', 'T', 'T', 'T', 'H', 'H', 'H']"
      ]
     },
     "execution_count": 178,
     "metadata": {},
     "output_type": "execute_result"
    }
   ],
   "source": [
    "result[:10]"
   ]
  },
  {
   "cell_type": "code",
   "execution_count": 183,
   "metadata": {
    "collapsed": false
   },
   "outputs": [
    {
     "data": {
      "text/plain": [
       "310"
      ]
     },
     "execution_count": 183,
     "metadata": {},
     "output_type": "execute_result"
    }
   ],
   "source": [
    "result.count('H')"
   ]
  },
  {
   "cell_type": "code",
   "execution_count": 177,
   "metadata": {
    "collapsed": false
   },
   "outputs": [
    {
     "data": {
      "text/plain": [
       "[('T', 2),\n",
       " ('H', 2),\n",
       " ('T', 3),\n",
       " ('H', 5),\n",
       " ('T', 3),\n",
       " ('H', 1),\n",
       " ('T', 1),\n",
       " ('H', 5),\n",
       " ('T', 1),\n",
       " ('H', 8)]"
      ]
     },
     "execution_count": 177,
     "metadata": {},
     "output_type": "execute_result"
    }
   ],
   "source": [
    "grouped[:10]"
   ]
  },
  {
   "cell_type": "code",
   "execution_count": 158,
   "metadata": {
    "collapsed": true
   },
   "outputs": [],
   "source": [
    "def simulate(M,N,p):\n",
    "    total = [];count = []\n",
    "    for i in xrange(M):\n",
    "        result,grouped = group_consecutives(N,p)\n",
    "        count.append(len(grouped))\n",
    "    return count"
   ]
  },
  {
   "cell_type": "code",
   "execution_count": 179,
   "metadata": {
    "collapsed": true
   },
   "outputs": [],
   "source": [
    "tst = simulate(100000,500,0.6)"
   ]
  },
  {
   "cell_type": "code",
   "execution_count": 160,
   "metadata": {
    "collapsed": false
   },
   "outputs": [
    {
     "data": {
      "text/plain": [
       "[4, 5, 5, 7, 7, 4, 6, 4, 2, 4]"
      ]
     },
     "execution_count": 160,
     "metadata": {},
     "output_type": "execute_result"
    }
   ],
   "source": [
    "tst[:10]"
   ]
  },
  {
   "cell_type": "code",
   "execution_count": 161,
   "metadata": {
    "collapsed": true
   },
   "outputs": [],
   "source": [
    "def statistic(result,g):\n",
    "    avg = '%.9f' % (sum(result) / float(len(result)))\n",
    "    exceed = list(filter(lambda x: x > g, result)) # 6\n",
    "    return avg, '%.9f' % (len(exceed) / float(len(result))) "
   ]
  },
  {
   "cell_type": "code",
   "execution_count": 180,
   "metadata": {
    "collapsed": false
   },
   "outputs": [
    {
     "name": "stdout",
     "output_type": "stream",
     "text": [
      "240.566340000\n",
      "0.196010000\n"
     ]
    }
   ],
   "source": [
    "avg,exc = statistic(tst,250)\n",
    "print avg\n",
    "print exc"
   ]
  },
  {
   "cell_type": "code",
   "execution_count": 170,
   "metadata": {
    "collapsed": true
   },
   "outputs": [],
   "source": [
    "def conditional_prob(result,g1,g2):\n",
    "    exceed1 = list(filter(lambda x: x > g1, result)) # 5\n",
    "    exceed2 = list(filter(lambda x: x > g2, exceed1)) # 6\n",
    "    return '%.9f' % (len(exceed2) / float(len(exceed1))) "
   ]
  },
  {
   "cell_type": "code",
   "execution_count": 181,
   "metadata": {
    "collapsed": false
   },
   "outputs": [
    {
     "data": {
      "text/plain": [
       "'0.389650922'"
      ]
     },
     "execution_count": 181,
     "metadata": {},
     "output_type": "execute_result"
    }
   ],
   "source": [
    "conditional_prob(tst,240,250)"
   ]
  },
  {
   "cell_type": "code",
   "execution_count": 184,
   "metadata": {
    "collapsed": true
   },
   "outputs": [],
   "source": [
    "def both_exceed(M,N,p,g1,g2):\n",
    "    n = 0\n",
    "    for i in xrange(M):\n",
    "        result,grouped = group_consecutives(N,p)\n",
    "        if len(grouped) > g1 and result.count('H') > g2:\n",
    "            n += 1\n",
    "    return '%.9f' % (n/float(M))"
   ]
  },
  {
   "cell_type": "code",
   "execution_count": 185,
   "metadata": {
    "collapsed": false
   },
   "outputs": [
    {
     "data": {
      "text/plain": [
       "'0.244600000'"
      ]
     },
     "execution_count": 185,
     "metadata": {},
     "output_type": "execute_result"
    }
   ],
   "source": [
    "both_exceed(10000,10,0.6,5,5)"
   ]
  },
  {
   "cell_type": "code",
   "execution_count": 186,
   "metadata": {
    "collapsed": false
   },
   "outputs": [
    {
     "data": {
      "text/plain": [
       "'0.295400000'"
      ]
     },
     "execution_count": 186,
     "metadata": {},
     "output_type": "execute_result"
    }
   ],
   "source": [
    "both_exceed(10000,200,0.6,100,100)"
   ]
  }
 ],
 "metadata": {
  "kernelspec": {
   "display_name": "Python 2",
   "language": "python",
   "name": "python2"
  },
  "language_info": {
   "codemirror_mode": {
    "name": "ipython",
    "version": 2
   },
   "file_extension": ".py",
   "mimetype": "text/x-python",
   "name": "python",
   "nbconvert_exporter": "python",
   "pygments_lexer": "ipython2",
   "version": "2.7.7"
  }
 },
 "nbformat": 4,
 "nbformat_minor": 0
}
