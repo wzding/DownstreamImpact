{
 "cells": [
  {
   "cell_type": "markdown",
   "metadata": {
    "deletable": true,
    "editable": true
   },
   "source": [
    "## Step 0: Latent Dirichlet Allocation ##\n",
    "\n",
    "LDA is used to classify text in a document to a particular topic. It builds a topic per document model and words per topic model, modeled as Dirichlet distributions. \n",
    "\n",
    "* Each document is modeled as a multinomial distribution of topics and each topic is modeled as a multinomial distribution of words.\n",
    "* LDA assumes that the every chunk of text we feed into it will contain words that are somehow related. Therefore choosing the right corpus of data is crucial. \n",
    "* It also assumes documents are produced from a mixture of topics. Those topics then generate words based on their probability distribution. "
   ]
  },
  {
   "cell_type": "code",
   "execution_count": null,
   "metadata": {
    "collapsed": true
   },
   "outputs": [],
   "source": []
  },
  {
   "cell_type": "markdown",
   "metadata": {
    "deletable": true,
    "editable": true
   },
   "source": [
    "### LDA on a real world dataset ###\n",
    "\n",
    "We will be using the 20 Newsgroup dataset wich is a collection of emails exchanged in 20 newsgroups. You can read more about the dataset [here](http://qwone.com/~jason/20Newsgroups/)."
   ]
  },
  {
   "cell_type": "markdown",
   "metadata": {
    "deletable": true,
    "editable": true
   },
   "source": [
    "## Step 1: Load the dataset ##\n",
    "\n",
    "The 20 newsgroups dataset comprises around 18000 newsgroups posts on 20 topics. Some of these topics are similar, so we will try to classify them into 10 topics.\n",
    "\n",
    "Remove all email headers, footers and quotes from the replied emails."
   ]
  },
  {
   "cell_type": "code",
   "execution_count": 1,
   "metadata": {
    "collapsed": false,
    "deletable": true,
    "editable": true
   },
   "outputs": [
    {
     "name": "stderr",
     "output_type": "stream",
     "text": [
      "Download was incomplete, downloading again.\n",
      "Downloading dataset from http://people.csail.mit.edu/jrennie/20Newsgroups/20news-bydate.tar.gz (14 MB)\n"
     ]
    }
   ],
   "source": [
    "'''\n",
    "Dataset from http://scikit-learn.org/stable/datasets/twenty_newsgroups.html\n",
    "'''\n",
    "import numpy as np\n",
    "np.random.seed(400)\n",
    "from sklearn.datasets import fetch_20newsgroups\n",
    "documents = fetch_20newsgroups(remove=('headers', 'footers', 'quotes')).data"
   ]
  },
  {
   "cell_type": "code",
   "execution_count": 2,
   "metadata": {
    "collapsed": false,
    "deletable": true,
    "editable": true
   },
   "outputs": [
    {
     "name": "stdout",
     "output_type": "stream",
     "text": [
      "11314\n"
     ]
    }
   ],
   "source": [
    "'''\n",
    "Get the total number of documents\n",
    "'''\n",
    "print(len(documents))"
   ]
  },
  {
   "cell_type": "code",
   "execution_count": 3,
   "metadata": {
    "collapsed": false,
    "deletable": true,
    "editable": true
   },
   "outputs": [
    {
     "name": "stdout",
     "output_type": "stream",
     "text": [
      "\n",
      "**Printing out a sample document:**\n",
      ":As a matter of fact, i do keep random files on my disk.  The reason is,\n",
      ":without special-purpose hardware, it takes a long time to generate good random\n",
      ":bits.  I have programs that crank out a couple bits per minute, which is\n",
      ":pretty conservative, but over time that's more than i need.\n",
      "\n",
      "Sounds like a useful program - interested in posting it to alt.sources?\n"
     ]
    }
   ],
   "source": [
    "# Previewing a document\n",
    "document_num = 4310\n",
    "print(\"\\n**Printing out a sample document:**\")\n",
    "print(documents[document_num])"
   ]
  },
  {
   "cell_type": "markdown",
   "metadata": {
    "deletable": true,
    "editable": true
   },
   "source": [
    "** Looks like this document will come under `Politics`. **"
   ]
  },
  {
   "cell_type": "markdown",
   "metadata": {
    "deletable": true,
    "editable": true
   },
   "source": [
    "## Step 2: Data Preprocessing ##\n",
    "\n",
    "We will perform the following steps:\n",
    "\n",
    "* **Tokenization**: Split the text into sentences and the sentences into words. Lowercase the words and remove punctuation.\n",
    "* Words that have fewer than 3 characters are removed.\n",
    "* All **stopwords** are removed.\n",
    "* Words are **lemmatized** - words in third person are changed to first person and verbs in past and future tenses are changed into present.\n",
    "* Words are **stemmed** - words are reduced to their root form.\n"
   ]
  },
  {
   "cell_type": "code",
   "execution_count": 6,
   "metadata": {
    "collapsed": true,
    "deletable": true,
    "editable": true
   },
   "outputs": [
    {
     "name": "stdout",
     "output_type": "stream",
     "text": [
      "Collecting gensim\n",
      "  Downloading gensim-3.4.0-cp35-cp35m-macosx_10_6_intel.macosx_10_9_intel.macosx_10_9_x86_64.macosx_10_10_intel.macosx_10_10_x86_64.whl (22.8MB)\n",
      "\u001b[K    100% |████████████████████████████████| 22.8MB 31kB/s eta 0:00:011\n",
      "\u001b[?25hRequirement already satisfied: six>=1.5.0 in /Users/wding/anaconda3/envs/aind-dog/lib/python3.5/site-packages (from gensim)\n",
      "Requirement already satisfied: numpy>=1.11.3 in /Users/wding/anaconda3/envs/aind-dog/lib/python3.5/site-packages (from gensim)\n",
      "Collecting smart-open>=1.2.1 (from gensim)\n",
      "  Downloading smart_open-1.5.7.tar.gz\n",
      "Requirement already satisfied: scipy>=0.18.1 in /Users/wding/anaconda3/envs/aind-dog/lib/python3.5/site-packages (from gensim)\n",
      "Requirement already satisfied: boto>=2.32 in /Users/wding/anaconda3/envs/aind-dog/lib/python3.5/site-packages (from smart-open>=1.2.1->gensim)\n",
      "Collecting bz2file (from smart-open>=1.2.1->gensim)\n",
      "  Downloading bz2file-0.98.tar.gz\n",
      "Requirement already satisfied: requests in /Users/wding/anaconda3/envs/aind-dog/lib/python3.5/site-packages (from smart-open>=1.2.1->gensim)\n",
      "Collecting boto3 (from smart-open>=1.2.1->gensim)\n",
      "  Downloading boto3-1.6.17-py2.py3-none-any.whl (128kB)\n",
      "\u001b[K    100% |████████████████████████████████| 133kB 1.7MB/s ta 0:00:01\n",
      "\u001b[?25hCollecting jmespath<1.0.0,>=0.7.1 (from boto3->smart-open>=1.2.1->gensim)\n",
      "  Using cached jmespath-0.9.3-py2.py3-none-any.whl\n",
      "Collecting s3transfer<0.2.0,>=0.1.10 (from boto3->smart-open>=1.2.1->gensim)\n",
      "  Downloading s3transfer-0.1.13-py2.py3-none-any.whl (59kB)\n",
      "\u001b[K    100% |████████████████████████████████| 61kB 4.8MB/s eta 0:00:01\n",
      "\u001b[?25hCollecting botocore<1.10.0,>=1.9.17 (from boto3->smart-open>=1.2.1->gensim)\n",
      "  Downloading botocore-1.9.17-py2.py3-none-any.whl (4.1MB)\n",
      "\u001b[K    100% |████████████████████████████████| 4.1MB 183kB/s ta 0:00:011\n",
      "\u001b[?25hRequirement already satisfied: python-dateutil<2.7.0,>=2.1 in /Users/wding/anaconda3/envs/aind-dog/lib/python3.5/site-packages (from botocore<1.10.0,>=1.9.17->boto3->smart-open>=1.2.1->gensim)\n",
      "Requirement already satisfied: docutils>=0.10 in /Users/wding/anaconda3/envs/aind-dog/lib/python3.5/site-packages (from botocore<1.10.0,>=1.9.17->boto3->smart-open>=1.2.1->gensim)\n",
      "Building wheels for collected packages: smart-open, bz2file\n",
      "  Running setup.py bdist_wheel for smart-open ... \u001b[?25l-\b \b\\\b \bdone\n",
      "\u001b[?25h  Stored in directory: /Users/wding/Library/Caches/pip/wheels/cf/54/36/b003d8c2d26aadffc21f0677009ed53cf9575a97fc71fbba76\n",
      "  Running setup.py bdist_wheel for bz2file ... \u001b[?25l-\b \b\\\b \bdone\n",
      "\u001b[?25h  Stored in directory: /Users/wding/Library/Caches/pip/wheels/31/9c/20/996d65ca104cbca940b1b053299b68459391c01c774d073126\n",
      "Successfully built smart-open bz2file\n",
      "Installing collected packages: bz2file, jmespath, botocore, s3transfer, boto3, smart-open, gensim\n",
      "Successfully installed boto3-1.6.17 botocore-1.9.17 bz2file-0.98 gensim-3.4.0 jmespath-0.9.3 s3transfer-0.1.13 smart-open-1.5.7\n",
      "\u001b[33mYou are using pip version 9.0.1, however version 9.0.3 is available.\n",
      "You should consider upgrading via the 'pip install --upgrade pip' command.\u001b[0m\n"
     ]
    }
   ],
   "source": [
    "!pip install gensim"
   ]
  },
  {
   "cell_type": "code",
   "execution_count": 7,
   "metadata": {
    "collapsed": false,
    "deletable": true,
    "editable": true
   },
   "outputs": [],
   "source": [
    "'''\n",
    "Loading Gensim library\n",
    "'''\n",
    "# pip install gensim\n",
    "import gensim\n",
    "from gensim.utils import simple_preprocess\n",
    "from gensim.parsing.preprocessing import STOPWORDS\n",
    "from nltk.stem import WordNetLemmatizer, SnowballStemmer\n",
    "from nltk.stem.porter import *\n",
    "import numpy as np\n",
    "np.random.seed(400)"
   ]
  },
  {
   "cell_type": "code",
   "execution_count": 9,
   "metadata": {
    "collapsed": false,
    "deletable": true,
    "editable": true
   },
   "outputs": [
    {
     "name": "stdout",
     "output_type": "stream",
     "text": [
      "showing info https://raw.githubusercontent.com/nltk/nltk_data/gh-pages/index.xml\n"
     ]
    },
    {
     "data": {
      "text/plain": [
       "True"
      ]
     },
     "execution_count": 9,
     "metadata": {},
     "output_type": "execute_result"
    }
   ],
   "source": [
    "# Note that it takes a few minutes to import this\n",
    "import nltk\n",
    "nltk.download()"
   ]
  },
  {
   "cell_type": "code",
   "execution_count": 10,
   "metadata": {
    "collapsed": false,
    "deletable": true,
    "editable": true
   },
   "outputs": [
    {
     "name": "stdout",
     "output_type": "stream",
     "text": [
      "go\n"
     ]
    }
   ],
   "source": [
    "'''\n",
    "Lemmatizing example for a verb, noun.\n",
    "'''\n",
    "print(WordNetLemmatizer().lemmatize('went', pos = 'v')) # past tense to present tense"
   ]
  },
  {
   "cell_type": "code",
   "execution_count": 11,
   "metadata": {
    "collapsed": false,
    "deletable": true,
    "editable": true
   },
   "outputs": [
    {
     "name": "stdout",
     "output_type": "stream",
     "text": [
      "caress fli die mule deni die agre own humbl size meet state siez item sensat tradit refer colon plot\n"
     ]
    }
   ],
   "source": [
    "'''\n",
    "Stemming example\n",
    "'''\n",
    "stemmer = SnowballStemmer(\"english\")\n",
    "plurals = ['caresses', 'flies', 'dies', 'mules', 'denied','died', 'agreed', 'owned', \n",
    "           'humbled', 'sized','meeting', 'stating', 'siezing', 'itemization','sensational', \n",
    "           'traditional', 'reference', 'colonizer','plotted']\n",
    "singles = [stemmer.stem(plural) for plural in plurals]\n",
    "print(' '.join(singles))"
   ]
  },
  {
   "cell_type": "code",
   "execution_count": 13,
   "metadata": {
    "collapsed": true,
    "deletable": true,
    "editable": true
   },
   "outputs": [],
   "source": [
    "'''\n",
    "Data preprocessing\n",
    "'''\n",
    "def lemmatize_stemming(text):\n",
    "    return stemmer.stem(WordNetLemmatizer().lemmatize(text, pos='v'))\n",
    "\n",
    "# Tokenize and lemmatize\n",
    "def preprocess(text):\n",
    "    result = [lemmatize_stemming(token) for token in gensim.utils.simple_preprocess(text) \n",
    "              # Remove stop words and words less than 3 characters long\n",
    "              if token not in gensim.parsing.preprocessing.STOPWORDS and len(token) > 3]\n",
    "    return result"
   ]
  },
  {
   "cell_type": "code",
   "execution_count": 14,
   "metadata": {
    "collapsed": false,
    "deletable": true,
    "editable": true
   },
   "outputs": [
    {
     "name": "stdout",
     "output_type": "stream",
     "text": [
      "Original document: \n",
      "[':As', 'a', 'matter', 'of', 'fact,', 'i', 'do', 'keep', 'random', 'files', 'on', 'my', 'disk.', '', 'The', 'reason', 'is,\\n:without', 'special-purpose', 'hardware,', 'it', 'takes', 'a', 'long', 'time', 'to', 'generate', 'good', 'random\\n:bits.', '', 'I', 'have', 'programs', 'that', 'crank', 'out', 'a', 'couple', 'bits', 'per', 'minute,', 'which', 'is\\n:pretty', 'conservative,', 'but', 'over', 'time', \"that's\", 'more', 'than', 'i', 'need.\\n\\nSounds', 'like', 'a', 'useful', 'program', '-', 'interested', 'in', 'posting', 'it', 'to', 'alt.sources?']\n",
      "\n",
      "\n",
      "Tokenized and lemmatized document: \n",
      "['matter', 'fact', 'random', 'file', 'disk', 'reason', 'special', 'purpos', 'hardwar', 'take', 'long', 'time', 'generat', 'good', 'random', 'bit', 'program', 'crank', 'coupl', 'bit', 'minut', 'pretti', 'conserv', 'time', 'need', 'sound', 'like', 'use', 'program', 'interest', 'post', 'sourc']\n"
     ]
    }
   ],
   "source": [
    "'''\n",
    "Preview a document after preprocessing\n",
    "'''\n",
    "print(\"Original document: \")\n",
    "words = []\n",
    "for word in documents[document_num].split(' '):\n",
    "    words.append(word)\n",
    "print(words)\n",
    "print(\"\\n\\nTokenized and lemmatized document: \")\n",
    "print(preprocess(documents[document_num]))"
   ]
  },
  {
   "cell_type": "code",
   "execution_count": 15,
   "metadata": {
    "collapsed": true,
    "deletable": true,
    "editable": true
   },
   "outputs": [],
   "source": [
    "'''\n",
    "Perform preprocessing on entire dataset\n",
    "'''\n",
    "processed_docs = [preprocess(doc) for doc in documents]"
   ]
  },
  {
   "cell_type": "markdown",
   "metadata": {
    "deletable": true,
    "editable": true
   },
   "source": [
    "## Step 3.1: Bag of words on the dataset ##"
   ]
  },
  {
   "cell_type": "code",
   "execution_count": 16,
   "metadata": {
    "collapsed": true,
    "deletable": true,
    "editable": true
   },
   "outputs": [],
   "source": [
    "'''\n",
    "Create a dictionary containing the number of times a word appears in the training set\n",
    "'''\n",
    "dictionary = gensim.corpora.Dictionary(processed_docs)"
   ]
  },
  {
   "cell_type": "code",
   "execution_count": 17,
   "metadata": {
    "collapsed": false,
    "deletable": true,
    "editable": true
   },
   "outputs": [
    {
     "name": "stdout",
     "output_type": "stream",
     "text": [
      "1919 lunar\n",
      "32004 nessi\n",
      "1780 aliv\n",
      "44402 glouberman\n",
      "31285 lume\n",
      "5627 lukewarm\n",
      "20518 barley\n",
      "24301 baffler\n",
      "25829 confect\n",
      "4864 decad\n",
      "43914 prudenti\n"
     ]
    }
   ],
   "source": [
    "'''\n",
    "Checking dictionary created\n",
    "'''\n",
    "count = 0\n",
    "for k, v in dictionary.iteritems():\n",
    "    print(k, v)\n",
    "    count += 1\n",
    "    if count > 10:\n",
    "        break"
   ]
  },
  {
   "cell_type": "markdown",
   "metadata": {
    "deletable": true,
    "editable": true
   },
   "source": [
    "** Gensim filter_extremes **\n",
    "\n",
    "`filter_extremes(no_below=5, no_above=0.5, keep_n=100000)`\n",
    "\n",
    "Filter out tokens that appear in\n",
    "\n",
    "* less than no_below documents (absolute number) or\n",
    "* more than no_above documents (fraction of total corpus size, not absolute number).\n",
    "* after (1) and (2), keep only the first keep_n most frequent tokens (or keep all if None)."
   ]
  },
  {
   "cell_type": "code",
   "execution_count": 18,
   "metadata": {
    "collapsed": true,
    "deletable": true,
    "editable": true
   },
   "outputs": [],
   "source": [
    "'''\n",
    "Remove very rare and very common words:\n",
    "\n",
    "- words appearing less than 15 times\n",
    "- words appearing in more than 10% of all documents\n",
    "'''\n",
    "dictionary.filter_extremes(no_below=15, \n",
    "                                no_above=0.10)"
   ]
  },
  {
   "cell_type": "markdown",
   "metadata": {
    "deletable": true,
    "editable": true
   },
   "source": [
    "** Gensim doc2bow **\n",
    "\n",
    "`doc2bow(document)`\n",
    "\n",
    "* Convert document (a list of words) into the bag-of-words format = list of (token_id, token_count) 2-tuples. Each word is assumed to be a tokenized and normalized string (either unicode or utf8-encoded). No further preprocessing is done on the words in document; apply tokenization, stemming etc. before calling this method."
   ]
  },
  {
   "cell_type": "code",
   "execution_count": 19,
   "metadata": {
    "collapsed": true,
    "deletable": true,
    "editable": true
   },
   "outputs": [],
   "source": [
    "'''\n",
    "Create the Bag-of-words model for each document i.e for each document we create a dictionary reporting how many\n",
    "words and how many times those words appear.\n",
    "'''\n",
    "bow_corpus = [dictionary.doc2bow(doc) for doc in processed_docs]"
   ]
  },
  {
   "cell_type": "code",
   "execution_count": 20,
   "metadata": {
    "collapsed": false,
    "deletable": true,
    "editable": true
   },
   "outputs": [
    {
     "data": {
      "text/plain": [
       "[(30, 1),\n",
       " (123, 1),\n",
       " (124, 1),\n",
       " (177, 1),\n",
       " (199, 1),\n",
       " (335, 1),\n",
       " (434, 1),\n",
       " (482, 1),\n",
       " (485, 1),\n",
       " (530, 1),\n",
       " (539, 2),\n",
       " (583, 1),\n",
       " (586, 1),\n",
       " (628, 1),\n",
       " (746, 1),\n",
       " (778, 1),\n",
       " (984, 1),\n",
       " (1086, 1),\n",
       " (1303, 1),\n",
       " (1633, 2),\n",
       " (2193, 1),\n",
       " (2296, 2)]"
      ]
     },
     "execution_count": 20,
     "metadata": {},
     "output_type": "execute_result"
    }
   ],
   "source": [
    "'''\n",
    "Checking Bag of Words corpus for our sample document --> (token_id, token_count)\n",
    "'''\n",
    "# document_num = 4310\n",
    "bow_corpus[document_num]"
   ]
  },
  {
   "cell_type": "code",
   "execution_count": 21,
   "metadata": {
    "collapsed": false,
    "deletable": true,
    "editable": true
   },
   "outputs": [
    {
     "name": "stdout",
     "output_type": "stream",
     "text": [
      "Word 30 (\"disk\") appears 1 time.\n",
      "Word 123 (\"take\") appears 1 time.\n",
      "Word 124 (\"use\") appears 1 time.\n",
      "Word 177 (\"file\") appears 1 time.\n",
      "Word 199 (\"fact\") appears 1 time.\n",
      "Word 335 (\"pretti\") appears 1 time.\n",
      "Word 434 (\"sourc\") appears 1 time.\n",
      "Word 482 (\"reason\") appears 1 time.\n",
      "Word 485 (\"sound\") appears 1 time.\n",
      "Word 530 (\"generat\") appears 1 time.\n",
      "Word 539 (\"program\") appears 2 time.\n",
      "Word 583 (\"conserv\") appears 1 time.\n",
      "Word 586 (\"coupl\") appears 1 time.\n",
      "Word 628 (\"interest\") appears 1 time.\n",
      "Word 746 (\"matter\") appears 1 time.\n",
      "Word 778 (\"hardwar\") appears 1 time.\n",
      "Word 984 (\"long\") appears 1 time.\n",
      "Word 1086 (\"minut\") appears 1 time.\n",
      "Word 1303 (\"special\") appears 1 time.\n",
      "Word 1633 (\"bit\") appears 2 time.\n",
      "Word 2193 (\"purpos\") appears 1 time.\n",
      "Word 2296 (\"random\") appears 2 time.\n"
     ]
    }
   ],
   "source": [
    "'''\n",
    "Preview BOW for our sample preprocessed document\n",
    "'''\n",
    "# Here document_num is document number 4310 which we have checked in Step 2\n",
    "bow_doc_4310 = bow_corpus[document_num]\n",
    "\n",
    "for i in range(len(bow_doc_4310)):\n",
    "    print(\"Word {} (\\\"{}\\\") appears {} time.\".format(bow_doc_4310[i][0], \n",
    "                                                     dictionary[bow_doc_4310[i][0]], \n",
    "                                                     bow_doc_4310[i][1]))"
   ]
  },
  {
   "cell_type": "markdown",
   "metadata": {
    "deletable": true,
    "editable": true
   },
   "source": [
    "## Step 3.2: TF-IDF on our document set ##\n",
    "\n",
    "While performing TF-IDF on the corpus is not necessary for LDA implemention using the gensim model, it is recemmended. TF-IDF expects a bag-of-words (integer values) training corpus during initialization. During transformation, it will take a vector and return another vector of the same dimensionality.\n",
    "\n",
    "*Please note: The author of Gensim dictates the standard procedure for LDA to be using the Bag of Words model.*"
   ]
  },
  {
   "cell_type": "markdown",
   "metadata": {
    "deletable": true,
    "editable": true
   },
   "source": [
    "** TF-IDF stands for \"Term Frequency, Inverse Document Frequency\".**\n",
    "\n",
    "* It is a way to score the importance of words (or \"terms\") in a document based on how frequently they appear across multiple documents.\n",
    "* If a word appears frequently in a document, it's important. Give the word a high score. But if a word appears in many documents, it's not a unique identifier. Give the word a low score.\n",
    "* Therefore, common words like \"the\" and \"for\", which appear in many documents, will be scaled down. Words that appear frequently in a single document will be scaled up.\n",
    "\n",
    "In other words:\n",
    "\n",
    "* TF(w) = `(Number of times term w appears in a document) / (Total number of terms in the document)`.\n",
    "* IDF(w) = `log_e(Total number of documents / Number of documents with term w in it)`.\n",
    "\n",
    "** For example **\n",
    "\n",
    "* Consider a document containing `100` words wherein the word 'tiger' appears 3 times. \n",
    "* The term frequency (i.e., tf) for 'tiger' is then: \n",
    "    - `TF = (3 / 100) = 0.03`. \n",
    "\n",
    "* Now, assume we have `10 million` documents and the word 'tiger' appears in `1000` of these. Then, the inverse document frequency (i.e., idf) is calculated as:\n",
    "    - `IDF = log(10,000,000 / 1,000) = 4`. \n",
    "\n",
    "* Thus, the Tf-idf weight is the product of these quantities: \n",
    "    - `TF-IDF = 0.03 * 4 = 0.12`."
   ]
  },
  {
   "cell_type": "code",
   "execution_count": 22,
   "metadata": {
    "collapsed": true,
    "deletable": true,
    "editable": true
   },
   "outputs": [],
   "source": [
    "'''\n",
    "Create tf-idf model object on \n",
    "'''\n",
    "from gensim import corpora, models\n",
    "tfidf = models.TfidfModel(bow_corpus)"
   ]
  },
  {
   "cell_type": "code",
   "execution_count": 23,
   "metadata": {
    "collapsed": true,
    "deletable": true,
    "editable": true
   },
   "outputs": [],
   "source": [
    "'''\n",
    "Apply transformation to the entire corpus\n",
    "'''\n",
    "corpus_tfidf = tfidf[bow_corpus]"
   ]
  },
  {
   "cell_type": "code",
   "execution_count": 24,
   "metadata": {
    "collapsed": false,
    "deletable": true,
    "editable": true
   },
   "outputs": [
    {
     "name": "stdout",
     "output_type": "stream",
     "text": [
      "[(0, 0.18752645813470209),\n",
      " (1, 0.19048818244598065),\n",
      " (2, 0.32003910845787681),\n",
      " (3, 0.13734351513213772),\n",
      " (4, 0.44746607698514113),\n",
      " (5, 0.19420335794234991),\n",
      " (6, 0.17810397981137643),\n",
      " (7, 0.31202476292963782),\n",
      " (8, 0.18889922000403531),\n",
      " (9, 0.17867218585267072),\n",
      " (10, 0.2065318154009039),\n",
      " (11, 0.13825450801956224),\n",
      " (12, 0.18408647284761601),\n",
      " (13, 0.18071128387952717),\n",
      " (14, 0.18283363306153416),\n",
      " (15, 0.2065318154009039),\n",
      " (16, 0.16822626613619029),\n",
      " (17, 0.23995085429482482),\n",
      " (18, 0.23341628184742005),\n",
      " (19, 0.16695673871225614)]\n"
     ]
    }
   ],
   "source": [
    "'''\n",
    "Preview TF-IDF scores for our first document --> --> (token_id, tfidf score)\n",
    "'''\n",
    "from pprint import pprint\n",
    "for doc in corpus_tfidf:\n",
    "    pprint(doc)\n",
    "    break"
   ]
  },
  {
   "cell_type": "markdown",
   "metadata": {
    "deletable": true,
    "editable": true
   },
   "source": [
    "## Step 4.1: Running LDA using Bag of Words ##\n",
    "\n",
    "We are going for 10 topics in the document corpus.\n",
    "\n",
    "** We will be running LDA using all CPU cores to parallelize and speed up model training.**\n",
    "\n",
    "Some of the parameters we will be tweaking are:\n",
    "\n",
    "* **num_topics** is the number of requested latent topics to be extracted from the training corpus.\n",
    "* **id2word** is a mapping from word ids (integers) to words (strings). It is used to determine the vocabulary size, as well as for debugging and topic printing.\n",
    "* **workers** is the number of extra processes to use for parallelization. Uses all available cores by default.\n",
    "* **alpha** and **eta** are hyperparameters that affect sparsity of the document-topic (theta) and topic-word (lambda) distributions. We will let these be the default values for now(default value is `1/num_topics`)\n",
    "    - Alpha is the per document topic distribution.\n",
    "        * High alpha: Every document has a mixture of all topics(documents appear similar to each other).\n",
    "        * Low alpha: Every document has a mixture of very few topics\n",
    "\n",
    "    - Eta is the per topic word distribution.\n",
    "        * High eta: Each topic has a mixture of most words(topics appear similar to each other).\n",
    "        * Low eta: Each topic has a mixture of few words.\n",
    "\n",
    "* ** passes ** is the number of training passes through the corpus. For  example, if the training corpus has 50,000 documents, chunksize is  10,000, passes is 2, then online training is done in 10 updates: \n",
    "    * `#1 documents 0-9,999 `\n",
    "    * `#2 documents 10,000-19,999 `\n",
    "    * `#3 documents 20,000-29,999 `\n",
    "    * `#4 documents 30,000-39,999 `\n",
    "    * `#5 documents 40,000-49,999 `\n",
    "    * `#6 documents 0-9,999 `\n",
    "    * `#7 documents 10,000-19,999 `\n",
    "    * `#8 documents 20,000-29,999 `\n",
    "    * `#9 documents 30,000-39,999 `\n",
    "    * `#10 documents 40,000-49,999`\n",
    "    \n",
    "At a high level:\n",
    "\n",
    "* Go through each document, and randomly assign each word in the document to one of the K topics. Notice that this random assignment already gives you both topic representations of all the documents and word distributions of all the topics (albeit not very good ones).\n",
    "* So to improve on them, for each document d:\n",
    "    - Go through each word w in d:\n",
    "        - And for each topic t, compute two things: \n",
    "            - 1) A - the proportion of words in document `d` that are currently assigned to topic `t`, and \n",
    "            - 2) B - the proportion of assignments to topic `t` over all documents that come from this word `w`. \n",
    "        - Reassign `w` a new topic, where we choose topic `t` with probability `A * B` (according to our generative model, this is essentially the probability that topic `t` generated word `w`, so it makes sense that we resample the current word’s topic with this probability). \n",
    "        \n",
    "        \n",
    "* After repeating the previous step a large number of times, you’ll eventually reach a roughly steady state where your assignments are pretty good. So use these assignments to estimate the topic mixtures of each document:\n",
    "    - by counting the proportion of words assigned to each topic within that document and \n",
    "    - the words associated to each topic (by counting the proportion of words assigned to each topic overall|.    "
   ]
  },
  {
   "cell_type": "code",
   "execution_count": 26,
   "metadata": {
    "collapsed": true,
    "deletable": true,
    "editable": true
   },
   "outputs": [],
   "source": [
    "# LDA mono-core\n",
    "# lda_model = gensim.models.LdaModel(bow_corpus, \n",
    "#                                    num_topics = 10, \n",
    "#                                    id2word = dictionary,                                    \n",
    "#                                    passes = 1)\n",
    "\n",
    "# LDA multicore \n",
    "lda_model = gensim.models.LdaMulticore(bow_corpus, \n",
    "                                       num_topics=10, \n",
    "                                       id2word = dictionary, \n",
    "                                       passes = 50, \n",
    "                                       workers=2)"
   ]
  },
  {
   "cell_type": "code",
   "execution_count": 27,
   "metadata": {
    "collapsed": false,
    "deletable": true,
    "editable": true
   },
   "outputs": [
    {
     "name": "stdout",
     "output_type": "stream",
     "text": [
      "Topic: 0 Word: 0.023*\"space\" + 0.009*\"nasa\" + 0.008*\"research\" + 0.008*\"launch\" + 0.008*\"orbit\" + 0.007*\"univers\" + 0.007*\"center\" + 0.007*\"develop\" + 0.007*\"program\" + 0.007*\"data\"\n",
      "\n",
      "\n",
      "Topic: 1 Word: 0.014*\"encrypt\" + 0.012*\"secur\" + 0.011*\"chip\" + 0.010*\"mail\" + 0.010*\"public\" + 0.010*\"inform\" + 0.008*\"key\" + 0.008*\"govern\" + 0.008*\"messag\" + 0.008*\"clipper\"\n",
      "\n",
      "\n",
      "Topic: 2 Word: 0.017*\"window\" + 0.014*\"file\" + 0.010*\"drive\" + 0.010*\"program\" + 0.009*\"card\" + 0.007*\"version\" + 0.007*\"softwar\" + 0.007*\"disk\" + 0.006*\"imag\" + 0.006*\"avail\"\n",
      "\n",
      "\n",
      "Topic: 3 Word: 0.012*\"israel\" + 0.011*\"kill\" + 0.010*\"jew\" + 0.009*\"govern\" + 0.009*\"isra\" + 0.007*\"attack\" + 0.007*\"arab\" + 0.007*\"countri\" + 0.007*\"forc\" + 0.007*\"state\"\n",
      "\n",
      "\n",
      "Topic: 4 Word: 0.013*\"state\" + 0.012*\"price\" + 0.011*\"sell\" + 0.009*\"sale\" + 0.008*\"money\" + 0.008*\"govern\" + 0.007*\"control\" + 0.007*\"presid\" + 0.007*\"offer\" + 0.007*\"cost\"\n",
      "\n",
      "\n",
      "Topic: 5 Word: 0.028*\"game\" + 0.021*\"team\" + 0.017*\"play\" + 0.013*\"player\" + 0.010*\"season\" + 0.009*\"hockey\" + 0.008*\"leagu\" + 0.007*\"score\" + 0.006*\"goal\" + 0.006*\"period\"\n",
      "\n",
      "\n",
      "Topic: 6 Word: 0.026*\"armenian\" + 0.020*\"file\" + 0.014*\"entri\" + 0.011*\"turkish\" + 0.010*\"program\" + 0.009*\"section\" + 0.007*\"russian\" + 0.006*\"greek\" + 0.006*\"organ\" + 0.006*\"turkey\"\n",
      "\n",
      "\n",
      "Topic: 7 Word: 0.008*\"tell\" + 0.006*\"take\" + 0.006*\"start\" + 0.005*\"hear\" + 0.005*\"happen\" + 0.005*\"bike\" + 0.005*\"get\" + 0.005*\"leav\" + 0.004*\"littl\" + 0.004*\"live\"\n",
      "\n",
      "\n",
      "Topic: 8 Word: 0.014*\"power\" + 0.013*\"wire\" + 0.008*\"line\" + 0.007*\"cabl\" + 0.007*\"connect\" + 0.006*\"design\" + 0.006*\"grind\" + 0.006*\"circuit\" + 0.006*\"current\" + 0.005*\"light\"\n",
      "\n",
      "\n",
      "Topic: 9 Word: 0.010*\"believ\" + 0.009*\"christian\" + 0.008*\"mean\" + 0.007*\"jesus\" + 0.006*\"exist\" + 0.006*\"question\" + 0.005*\"word\" + 0.005*\"reason\" + 0.005*\"person\" + 0.005*\"claim\"\n",
      "\n",
      "\n"
     ]
    }
   ],
   "source": [
    "'''\n",
    "For each topic, we will explore the words occuring in that topic and its relative weight\n",
    "'''\n",
    "for idx, topic in lda_model.print_topics(-1):\n",
    "    print(\"Topic: {} Word: {}\".format(idx, topic))\n",
    "    print(\"\\n\")"
   ]
  },
  {
   "cell_type": "code",
   "execution_count": null,
   "metadata": {
    "collapsed": true,
    "deletable": true,
    "editable": true
   },
   "outputs": [],
   "source": []
  },
  {
   "cell_type": "markdown",
   "metadata": {
    "deletable": true,
    "editable": true
   },
   "source": [
    "### Classification of the topics ###\n",
    "\n",
    "Using the words in each topic and their corresponding weights, we have the following categories:\n",
    "\n",
    "* 0: Computer Software\n",
    "* 1: Space\n",
    "* 2: Government\n",
    "* 3: Energy\n",
    "* 4: Sports\n",
    "* 5: Applications\n",
    "* 6: Religion\n",
    "* 7: Computer Hardware\n",
    "* 8: Automotives\n",
    "* 9: Politics"
   ]
  },
  {
   "cell_type": "markdown",
   "metadata": {
    "deletable": true,
    "editable": true
   },
   "source": [
    "## Step 4.2 Running LDA using TF-IDF ##"
   ]
  },
  {
   "cell_type": "code",
   "execution_count": 28,
   "metadata": {
    "collapsed": true,
    "deletable": true,
    "editable": true
   },
   "outputs": [],
   "source": [
    "'''\n",
    "Define lda model using tfidf corpus\n",
    "'''\n",
    "lda_model_tfidf = gensim.models.LdaMulticore(corpus_tfidf, \n",
    "                                             num_topics=10, \n",
    "                                             id2word = dictionary, \n",
    "                                             passes = 50, \n",
    "                                             workers=4)"
   ]
  },
  {
   "cell_type": "code",
   "execution_count": 29,
   "metadata": {
    "collapsed": false,
    "deletable": true,
    "editable": true
   },
   "outputs": [
    {
     "name": "stdout",
     "output_type": "stream",
     "text": [
      "Topic: 0 Word: 0.014*\"food\" + 0.007*\"chines\" + 0.007*\"delet\" + 0.006*\"templ\" + 0.006*\"rumor\" + 0.005*\"tast\" + 0.005*\"grayscal\" + 0.005*\"risc\" + 0.005*\"postag\" + 0.005*\"make\"\n",
      "\n",
      "\n",
      "Topic: 1 Word: 0.005*\"encrypt\" + 0.005*\"govern\" + 0.003*\"space\" + 0.003*\"chip\" + 0.003*\"clipper\" + 0.003*\"secur\" + 0.003*\"clinton\" + 0.003*\"phone\" + 0.003*\"public\" + 0.003*\"number\"\n",
      "\n",
      "\n",
      "Topic: 2 Word: 0.009*\"spell\" + 0.007*\"helmet\" + 0.006*\"bike\" + 0.005*\"tempest\" + 0.005*\"upenn\" + 0.005*\"comic\" + 0.005*\"motorcycl\" + 0.005*\"motto\" + 0.005*\"keith\" + 0.005*\"shaft\"\n",
      "\n",
      "\n",
      "Topic: 3 Word: 0.017*\"game\" + 0.014*\"team\" + 0.010*\"player\" + 0.009*\"play\" + 0.007*\"hockey\" + 0.006*\"season\" + 0.006*\"score\" + 0.006*\"basebal\" + 0.005*\"leagu\" + 0.005*\"pitch\"\n",
      "\n",
      "\n",
      "Topic: 4 Word: 0.012*\"gordon\" + 0.011*\"pitt\" + 0.011*\"surrend\" + 0.011*\"skeptic\" + 0.011*\"patient\" + 0.010*\"shame\" + 0.010*\"cadr\" + 0.010*\"intellect\" + 0.010*\"chastiti\" + 0.009*\"bank\"\n",
      "\n",
      "\n",
      "Topic: 5 Word: 0.004*\"christian\" + 0.004*\"believ\" + 0.003*\"jesus\" + 0.003*\"mean\" + 0.003*\"israel\" + 0.003*\"kill\" + 0.003*\"religion\" + 0.003*\"person\" + 0.003*\"exist\" + 0.002*\"bibl\"\n",
      "\n",
      "\n",
      "Topic: 6 Word: 0.009*\"ingr\" + 0.007*\"upload\" + 0.006*\"esdi\" + 0.006*\"dave\" + 0.006*\"johnson\" + 0.005*\"compuserv\" + 0.005*\"subscrib\" + 0.005*\"adam\" + 0.005*\"comp\" + 0.004*\"uucp\"\n",
      "\n",
      "\n",
      "Topic: 7 Word: 0.010*\"tiff\" + 0.008*\"wonder\" + 0.007*\"loser\" + 0.007*\"sorri\" + 0.007*\"shadow\" + 0.007*\"biker\" + 0.006*\"packet\" + 0.005*\"shrink\" + 0.005*\"gonna\" + 0.004*\"toni\"\n",
      "\n",
      "\n",
      "Topic: 8 Word: 0.010*\"window\" + 0.007*\"file\" + 0.007*\"card\" + 0.006*\"drive\" + 0.005*\"program\" + 0.004*\"mail\" + 0.004*\"driver\" + 0.004*\"softwar\" + 0.004*\"help\" + 0.004*\"disk\"\n",
      "\n",
      "\n",
      "Topic: 9 Word: 0.008*\"bike\" + 0.004*\"engin\" + 0.004*\"mile\" + 0.004*\"car\" + 0.004*\"ride\" + 0.004*\"power\" + 0.004*\"drive\" + 0.003*\"grind\" + 0.003*\"light\" + 0.003*\"sell\"\n",
      "\n",
      "\n"
     ]
    }
   ],
   "source": [
    "'''\n",
    "For each topic, we will explore the words occuring in that topic and its relative weight\n",
    "'''\n",
    "for idx, topic in lda_model_tfidf.print_topics(-1):\n",
    "    print(\"Topic: {} Word: {}\".format(idx, topic))\n",
    "    print(\"\\n\")"
   ]
  },
  {
   "cell_type": "markdown",
   "metadata": {
    "deletable": true,
    "editable": true
   },
   "source": [
    "### Classification of the topics ###\n",
    "\n",
    "As we can see, when using tf-idf, heavier weights are given to words that are not as frequent which results in nouns being factored in. That makes it harder to figure out the categories as nouns can be hard to categorize. This goes to show that the models we apply depend on the type of corpus of text we are dealing with. \n",
    "\n",
    "Using the words in each topic and their corresponding weights, we have the following categories:\n",
    "\n",
    "* 0: Unclear\n",
    "* 1: Computer Software\n",
    "* 2: Space\n",
    "* 3: Religion\n",
    "* 4: Middle East\n",
    "* 5: Unclear\n",
    "* 6: Unclear\n",
    "* 7: Politics\n",
    "* 8: Automotives\n",
    "* 9: Sports"
   ]
  },
  {
   "cell_type": "code",
   "execution_count": null,
   "metadata": {
    "collapsed": true,
    "deletable": true,
    "editable": true
   },
   "outputs": [],
   "source": []
  },
  {
   "cell_type": "markdown",
   "metadata": {
    "deletable": true,
    "editable": true
   },
   "source": [
    "## Step 5.1: Performance evaluation by classifying sample document using LDA Bag of Words model##\n",
    "\n",
    "We will check to see where our test document would be classified. "
   ]
  },
  {
   "cell_type": "code",
   "execution_count": 33,
   "metadata": {
    "collapsed": false,
    "deletable": true,
    "editable": true
   },
   "outputs": [
    {
     "name": "stdout",
     "output_type": "stream",
     "text": [
      ":As a matter of fact, i do keep random files on my disk.  The reason is,\n",
      ":without special-purpose hardware, it takes a long time to generate good random\n",
      ":bits.  I have programs that crank out a couple bits per minute, which is\n",
      ":pretty conservative, but over time that's more than i need.\n",
      "\n",
      "Sounds like a useful program - interested in posting it to alt.sources?\n"
     ]
    }
   ],
   "source": [
    "'''\n",
    "Text of sample document 4310\n",
    "'''\n",
    "print(documents[document_num])"
   ]
  },
  {
   "cell_type": "code",
   "execution_count": 34,
   "metadata": {
    "collapsed": false,
    "deletable": true,
    "editable": true
   },
   "outputs": [
    {
     "name": "stdout",
     "output_type": "stream",
     "text": [
      "\n",
      "Score: 0.38875851035118103\t \n",
      "Topic: 0.017*\"window\" + 0.014*\"file\" + 0.010*\"drive\" + 0.010*\"program\" + 0.009*\"card\" + 0.007*\"version\" + 0.007*\"softwar\" + 0.007*\"disk\" + 0.006*\"imag\" + 0.006*\"avail\"\n",
      "\n",
      "Score: 0.31239402294158936\t \n",
      "Topic: 0.014*\"encrypt\" + 0.012*\"secur\" + 0.011*\"chip\" + 0.010*\"mail\" + 0.010*\"public\" + 0.010*\"inform\" + 0.008*\"key\" + 0.008*\"govern\" + 0.008*\"messag\" + 0.008*\"clipper\"\n",
      "\n",
      "Score: 0.16709919273853302\t \n",
      "Topic: 0.010*\"believ\" + 0.009*\"christian\" + 0.008*\"mean\" + 0.007*\"jesus\" + 0.006*\"exist\" + 0.006*\"question\" + 0.005*\"word\" + 0.005*\"reason\" + 0.005*\"person\" + 0.005*\"claim\"\n",
      "\n",
      "Score: 0.10866614431142807\t \n",
      "Topic: 0.008*\"tell\" + 0.006*\"take\" + 0.006*\"start\" + 0.005*\"hear\" + 0.005*\"happen\" + 0.005*\"bike\" + 0.005*\"get\" + 0.005*\"leav\" + 0.004*\"littl\" + 0.004*\"live\"\n"
     ]
    }
   ],
   "source": [
    "'''\n",
    "Check which topic our test document belongs to using the LDA Bag of Words model.\n",
    "'''\n",
    "\n",
    "# Our test document is document number 4310\n",
    "for index, score in sorted(lda_model[bow_corpus[document_num]], key=lambda tup: -1*tup[1]):\n",
    "    print(\"\\nScore: {}\\t \\nTopic: {}\".format(score, lda_model.print_topic(index, 10)))"
   ]
  },
  {
   "cell_type": "markdown",
   "metadata": {
    "deletable": true,
    "editable": true
   },
   "source": [
    "### It has the highest probability (`64.5%`) to be  part of the topic that we assigned as Politics, which is the accurate classification. ###"
   ]
  },
  {
   "cell_type": "markdown",
   "metadata": {
    "deletable": true,
    "editable": true
   },
   "source": [
    "## Step 5.2: Performance evaluation by classifying sample document using LDA TF-IDF model##"
   ]
  },
  {
   "cell_type": "code",
   "execution_count": 35,
   "metadata": {
    "collapsed": false,
    "deletable": true,
    "editable": true
   },
   "outputs": [
    {
     "name": "stdout",
     "output_type": "stream",
     "text": [
      "\n",
      "Score: 0.5648282170295715\t \n",
      "Topic: 0.010*\"window\" + 0.007*\"file\" + 0.007*\"card\" + 0.006*\"drive\" + 0.005*\"program\" + 0.004*\"mail\" + 0.004*\"driver\" + 0.004*\"softwar\" + 0.004*\"help\" + 0.004*\"disk\"\n",
      "\n",
      "Score: 0.4043990969657898\t \n",
      "Topic: 0.005*\"encrypt\" + 0.005*\"govern\" + 0.003*\"space\" + 0.003*\"chip\" + 0.003*\"clipper\" + 0.003*\"secur\" + 0.003*\"clinton\" + 0.003*\"phone\" + 0.003*\"public\" + 0.003*\"number\"\n"
     ]
    }
   ],
   "source": [
    "'''\n",
    "Check which topic our test document belongs to using the LDA TF-IDF model.\n",
    "'''\n",
    "\n",
    "# Our test document is document number 4310\n",
    "for index, score in sorted(lda_model_tfidf[bow_corpus[document_num]], key=lambda tup: -1*tup[1]):\n",
    "    print(\"\\nScore: {}\\t \\nTopic: {}\".format(score, lda_model_tfidf.print_topic(index, 10)))"
   ]
  },
  {
   "cell_type": "markdown",
   "metadata": {
    "deletable": true,
    "editable": true
   },
   "source": [
    "### It has the highest probability (`34.1%`) to be  part of the topic that we assigned as Politics. ###"
   ]
  },
  {
   "cell_type": "markdown",
   "metadata": {
    "deletable": true,
    "editable": true
   },
   "source": [
    "## Step 5.2: Performance evaluation of model as a whole ##\n",
    "\n",
    "We use the perplexity(logarithm) for our evaluation. The perplexity is connected to the log likelihood that the model is able to **generate the documents, given the distribution of topics for those documents**. The lower the perplexity, the better the model as it signifies that the model can regenerate the text quite well."
   ]
  },
  {
   "cell_type": "code",
   "execution_count": 35,
   "metadata": {
    "collapsed": false,
    "deletable": true,
    "editable": true
   },
   "outputs": [
    {
     "name": "stdout",
     "output_type": "stream",
     "text": [
      "Log perplexity of the model is -7.37815975223\n"
     ]
    }
   ],
   "source": [
    "'''\n",
    "Calcualte log perplexity of the model to check if the model can generate the text.\n",
    "'''\n",
    "print(\"Log perplexity of the model is\", lda_model.log_perplexity(bow_corpus))"
   ]
  },
  {
   "cell_type": "markdown",
   "metadata": {
    "deletable": true,
    "editable": true
   },
   "source": [
    "## Step 6: Testing model on unseen document ##"
   ]
  },
  {
   "cell_type": "code",
   "execution_count": 36,
   "metadata": {
    "collapsed": false,
    "deletable": true,
    "editable": true
   },
   "outputs": [
    {
     "name": "stdout",
     "output_type": "stream",
     "text": [
      "Score: 0.6035217642784119\t Topic: 0.028*\"game\" + 0.021*\"team\" + 0.017*\"play\" + 0.013*\"player\" + 0.010*\"season\"\n",
      "Score: 0.23645198345184326\t Topic: 0.023*\"space\" + 0.009*\"nasa\" + 0.008*\"research\" + 0.008*\"launch\" + 0.008*\"orbit\"\n",
      "Score: 0.020005032420158386\t Topic: 0.017*\"window\" + 0.014*\"file\" + 0.010*\"drive\" + 0.010*\"program\" + 0.009*\"card\"\n",
      "Score: 0.020004287362098694\t Topic: 0.012*\"israel\" + 0.011*\"kill\" + 0.010*\"jew\" + 0.009*\"govern\" + 0.009*\"isra\"\n",
      "Score: 0.020003488287329674\t Topic: 0.013*\"state\" + 0.012*\"price\" + 0.011*\"sell\" + 0.009*\"sale\" + 0.008*\"money\"\n",
      "Score: 0.020003430545330048\t Topic: 0.008*\"tell\" + 0.006*\"take\" + 0.006*\"start\" + 0.005*\"hear\" + 0.005*\"happen\"\n",
      "Score: 0.020003190264105797\t Topic: 0.014*\"encrypt\" + 0.012*\"secur\" + 0.011*\"chip\" + 0.010*\"mail\" + 0.010*\"public\"\n",
      "Score: 0.020003143697977066\t Topic: 0.014*\"power\" + 0.013*\"wire\" + 0.008*\"line\" + 0.007*\"cabl\" + 0.007*\"connect\"\n",
      "Score: 0.02000228874385357\t Topic: 0.010*\"believ\" + 0.009*\"christian\" + 0.008*\"mean\" + 0.007*\"jesus\" + 0.006*\"exist\"\n",
      "Score: 0.020001456141471863\t Topic: 0.026*\"armenian\" + 0.020*\"file\" + 0.014*\"entri\" + 0.011*\"turkish\" + 0.010*\"program\"\n"
     ]
    }
   ],
   "source": [
    "unseen_document = \"My favorite sports activities are running and swimming.\"\n",
    "\n",
    "# Data preprocessing step for the unseen document\n",
    "bow_vector = dictionary.doc2bow(preprocess(unseen_document))\n",
    "\n",
    "for index, score in sorted(lda_model[bow_vector], key=lambda tup: -1*tup[1]):\n",
    "    print(\"Score: {}\\t Topic: {}\".format(score, lda_model.print_topic(index, 5)))"
   ]
  },
  {
   "cell_type": "markdown",
   "metadata": {
    "deletable": true,
    "editable": true
   },
   "source": [
    "The model correctly classifies the unseen document with 61.6% probability to the Sports category."
   ]
  }
 ],
 "metadata": {
  "kernelspec": {
   "display_name": "Python 3",
   "language": "python",
   "name": "python3"
  },
  "language_info": {
   "codemirror_mode": {
    "name": "ipython",
    "version": 3
   },
   "file_extension": ".py",
   "mimetype": "text/x-python",
   "name": "python",
   "nbconvert_exporter": "python",
   "pygments_lexer": "ipython3",
   "version": "3.5.3"
  }
 },
 "nbformat": 4,
 "nbformat_minor": 1
}
